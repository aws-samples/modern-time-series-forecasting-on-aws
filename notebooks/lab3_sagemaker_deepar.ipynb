{
 "cells": [
  {
   "cell_type": "markdown",
   "metadata": {},
   "source": [
    "# Lab 3: time series forecast with Amazon SageMaker DeepAR\n"
   ]
  },
  {
   "attachments": {},
   "cell_type": "markdown",
   "metadata": {},
   "source": [
    "This notebook demonstrates how to use [Amazon SageMaker DeepAR](https://docs.aws.amazon.com/sagemaker/latest/dg/deepar.html) algorithm for a real use case of predicting energy consumption of 370 customers over time, based on a [dataset](https://archive.ics.uci.edu/ml/datasets/ElectricityLoadDiagrams20112014) that was used in the academic papers [[1]](https://media.nips.cc/nipsbooks/nipspapers/paper_files/nips29/reviews/526.html) and [[2]](https://arxiv.org/abs/1704.04110).  \n",
    "\n",
    "The SageMaker DeepAR forecasting algorithm is a supervised learning algorithm for forecasting scalar (one-dimensional) time series using recurrent neural networks (RNN). DeepAR was created by scientists at Amazon. Specifically, it was developed by researchers in Amazon's Core Machine Learning group. The [original paper](https://arxiv.org/abs/1704.04110) was published on arXiv in 2017.\n",
    "\n",
    "Classical forecasting methods, such as autoregressive integrated moving average (ARIMA) or exponential smoothing (ETS), fit a single model to each individual time series. They then use that model to extrapolate the time series into the future.\n",
    "\n",
    "In many applications, however, you have many similar time series across a set of cross-sectional units. For example, you might have time series groupings for demand for different products, server loads, and requests for webpages. For this type of application, you can benefit from training a single model jointly over all of the time series. DeepAR takes this approach. When your dataset contains hundreds of related time series, DeepAR outperforms the standard ARIMA and ETS methods. You can also use the trained model to generate forecasts for new time series that are similar to the ones it has been trained on. For information on the mathematics behind DeepAR, see [DeepAR: Probabilistic Forecasting with Autoregressive Recurrent Networks](https://arxiv.org/abs/1704.04110).\n",
    "\n",
    "In this notebook you learn how to:\n",
    "- Prepare the dataset for DeepAR training\n",
    "- Use the SageMaker Python SDK and a training job to train a DeepAR model\n",
    "- Deploy a trained model as a real-time endpoint\n",
    "- Make requests to the deployed model to obtain forecasts interactively\n",
    "- Learn advanced features of DeepAR: missing values, additional time features, non-regular frequencies and category information\n",
    "\n",
    "For more information see the DeepAR [documentation](https://docs.aws.amazon.com/sagemaker/latest/dg/deepar.html).\n",
    "\n",
    "This notebook is based on [SageMaker/DeepAR demo on electricity dataset notebook](https://github.com/aws/amazon-sagemaker-examples/blob/main/introduction_to_amazon_algorithms/deepar_electricity/DeepAR-Electricity.ipynb) from a public GitHub repo [Amazon SageMaker examples](https://github.com/aws/amazon-sagemaker-examples/tree/main) and the blog post [Deep demand forecasting with Amazon SageMaker](https://aws.amazon.com/blogs/machine-learning/deep-demand-forecasting-with-amazon-sagemaker/).\n",
    "\n",
    "## Implementations of DeepAR\n",
    "There are several implementations of DeepAR algorithms:\n",
    "- SageMaker DeepAR: this notebook demonstrates using this specific implementation\n",
    "- [GluonTS DeepAR](https://ts.gluon.ai/stable/getting_started/models.html): GluonTS library includes many other algorithms for probabilisitic time series modeling. GluonTS provides [MXNet](https://github.com/awslabs/gluonts/blob/dev/src/gluonts/mx/model/deepar/_estimator.py) and [PyTorch](https://github.com/awslabs/gluonts/blob/dev/src/gluonts/torch/model/deepar/estimator.py) implementations of DeepAR."
   ]
  },
  {
   "cell_type": "markdown",
   "metadata": {},
   "source": [
    "## Import packages"
   ]
  },
  {
   "cell_type": "markdown",
   "metadata": {},
   "source": [
    "<img src=\"data:image/svg+xml;base64,Cjxzdmcgd2lkdGg9IjgwMCIgaGVpZ2h0PSIxMjUiIHZpZXdCb3g9IjAgMCA4MDAgMTI1IiB4bWxucz0iaHR0cDovL3d3dy53My5vcmcvMjAwMC9zdmciPgogICAgPGRlZnM+CiAgICAgICAgPGxpbmVhckdyYWRpZW50IGlkPSJmYWRlR3JhZGllbnQiIHgxPSIwIiB4Mj0iMSI+CiAgICAgICAgICAgIDxzdG9wIG9mZnNldD0iMCUiIHN0b3AtY29sb3I9IiNGMEYwRjAiLz4KICAgICAgICAgICAgPHN0b3Agb2Zmc2V0PSIxMDAlIiBzdG9wLWNvbG9yPSIjRjBGMEYwIiBzdG9wLW9wYWNpdHk9IjAiLz4KICAgICAgICA8L2xpbmVhckdyYWRpZW50PgogICAgICAgIDxtYXNrIGlkPSJmYWRlTWFzayI+CiAgICAgICAgICAgIDxyZWN0IHg9IjAiIHk9IjAiIHdpZHRoPSI3NTAiIGhlaWdodD0iMTI1IiBmaWxsPSJ3aGl0ZSIvPgogICAgICAgICAgICA8cmVjdCB4PSI3NTAiIHk9IjAiIHdpZHRoPSI1MCIgaGVpZ2h0PSIxMjUiIGZpbGw9InVybCgjZmFkZUdyYWRpZW50KSIvPgogICAgICAgIDwvbWFzaz4KICAgIDwvZGVmcz4KICAgIDxwYXRoIGQ9Ik0zLDUwIEE1MCw1MCAwIDAgMSA1MywzIEw3OTcsMyBMNzk3LDk3IEw5Nyw5NyBMNTAsMTE1IEwzLDk3IFoiIGZpbGw9IiNGMEYwRjAiIHN0cm9rZT0iI0UwRTBFMCIgc3Ryb2tlLXdpZHRoPSIxIiBtYXNrPSJ1cmwoI2ZhZGVNYXNrKSIvPgogICAgPGNpcmNsZSBjeD0iNTAiIGN5PSI1MCIgcj0iMzAiIGZpbGw9IiM1N2M0ZjgiIHN0cm9rZT0iIzU3YzRmOCIgc3Ryb2tlLXdpZHRoPSIxIi8+CiAgICA8Y2lyY2xlIGN4PSI1MCIgY3k9IjUwIiByPSIyNSIgZmlsbD0iI0YwRjBGMCIvPgogICAgPGxpbmUgeDE9IjUwIiB5MT0iNTAiIHgyPSI1MCIgeTI9IjMwIiBzdHJva2U9IiM1N2M0ZjgiIHN0cm9rZS13aWR0aD0iMyIgc3Ryb2tlLWxpbmVjYXA9InJvdW5kIi8+CiAgICA8bGluZSB4MT0iNTAiIHkxPSI1MCIgeDI9IjY1IiB5Mj0iNTAiIHN0cm9rZT0iIzU3YzRmOCIgc3Ryb2tlLXdpZHRoPSIzIiBzdHJva2UtbGluZWNhcD0icm91bmQiLz4KICAgIDx0ZXh0IHg9IjEwMCIgeT0iMzQiIGZvbnQtZmFtaWx5PSJBcmlhbCwgc2Fucy1zZXJpZiIgZm9udC1zaXplPSIxNCIgZmlsbD0iIzMzMzMzMyI+VGhlIG5leHQgY2VsbCBtYXkgdGFrZSBhIGZldyBtaW51dGVzIHRvIHJ1bi4gUGxlYXNlIGJlIHBhdGllbnQuPC90ZXh0PgogICAgPHRleHQgeD0iMTAwIiB5PSI1NiIgZm9udC1mYW1pbHk9IkFyaWFsLCBzYW5zLXNlcmlmIiBmb250LXNpemU9IjE0IiBmaWxsPSIjMzMzMzMzIj5JZ25vcmUgdGhlIHdhcm5pbmdzIGFuZCBlcnJvcnMsIGFsb25nIHdpdGggdGhlIG5vdGUgYWJvdXQgcmVzdGFydGluZyB0aGUga2VybmVsIGF0IHRoZSBlbmQuPC90ZXh0Pgo8L3N2Zz4K\" alt=\"Time alert open medium\"/>\n"
   ]
  },
  {
   "cell_type": "code",
   "execution_count": 1,
   "metadata": {},
   "outputs": [
    {
     "name": "stdout",
     "output_type": "stream",
     "text": [
      "\u001b[31mERROR: pip's dependency resolver does not currently take into account all the packages that are installed. This behaviour is the source of the following dependency conflicts.\n",
      "autogluon-multimodal 1.1.1 requires nvidia-ml-py3==7.352.0, which is not installed.\n",
      "aiobotocore 2.13.2 requires botocore<1.34.132,>=1.34.70, but you have botocore 1.35.43 which is incompatible.\n",
      "amazon-sagemaker-sql-magic 0.1.3 requires sqlparse==0.5.0, but you have sqlparse 0.5.1 which is incompatible.\n",
      "autogluon-core 1.1.1 requires scikit-learn<1.4.1,>=1.3.0, but you have scikit-learn 1.4.2 which is incompatible.\n",
      "autogluon-features 1.1.1 requires scikit-learn<1.4.1,>=1.3.0, but you have scikit-learn 1.4.2 which is incompatible.\n",
      "autogluon-multimodal 1.1.1 requires omegaconf<2.3.0,>=2.1.1, but you have omegaconf 2.3.0 which is incompatible.\n",
      "autogluon-multimodal 1.1.1 requires scikit-learn<1.4.1,>=1.3.0, but you have scikit-learn 1.4.2 which is incompatible.\n",
      "autogluon-tabular 1.1.1 requires scikit-learn<1.4.1,>=1.3.0, but you have scikit-learn 1.4.2 which is incompatible.\n",
      "autogluon-timeseries 1.1.1 requires gluonts==0.15.1, but you have gluonts 0.14.3 which is incompatible.\n",
      "langchain-aws 0.1.16 requires boto3<1.35.0,>=1.34.131, but you have boto3 1.35.43 which is incompatible.\n",
      "sparkmagic 0.21.0 requires pandas<2.0.0,>=0.17.1, but you have pandas 2.2.2 which is incompatible.\n",
      "virtualenv 20.21.0 requires platformdirs<4,>=2.4, but you have platformdirs 4.3.6 which is incompatible.\u001b[0m\u001b[31m\n",
      "\u001b[0mNote: you may need to restart the kernel to use updated packages.\n"
     ]
    }
   ],
   "source": [
    "%pip install -qU pip sagemaker boto3 s3fs jsonlines"
   ]
  },
  {
   "cell_type": "markdown",
   "metadata": {},
   "source": [
    "<img src=\"data:image/svg+xml;base64,Cjxzdmcgd2lkdGg9IjgwMCIgaGVpZ2h0PSI1MCIgdmlld0JveD0iMCAwIDgwMCA1MCIgeG1sbnM9Imh0dHA6Ly93d3cudzMub3JnLzIwMDAvc3ZnIj4KICAgIDxkZWZzPgogICAgICAgIDxsaW5lYXJHcmFkaWVudCBpZD0iZmFkZUdyYWRpZW50IiB4MT0iMCIgeDI9IjEiPgogICAgICAgICAgICA8c3RvcCBvZmZzZXQ9IjAlIiBzdG9wLWNvbG9yPSIjRjBGMEYwIi8+CiAgICAgICAgICAgIDxzdG9wIG9mZnNldD0iMTAwJSIgc3RvcC1jb2xvcj0iI0YwRjBGMCIgc3RvcC1vcGFjaXR5PSIwIi8+CiAgICAgICAgPC9saW5lYXJHcmFkaWVudD4KICAgICAgICA8bWFzayBpZD0iZmFkZU1hc2siPgogICAgICAgICAgICA8cmVjdCB4PSIwIiB5PSIwIiB3aWR0aD0iNzUwIiBoZWlnaHQ9IjUwIiBmaWxsPSJ3aGl0ZSIvPgogICAgICAgICAgICA8cmVjdCB4PSI3NTAiIHk9IjAiIHdpZHRoPSI1MCIgaGVpZ2h0PSI1MCIgZmlsbD0idXJsKCNmYWRlR3JhZGllbnQpIi8+CiAgICAgICAgPC9tYXNrPgogICAgPC9kZWZzPgogICAgPHBhdGggZD0iTTI1LDUwIFEwLDUwIDAsMjUgTDUwLDMgTDk3LDI1IEw3OTcsMjUgTDc5Nyw1MCBMMjUsNTAgWiIgZmlsbD0iI0YwRjBGMCIgc3Ryb2tlPSIjRTBFMEUwIiBzdHJva2Utd2lkdGg9IjEiIG1hc2s9InVybCgjZmFkZU1hc2spIi8+Cjwvc3ZnPgo=\" alt=\"Time alert close\"/>"
   ]
  },
  {
   "cell_type": "code",
   "execution_count": 2,
   "metadata": {},
   "outputs": [
    {
     "name": "stdout",
     "output_type": "stream",
     "text": [
      "sagemaker.config INFO - Not applying SDK defaults from location: /etc/xdg/sagemaker/config.yaml\n",
      "sagemaker.config INFO - Not applying SDK defaults from location: /home/sagemaker-user/.config/sagemaker/config.yaml\n"
     ]
    }
   ],
   "source": [
    "from __future__ import print_function\n",
    "\n",
    "%matplotlib inline\n",
    "\n",
    "import sys\n",
    "import zipfile\n",
    "from dateutil.parser import parse\n",
    "import json\n",
    "from random import shuffle\n",
    "import random\n",
    "import datetime\n",
    "import os\n",
    "import jsonlines\n",
    "import boto3\n",
    "import s3fs\n",
    "import sagemaker\n",
    "import numpy as np\n",
    "import pandas as pd\n",
    "import matplotlib.pyplot as plt\n",
    "from datetime import timedelta\n",
    "from time import gmtime, strftime, sleep\n",
    "import tqdm\n",
    "from sagemaker.s3 import S3Downloader, S3Uploader\n",
    "\n",
    "from ipywidgets import interact, interactive, fixed, interact_manual\n",
    "import ipywidgets as widgets\n",
    "from ipywidgets import IntSlider, FloatSlider, Checkbox, Select"
   ]
  },
  {
   "cell_type": "markdown",
   "metadata": {},
   "source": [
    "## Set literals and general variables"
   ]
  },
  {
   "cell_type": "code",
   "execution_count": 7,
   "metadata": {},
   "outputs": [],
   "source": [
    "# set random seeds for reproducibility\n",
    "np.random.seed(42)\n",
    "random.seed(42)"
   ]
  },
  {
   "cell_type": "code",
   "execution_count": 8,
   "metadata": {},
   "outputs": [],
   "source": [
    "sagemaker_session = sagemaker.Session()"
   ]
  },
  {
   "cell_type": "code",
   "execution_count": 9,
   "metadata": {},
   "outputs": [],
   "source": [
    "s3_bucket = sagemaker_session.default_bucket()  # replace with an existing bucket if needed\n",
    "s3_prefix = \"deepar-demo-notebook\"  # prefix used for all data stored within the bucket\n",
    "experiment_prefix = \"deepar\"\n",
    "\n",
    "sm_role = sagemaker.get_execution_role()  # IAM role to use by SageMaker"
   ]
  },
  {
   "cell_type": "code",
   "execution_count": 10,
   "metadata": {},
   "outputs": [],
   "source": [
    "region = sagemaker_session.boto_region_name\n",
    "\n",
    "s3_data_path = f\"s3://{s3_bucket}/{s3_prefix}/data\"\n",
    "s3_output_path = f\"s3://{s3_bucket}/{s3_prefix}/output\""
   ]
  },
  {
   "cell_type": "markdown",
   "metadata": {},
   "source": [
    "Get the URI of the container image of the DeepAR algorithm container for the region that the notebook is running in."
   ]
  },
  {
   "cell_type": "code",
   "execution_count": 11,
   "metadata": {},
   "outputs": [],
   "source": [
    "image_name = sagemaker.image_uris.retrieve(\"forecasting-deepar\", region)"
   ]
  },
  {
   "cell_type": "code",
   "execution_count": 12,
   "metadata": {},
   "outputs": [],
   "source": [
    "# maps of quota codes to instance types\n",
    "ep_instance_quota_code_map = {\n",
    "    \"ml.m5.4xlarge\":\"L-E2649D46\",\n",
    "    \"ml.m5.xlarge\":\"L-2F737F8D\",\n",
    "}\n",
    "\n",
    "training_instance_quota_code_map = {\n",
    "    \"ml.c5.4xlarge\":\"L-E7898792\",\n",
    "    \"ml.p2.xlarge\":\"L-5585E645\",\n",
    "    \"ml.m5.4xlarge\":\"L-AFB011B4\",\n",
    "    \"ml.c5.2xlarge\":\"L-49679826\",\n",
    "    \"ml.m5.2xlarge\":\"L-AD0A282D\",\n",
    "}"
   ]
  },
  {
   "cell_type": "code",
   "execution_count": 13,
   "metadata": {},
   "outputs": [],
   "source": [
    "# helper to check resource quota in the account\n",
    "def check_quota(q_map, instance, min_n=1):\n",
    "    quotas_client = boto3.client(\"service-quotas\")\n",
    "\n",
    "\n",
    "    r = quotas_client.get_service_quota(\n",
    "        ServiceCode=\"sagemaker\",\n",
    "        QuotaCode=q_map[instance],\n",
    "    )\n",
    "\n",
    "    q = r[\"Quota\"][\"Value\"]\n",
    "    n = r[\"Quota\"][\"QuotaName\"]\n",
    "    min_n = min_n\n",
    "\n",
    "    b = q >= min_n\n",
    "\n",
    "    print(f\"\\033[92mSUCCESS: Quota {q} for {n} >= required {min_n}\\033[0m\" if b else f\"\\033[91mWARNING: Quota {q} for {n} < required {min_n}\\033[0m\")\n",
    "\n",
    "    return b\n",
    "\n",
    "# helper to get the first available instance in the quota map\n",
    "def get_best_instance(q_map):\n",
    "    l = [i for i in\n",
    "            [i if check_quota(q_map, i) else None \n",
    "             for i in q_map.keys()] if i is not None]\n",
    "    return l[0] if len(l) > 0 else ''"
   ]
  },
  {
   "cell_type": "markdown",
   "metadata": {},
   "source": [
    "## Download the dataset"
   ]
  },
  {
   "cell_type": "markdown",
   "metadata": {},
   "source": [
    "Download the from the SageMaker example S3 bucket. You use the [electricity dataset](https://archive.ics.uci.edu/ml/datasets/ElectricityLoadDiagrams20112014) from the repository of the University of California, Irvine:\n",
    "> Trindade, Artur. (2015). ElectricityLoadDiagrams20112014. UCI Machine Learning Repository. https://doi.org/10.24432/C58C86."
   ]
  },
  {
   "cell_type": "code",
   "execution_count": 14,
   "metadata": {},
   "outputs": [],
   "source": [
    "os.makedirs(\"./data\", exist_ok=True)"
   ]
  },
  {
   "cell_type": "code",
   "execution_count": 15,
   "metadata": {},
   "outputs": [],
   "source": [
    "dataset_zip_file_name = 'LD2011_2014.txt.zip'\n",
    "dataset_path = './data/LD2011_2014.txt'\n",
    "\n",
    "s3_dataset_path = f\"datasets/timeseries/uci_electricity/{dataset_zip_file_name}\""
   ]
  },
  {
   "cell_type": "code",
   "execution_count": 16,
   "metadata": {},
   "outputs": [
    {
     "name": "stdout",
     "output_type": "stream",
     "text": [
      "The dataset ./data/LD2011_2014.txt exists, skipping download and unzip!\n"
     ]
    }
   ],
   "source": [
    "if not os.path.isfile(dataset_path):\n",
    "    print(f'Downloading and unzipping the dataset to {dataset_path}')\n",
    "    s3_client = boto3.client(\"s3\")\n",
    "    s3_client.download_file(\n",
    "        f\"sagemaker-example-files-prod-{region}\", s3_dataset_path, f\"./data/{dataset_zip_file_name}\"\n",
    "    )\n",
    "\n",
    "    zip_ref = zipfile.ZipFile(f\"./data/{dataset_zip_file_name}\", \"r\")\n",
    "    zip_ref.extractall(\"./data\")\n",
    "    zip_ref.close()\n",
    "    dataset_path = '.'.join(zip_ref.filename.split('.')[:-1])\n",
    "else:\n",
    "    print(f'The dataset {dataset_path} exists, skipping download and unzip!')"
   ]
  },
  {
   "cell_type": "code",
   "execution_count": 17,
   "metadata": {},
   "outputs": [],
   "source": [
    "# !head {dataset_path}"
   ]
  },
  {
   "cell_type": "markdown",
   "metadata": {},
   "source": [
    "## Explore and preprocess data\n",
    "Load the dataset and convert it to a collection of Pandas time series, which makes common time series operations such as indexing by time periods or resampling much easier. The data is originally recorded in 15 min interval, which you could use directly. This example forecasts longer periods (one week) and resample the data to a granularity of 2 hours."
   ]
  },
  {
   "cell_type": "code",
   "execution_count": 18,
   "metadata": {},
   "outputs": [],
   "source": [
    "df_raw = pd.read_csv(\n",
    "    dataset_path, \n",
    "    sep=';', \n",
    "    index_col=0,\n",
    "    decimal=',',\n",
    "    parse_dates=True,\n",
    ")"
   ]
  },
  {
   "cell_type": "code",
   "execution_count": 19,
   "metadata": {},
   "outputs": [
    {
     "data": {
      "text/html": [
       "<div>\n",
       "<style scoped>\n",
       "    .dataframe tbody tr th:only-of-type {\n",
       "        vertical-align: middle;\n",
       "    }\n",
       "\n",
       "    .dataframe tbody tr th {\n",
       "        vertical-align: top;\n",
       "    }\n",
       "\n",
       "    .dataframe thead th {\n",
       "        text-align: right;\n",
       "    }\n",
       "</style>\n",
       "<table border=\"1\" class=\"dataframe\">\n",
       "  <thead>\n",
       "    <tr style=\"text-align: right;\">\n",
       "      <th></th>\n",
       "      <th>MT_001</th>\n",
       "      <th>MT_002</th>\n",
       "      <th>MT_003</th>\n",
       "      <th>MT_004</th>\n",
       "      <th>MT_005</th>\n",
       "      <th>MT_006</th>\n",
       "      <th>MT_007</th>\n",
       "      <th>MT_008</th>\n",
       "      <th>MT_009</th>\n",
       "      <th>MT_010</th>\n",
       "      <th>...</th>\n",
       "      <th>MT_361</th>\n",
       "      <th>MT_362</th>\n",
       "      <th>MT_363</th>\n",
       "      <th>MT_364</th>\n",
       "      <th>MT_365</th>\n",
       "      <th>MT_366</th>\n",
       "      <th>MT_367</th>\n",
       "      <th>MT_368</th>\n",
       "      <th>MT_369</th>\n",
       "      <th>MT_370</th>\n",
       "    </tr>\n",
       "  </thead>\n",
       "  <tbody>\n",
       "    <tr>\n",
       "      <th>2011-01-01 00:15:00</th>\n",
       "      <td>0.000000</td>\n",
       "      <td>0.000000</td>\n",
       "      <td>0.000000</td>\n",
       "      <td>0.000000</td>\n",
       "      <td>0.000000</td>\n",
       "      <td>0.000000</td>\n",
       "      <td>0.000000</td>\n",
       "      <td>0.000000</td>\n",
       "      <td>0.000000</td>\n",
       "      <td>0.000000</td>\n",
       "      <td>...</td>\n",
       "      <td>0.000000</td>\n",
       "      <td>0.0</td>\n",
       "      <td>0.000000</td>\n",
       "      <td>0.000000</td>\n",
       "      <td>0.000000</td>\n",
       "      <td>0.000000</td>\n",
       "      <td>0.000000</td>\n",
       "      <td>0.000000</td>\n",
       "      <td>0.000000</td>\n",
       "      <td>0.000000</td>\n",
       "    </tr>\n",
       "    <tr>\n",
       "      <th>2011-01-01 00:30:00</th>\n",
       "      <td>0.000000</td>\n",
       "      <td>0.000000</td>\n",
       "      <td>0.000000</td>\n",
       "      <td>0.000000</td>\n",
       "      <td>0.000000</td>\n",
       "      <td>0.000000</td>\n",
       "      <td>0.000000</td>\n",
       "      <td>0.000000</td>\n",
       "      <td>0.000000</td>\n",
       "      <td>0.000000</td>\n",
       "      <td>...</td>\n",
       "      <td>0.000000</td>\n",
       "      <td>0.0</td>\n",
       "      <td>0.000000</td>\n",
       "      <td>0.000000</td>\n",
       "      <td>0.000000</td>\n",
       "      <td>0.000000</td>\n",
       "      <td>0.000000</td>\n",
       "      <td>0.000000</td>\n",
       "      <td>0.000000</td>\n",
       "      <td>0.000000</td>\n",
       "    </tr>\n",
       "    <tr>\n",
       "      <th>2011-01-01 00:45:00</th>\n",
       "      <td>0.000000</td>\n",
       "      <td>0.000000</td>\n",
       "      <td>0.000000</td>\n",
       "      <td>0.000000</td>\n",
       "      <td>0.000000</td>\n",
       "      <td>0.000000</td>\n",
       "      <td>0.000000</td>\n",
       "      <td>0.000000</td>\n",
       "      <td>0.000000</td>\n",
       "      <td>0.000000</td>\n",
       "      <td>...</td>\n",
       "      <td>0.000000</td>\n",
       "      <td>0.0</td>\n",
       "      <td>0.000000</td>\n",
       "      <td>0.000000</td>\n",
       "      <td>0.000000</td>\n",
       "      <td>0.000000</td>\n",
       "      <td>0.000000</td>\n",
       "      <td>0.000000</td>\n",
       "      <td>0.000000</td>\n",
       "      <td>0.000000</td>\n",
       "    </tr>\n",
       "    <tr>\n",
       "      <th>2011-01-01 01:00:00</th>\n",
       "      <td>0.000000</td>\n",
       "      <td>0.000000</td>\n",
       "      <td>0.000000</td>\n",
       "      <td>0.000000</td>\n",
       "      <td>0.000000</td>\n",
       "      <td>0.000000</td>\n",
       "      <td>0.000000</td>\n",
       "      <td>0.000000</td>\n",
       "      <td>0.000000</td>\n",
       "      <td>0.000000</td>\n",
       "      <td>...</td>\n",
       "      <td>0.000000</td>\n",
       "      <td>0.0</td>\n",
       "      <td>0.000000</td>\n",
       "      <td>0.000000</td>\n",
       "      <td>0.000000</td>\n",
       "      <td>0.000000</td>\n",
       "      <td>0.000000</td>\n",
       "      <td>0.000000</td>\n",
       "      <td>0.000000</td>\n",
       "      <td>0.000000</td>\n",
       "    </tr>\n",
       "    <tr>\n",
       "      <th>2011-01-01 01:15:00</th>\n",
       "      <td>0.000000</td>\n",
       "      <td>0.000000</td>\n",
       "      <td>0.000000</td>\n",
       "      <td>0.000000</td>\n",
       "      <td>0.000000</td>\n",
       "      <td>0.000000</td>\n",
       "      <td>0.000000</td>\n",
       "      <td>0.000000</td>\n",
       "      <td>0.000000</td>\n",
       "      <td>0.000000</td>\n",
       "      <td>...</td>\n",
       "      <td>0.000000</td>\n",
       "      <td>0.0</td>\n",
       "      <td>0.000000</td>\n",
       "      <td>0.000000</td>\n",
       "      <td>0.000000</td>\n",
       "      <td>0.000000</td>\n",
       "      <td>0.000000</td>\n",
       "      <td>0.000000</td>\n",
       "      <td>0.000000</td>\n",
       "      <td>0.000000</td>\n",
       "    </tr>\n",
       "    <tr>\n",
       "      <th>...</th>\n",
       "      <td>...</td>\n",
       "      <td>...</td>\n",
       "      <td>...</td>\n",
       "      <td>...</td>\n",
       "      <td>...</td>\n",
       "      <td>...</td>\n",
       "      <td>...</td>\n",
       "      <td>...</td>\n",
       "      <td>...</td>\n",
       "      <td>...</td>\n",
       "      <td>...</td>\n",
       "      <td>...</td>\n",
       "      <td>...</td>\n",
       "      <td>...</td>\n",
       "      <td>...</td>\n",
       "      <td>...</td>\n",
       "      <td>...</td>\n",
       "      <td>...</td>\n",
       "      <td>...</td>\n",
       "      <td>...</td>\n",
       "      <td>...</td>\n",
       "    </tr>\n",
       "    <tr>\n",
       "      <th>2014-12-31 23:00:00</th>\n",
       "      <td>2.538071</td>\n",
       "      <td>22.048364</td>\n",
       "      <td>1.737619</td>\n",
       "      <td>150.406504</td>\n",
       "      <td>85.365854</td>\n",
       "      <td>303.571429</td>\n",
       "      <td>11.305822</td>\n",
       "      <td>282.828283</td>\n",
       "      <td>68.181818</td>\n",
       "      <td>72.043011</td>\n",
       "      <td>...</td>\n",
       "      <td>276.945039</td>\n",
       "      <td>28200.0</td>\n",
       "      <td>1616.033755</td>\n",
       "      <td>1363.636364</td>\n",
       "      <td>29.986962</td>\n",
       "      <td>5.851375</td>\n",
       "      <td>697.102722</td>\n",
       "      <td>176.961603</td>\n",
       "      <td>651.026393</td>\n",
       "      <td>7621.621622</td>\n",
       "    </tr>\n",
       "    <tr>\n",
       "      <th>2014-12-31 23:15:00</th>\n",
       "      <td>2.538071</td>\n",
       "      <td>21.337127</td>\n",
       "      <td>1.737619</td>\n",
       "      <td>166.666667</td>\n",
       "      <td>81.707317</td>\n",
       "      <td>324.404762</td>\n",
       "      <td>11.305822</td>\n",
       "      <td>252.525253</td>\n",
       "      <td>64.685315</td>\n",
       "      <td>72.043011</td>\n",
       "      <td>...</td>\n",
       "      <td>279.800143</td>\n",
       "      <td>28300.0</td>\n",
       "      <td>1569.620253</td>\n",
       "      <td>1340.909091</td>\n",
       "      <td>29.986962</td>\n",
       "      <td>9.947338</td>\n",
       "      <td>671.641791</td>\n",
       "      <td>168.614357</td>\n",
       "      <td>669.354839</td>\n",
       "      <td>6702.702703</td>\n",
       "    </tr>\n",
       "    <tr>\n",
       "      <th>2014-12-31 23:30:00</th>\n",
       "      <td>2.538071</td>\n",
       "      <td>20.625889</td>\n",
       "      <td>1.737619</td>\n",
       "      <td>162.601626</td>\n",
       "      <td>82.926829</td>\n",
       "      <td>318.452381</td>\n",
       "      <td>10.175240</td>\n",
       "      <td>242.424242</td>\n",
       "      <td>61.188811</td>\n",
       "      <td>74.193548</td>\n",
       "      <td>...</td>\n",
       "      <td>284.796574</td>\n",
       "      <td>27800.0</td>\n",
       "      <td>1556.962025</td>\n",
       "      <td>1318.181818</td>\n",
       "      <td>27.379400</td>\n",
       "      <td>9.362200</td>\n",
       "      <td>670.763828</td>\n",
       "      <td>153.589316</td>\n",
       "      <td>670.087977</td>\n",
       "      <td>6864.864865</td>\n",
       "    </tr>\n",
       "    <tr>\n",
       "      <th>2014-12-31 23:45:00</th>\n",
       "      <td>1.269036</td>\n",
       "      <td>21.337127</td>\n",
       "      <td>1.737619</td>\n",
       "      <td>166.666667</td>\n",
       "      <td>85.365854</td>\n",
       "      <td>285.714286</td>\n",
       "      <td>10.175240</td>\n",
       "      <td>225.589226</td>\n",
       "      <td>64.685315</td>\n",
       "      <td>72.043011</td>\n",
       "      <td>...</td>\n",
       "      <td>246.252677</td>\n",
       "      <td>28000.0</td>\n",
       "      <td>1443.037975</td>\n",
       "      <td>909.090909</td>\n",
       "      <td>26.075619</td>\n",
       "      <td>4.095963</td>\n",
       "      <td>664.618086</td>\n",
       "      <td>146.911519</td>\n",
       "      <td>646.627566</td>\n",
       "      <td>6540.540541</td>\n",
       "    </tr>\n",
       "    <tr>\n",
       "      <th>2015-01-01 00:00:00</th>\n",
       "      <td>2.538071</td>\n",
       "      <td>19.914651</td>\n",
       "      <td>1.737619</td>\n",
       "      <td>178.861789</td>\n",
       "      <td>84.146341</td>\n",
       "      <td>279.761905</td>\n",
       "      <td>10.175240</td>\n",
       "      <td>249.158249</td>\n",
       "      <td>62.937063</td>\n",
       "      <td>69.892473</td>\n",
       "      <td>...</td>\n",
       "      <td>188.436831</td>\n",
       "      <td>27800.0</td>\n",
       "      <td>1409.282700</td>\n",
       "      <td>954.545455</td>\n",
       "      <td>27.379400</td>\n",
       "      <td>4.095963</td>\n",
       "      <td>628.621598</td>\n",
       "      <td>131.886477</td>\n",
       "      <td>673.020528</td>\n",
       "      <td>7135.135135</td>\n",
       "    </tr>\n",
       "  </tbody>\n",
       "</table>\n",
       "<p>140256 rows × 370 columns</p>\n",
       "</div>"
      ],
      "text/plain": [
       "                       MT_001     MT_002    MT_003      MT_004     MT_005  \\\n",
       "2011-01-01 00:15:00  0.000000   0.000000  0.000000    0.000000   0.000000   \n",
       "2011-01-01 00:30:00  0.000000   0.000000  0.000000    0.000000   0.000000   \n",
       "2011-01-01 00:45:00  0.000000   0.000000  0.000000    0.000000   0.000000   \n",
       "2011-01-01 01:00:00  0.000000   0.000000  0.000000    0.000000   0.000000   \n",
       "2011-01-01 01:15:00  0.000000   0.000000  0.000000    0.000000   0.000000   \n",
       "...                       ...        ...       ...         ...        ...   \n",
       "2014-12-31 23:00:00  2.538071  22.048364  1.737619  150.406504  85.365854   \n",
       "2014-12-31 23:15:00  2.538071  21.337127  1.737619  166.666667  81.707317   \n",
       "2014-12-31 23:30:00  2.538071  20.625889  1.737619  162.601626  82.926829   \n",
       "2014-12-31 23:45:00  1.269036  21.337127  1.737619  166.666667  85.365854   \n",
       "2015-01-01 00:00:00  2.538071  19.914651  1.737619  178.861789  84.146341   \n",
       "\n",
       "                         MT_006     MT_007      MT_008     MT_009     MT_010  \\\n",
       "2011-01-01 00:15:00    0.000000   0.000000    0.000000   0.000000   0.000000   \n",
       "2011-01-01 00:30:00    0.000000   0.000000    0.000000   0.000000   0.000000   \n",
       "2011-01-01 00:45:00    0.000000   0.000000    0.000000   0.000000   0.000000   \n",
       "2011-01-01 01:00:00    0.000000   0.000000    0.000000   0.000000   0.000000   \n",
       "2011-01-01 01:15:00    0.000000   0.000000    0.000000   0.000000   0.000000   \n",
       "...                         ...        ...         ...        ...        ...   \n",
       "2014-12-31 23:00:00  303.571429  11.305822  282.828283  68.181818  72.043011   \n",
       "2014-12-31 23:15:00  324.404762  11.305822  252.525253  64.685315  72.043011   \n",
       "2014-12-31 23:30:00  318.452381  10.175240  242.424242  61.188811  74.193548   \n",
       "2014-12-31 23:45:00  285.714286  10.175240  225.589226  64.685315  72.043011   \n",
       "2015-01-01 00:00:00  279.761905  10.175240  249.158249  62.937063  69.892473   \n",
       "\n",
       "                     ...      MT_361   MT_362       MT_363       MT_364  \\\n",
       "2011-01-01 00:15:00  ...    0.000000      0.0     0.000000     0.000000   \n",
       "2011-01-01 00:30:00  ...    0.000000      0.0     0.000000     0.000000   \n",
       "2011-01-01 00:45:00  ...    0.000000      0.0     0.000000     0.000000   \n",
       "2011-01-01 01:00:00  ...    0.000000      0.0     0.000000     0.000000   \n",
       "2011-01-01 01:15:00  ...    0.000000      0.0     0.000000     0.000000   \n",
       "...                  ...         ...      ...          ...          ...   \n",
       "2014-12-31 23:00:00  ...  276.945039  28200.0  1616.033755  1363.636364   \n",
       "2014-12-31 23:15:00  ...  279.800143  28300.0  1569.620253  1340.909091   \n",
       "2014-12-31 23:30:00  ...  284.796574  27800.0  1556.962025  1318.181818   \n",
       "2014-12-31 23:45:00  ...  246.252677  28000.0  1443.037975   909.090909   \n",
       "2015-01-01 00:00:00  ...  188.436831  27800.0  1409.282700   954.545455   \n",
       "\n",
       "                        MT_365    MT_366      MT_367      MT_368      MT_369  \\\n",
       "2011-01-01 00:15:00   0.000000  0.000000    0.000000    0.000000    0.000000   \n",
       "2011-01-01 00:30:00   0.000000  0.000000    0.000000    0.000000    0.000000   \n",
       "2011-01-01 00:45:00   0.000000  0.000000    0.000000    0.000000    0.000000   \n",
       "2011-01-01 01:00:00   0.000000  0.000000    0.000000    0.000000    0.000000   \n",
       "2011-01-01 01:15:00   0.000000  0.000000    0.000000    0.000000    0.000000   \n",
       "...                        ...       ...         ...         ...         ...   \n",
       "2014-12-31 23:00:00  29.986962  5.851375  697.102722  176.961603  651.026393   \n",
       "2014-12-31 23:15:00  29.986962  9.947338  671.641791  168.614357  669.354839   \n",
       "2014-12-31 23:30:00  27.379400  9.362200  670.763828  153.589316  670.087977   \n",
       "2014-12-31 23:45:00  26.075619  4.095963  664.618086  146.911519  646.627566   \n",
       "2015-01-01 00:00:00  27.379400  4.095963  628.621598  131.886477  673.020528   \n",
       "\n",
       "                          MT_370  \n",
       "2011-01-01 00:15:00     0.000000  \n",
       "2011-01-01 00:30:00     0.000000  \n",
       "2011-01-01 00:45:00     0.000000  \n",
       "2011-01-01 01:00:00     0.000000  \n",
       "2011-01-01 01:15:00     0.000000  \n",
       "...                          ...  \n",
       "2014-12-31 23:00:00  7621.621622  \n",
       "2014-12-31 23:15:00  6702.702703  \n",
       "2014-12-31 23:30:00  6864.864865  \n",
       "2014-12-31 23:45:00  6540.540541  \n",
       "2015-01-01 00:00:00  7135.135135  \n",
       "\n",
       "[140256 rows x 370 columns]"
      ]
     },
     "execution_count": 19,
     "metadata": {},
     "output_type": "execute_result"
    }
   ],
   "source": [
    "df_raw"
   ]
  },
  {
   "cell_type": "code",
   "execution_count": 20,
   "metadata": {},
   "outputs": [
    {
     "data": {
      "text/html": [
       "<div>\n",
       "<style scoped>\n",
       "    .dataframe tbody tr th:only-of-type {\n",
       "        vertical-align: middle;\n",
       "    }\n",
       "\n",
       "    .dataframe tbody tr th {\n",
       "        vertical-align: top;\n",
       "    }\n",
       "\n",
       "    .dataframe thead th {\n",
       "        text-align: right;\n",
       "    }\n",
       "</style>\n",
       "<table border=\"1\" class=\"dataframe\">\n",
       "  <thead>\n",
       "    <tr style=\"text-align: right;\">\n",
       "      <th></th>\n",
       "      <th>MT_001</th>\n",
       "      <th>MT_002</th>\n",
       "      <th>MT_003</th>\n",
       "      <th>MT_004</th>\n",
       "      <th>MT_005</th>\n",
       "      <th>MT_006</th>\n",
       "      <th>MT_007</th>\n",
       "      <th>MT_008</th>\n",
       "      <th>MT_009</th>\n",
       "      <th>MT_010</th>\n",
       "      <th>...</th>\n",
       "      <th>MT_361</th>\n",
       "      <th>MT_362</th>\n",
       "      <th>MT_363</th>\n",
       "      <th>MT_364</th>\n",
       "      <th>MT_365</th>\n",
       "      <th>MT_366</th>\n",
       "      <th>MT_367</th>\n",
       "      <th>MT_368</th>\n",
       "      <th>MT_369</th>\n",
       "      <th>MT_370</th>\n",
       "    </tr>\n",
       "  </thead>\n",
       "  <tbody>\n",
       "    <tr>\n",
       "      <th>2011-01-01 00:00:00</th>\n",
       "      <td>0.000000</td>\n",
       "      <td>0.000000</td>\n",
       "      <td>0.000000</td>\n",
       "      <td>0.000000</td>\n",
       "      <td>0.000000</td>\n",
       "      <td>0.000000</td>\n",
       "      <td>0.000000</td>\n",
       "      <td>0.000000</td>\n",
       "      <td>0.000000</td>\n",
       "      <td>0.000000</td>\n",
       "      <td>...</td>\n",
       "      <td>0.000000</td>\n",
       "      <td>0.0</td>\n",
       "      <td>0.000000</td>\n",
       "      <td>0.000000</td>\n",
       "      <td>0.000000</td>\n",
       "      <td>0.000000</td>\n",
       "      <td>0.000000</td>\n",
       "      <td>0.000000</td>\n",
       "      <td>0.000000</td>\n",
       "      <td>0.000000</td>\n",
       "    </tr>\n",
       "    <tr>\n",
       "      <th>2011-01-01 02:00:00</th>\n",
       "      <td>0.000000</td>\n",
       "      <td>0.000000</td>\n",
       "      <td>0.000000</td>\n",
       "      <td>0.000000</td>\n",
       "      <td>0.000000</td>\n",
       "      <td>0.000000</td>\n",
       "      <td>0.000000</td>\n",
       "      <td>0.000000</td>\n",
       "      <td>0.000000</td>\n",
       "      <td>0.000000</td>\n",
       "      <td>...</td>\n",
       "      <td>0.000000</td>\n",
       "      <td>0.0</td>\n",
       "      <td>0.000000</td>\n",
       "      <td>0.000000</td>\n",
       "      <td>0.000000</td>\n",
       "      <td>0.000000</td>\n",
       "      <td>0.000000</td>\n",
       "      <td>0.000000</td>\n",
       "      <td>0.000000</td>\n",
       "      <td>0.000000</td>\n",
       "    </tr>\n",
       "    <tr>\n",
       "      <th>2011-01-01 04:00:00</th>\n",
       "      <td>0.000000</td>\n",
       "      <td>0.000000</td>\n",
       "      <td>0.000000</td>\n",
       "      <td>0.000000</td>\n",
       "      <td>0.000000</td>\n",
       "      <td>0.000000</td>\n",
       "      <td>0.000000</td>\n",
       "      <td>0.000000</td>\n",
       "      <td>0.000000</td>\n",
       "      <td>0.000000</td>\n",
       "      <td>...</td>\n",
       "      <td>0.000000</td>\n",
       "      <td>0.0</td>\n",
       "      <td>0.000000</td>\n",
       "      <td>0.000000</td>\n",
       "      <td>0.000000</td>\n",
       "      <td>0.000000</td>\n",
       "      <td>0.000000</td>\n",
       "      <td>0.000000</td>\n",
       "      <td>0.000000</td>\n",
       "      <td>0.000000</td>\n",
       "    </tr>\n",
       "    <tr>\n",
       "      <th>2011-01-01 06:00:00</th>\n",
       "      <td>0.000000</td>\n",
       "      <td>0.000000</td>\n",
       "      <td>0.000000</td>\n",
       "      <td>0.000000</td>\n",
       "      <td>0.000000</td>\n",
       "      <td>0.000000</td>\n",
       "      <td>0.000000</td>\n",
       "      <td>0.000000</td>\n",
       "      <td>0.000000</td>\n",
       "      <td>0.000000</td>\n",
       "      <td>...</td>\n",
       "      <td>0.000000</td>\n",
       "      <td>0.0</td>\n",
       "      <td>0.000000</td>\n",
       "      <td>0.000000</td>\n",
       "      <td>0.000000</td>\n",
       "      <td>0.000000</td>\n",
       "      <td>0.000000</td>\n",
       "      <td>0.000000</td>\n",
       "      <td>0.000000</td>\n",
       "      <td>0.000000</td>\n",
       "    </tr>\n",
       "    <tr>\n",
       "      <th>2011-01-01 08:00:00</th>\n",
       "      <td>0.000000</td>\n",
       "      <td>0.000000</td>\n",
       "      <td>0.000000</td>\n",
       "      <td>0.000000</td>\n",
       "      <td>0.000000</td>\n",
       "      <td>0.000000</td>\n",
       "      <td>0.000000</td>\n",
       "      <td>0.000000</td>\n",
       "      <td>0.000000</td>\n",
       "      <td>0.000000</td>\n",
       "      <td>...</td>\n",
       "      <td>0.000000</td>\n",
       "      <td>0.0</td>\n",
       "      <td>0.000000</td>\n",
       "      <td>0.000000</td>\n",
       "      <td>0.000000</td>\n",
       "      <td>0.000000</td>\n",
       "      <td>0.000000</td>\n",
       "      <td>0.000000</td>\n",
       "      <td>0.000000</td>\n",
       "      <td>0.000000</td>\n",
       "    </tr>\n",
       "    <tr>\n",
       "      <th>...</th>\n",
       "      <td>...</td>\n",
       "      <td>...</td>\n",
       "      <td>...</td>\n",
       "      <td>...</td>\n",
       "      <td>...</td>\n",
       "      <td>...</td>\n",
       "      <td>...</td>\n",
       "      <td>...</td>\n",
       "      <td>...</td>\n",
       "      <td>...</td>\n",
       "      <td>...</td>\n",
       "      <td>...</td>\n",
       "      <td>...</td>\n",
       "      <td>...</td>\n",
       "      <td>...</td>\n",
       "      <td>...</td>\n",
       "      <td>...</td>\n",
       "      <td>...</td>\n",
       "      <td>...</td>\n",
       "      <td>...</td>\n",
       "      <td>...</td>\n",
       "    </tr>\n",
       "    <tr>\n",
       "      <th>2014-12-31 16:00:00</th>\n",
       "      <td>2.379442</td>\n",
       "      <td>28.538407</td>\n",
       "      <td>1.954822</td>\n",
       "      <td>160.569106</td>\n",
       "      <td>67.225610</td>\n",
       "      <td>260.416667</td>\n",
       "      <td>7.560769</td>\n",
       "      <td>352.693603</td>\n",
       "      <td>75.830420</td>\n",
       "      <td>53.897849</td>\n",
       "      <td>...</td>\n",
       "      <td>439.864383</td>\n",
       "      <td>40675.0</td>\n",
       "      <td>2816.983122</td>\n",
       "      <td>3980.113636</td>\n",
       "      <td>127.933507</td>\n",
       "      <td>7.753072</td>\n",
       "      <td>504.938543</td>\n",
       "      <td>118.948247</td>\n",
       "      <td>703.445748</td>\n",
       "      <td>12033.783784</td>\n",
       "    </tr>\n",
       "    <tr>\n",
       "      <th>2014-12-31 18:00:00</th>\n",
       "      <td>2.220812</td>\n",
       "      <td>28.449502</td>\n",
       "      <td>2.172024</td>\n",
       "      <td>208.587398</td>\n",
       "      <td>91.310976</td>\n",
       "      <td>385.788690</td>\n",
       "      <td>12.719050</td>\n",
       "      <td>359.427609</td>\n",
       "      <td>95.498252</td>\n",
       "      <td>84.408602</td>\n",
       "      <td>...</td>\n",
       "      <td>425.053533</td>\n",
       "      <td>43300.0</td>\n",
       "      <td>2793.776371</td>\n",
       "      <td>3454.545455</td>\n",
       "      <td>105.606258</td>\n",
       "      <td>5.266238</td>\n",
       "      <td>500.877963</td>\n",
       "      <td>47.787980</td>\n",
       "      <td>706.011730</td>\n",
       "      <td>9554.054054</td>\n",
       "    </tr>\n",
       "    <tr>\n",
       "      <th>2014-12-31 20:00:00</th>\n",
       "      <td>2.379442</td>\n",
       "      <td>24.004267</td>\n",
       "      <td>1.737619</td>\n",
       "      <td>174.288618</td>\n",
       "      <td>89.176829</td>\n",
       "      <td>330.357143</td>\n",
       "      <td>11.447145</td>\n",
       "      <td>292.508418</td>\n",
       "      <td>84.134615</td>\n",
       "      <td>75.806452</td>\n",
       "      <td>...</td>\n",
       "      <td>330.389008</td>\n",
       "      <td>39137.5</td>\n",
       "      <td>1676.160338</td>\n",
       "      <td>1857.954545</td>\n",
       "      <td>74.967405</td>\n",
       "      <td>4.169105</td>\n",
       "      <td>420.654083</td>\n",
       "      <td>131.886477</td>\n",
       "      <td>675.219941</td>\n",
       "      <td>8344.594595</td>\n",
       "    </tr>\n",
       "    <tr>\n",
       "      <th>2014-12-31 22:00:00</th>\n",
       "      <td>2.062183</td>\n",
       "      <td>21.692745</td>\n",
       "      <td>1.737619</td>\n",
       "      <td>161.331301</td>\n",
       "      <td>85.365854</td>\n",
       "      <td>311.383929</td>\n",
       "      <td>11.023177</td>\n",
       "      <td>251.262626</td>\n",
       "      <td>68.181818</td>\n",
       "      <td>72.446237</td>\n",
       "      <td>...</td>\n",
       "      <td>289.079229</td>\n",
       "      <td>31775.0</td>\n",
       "      <td>1591.244726</td>\n",
       "      <td>1303.977273</td>\n",
       "      <td>46.284224</td>\n",
       "      <td>7.533645</td>\n",
       "      <td>665.605795</td>\n",
       "      <td>178.422371</td>\n",
       "      <td>669.263196</td>\n",
       "      <td>7263.513514</td>\n",
       "    </tr>\n",
       "    <tr>\n",
       "      <th>2015-01-01 00:00:00</th>\n",
       "      <td>0.317259</td>\n",
       "      <td>2.489331</td>\n",
       "      <td>0.217202</td>\n",
       "      <td>22.357724</td>\n",
       "      <td>10.518293</td>\n",
       "      <td>34.970238</td>\n",
       "      <td>1.271905</td>\n",
       "      <td>31.144781</td>\n",
       "      <td>7.867133</td>\n",
       "      <td>8.736559</td>\n",
       "      <td>...</td>\n",
       "      <td>23.554604</td>\n",
       "      <td>3475.0</td>\n",
       "      <td>176.160338</td>\n",
       "      <td>119.318182</td>\n",
       "      <td>3.422425</td>\n",
       "      <td>0.511995</td>\n",
       "      <td>78.577700</td>\n",
       "      <td>16.485810</td>\n",
       "      <td>84.127566</td>\n",
       "      <td>891.891892</td>\n",
       "    </tr>\n",
       "  </tbody>\n",
       "</table>\n",
       "<p>17533 rows × 370 columns</p>\n",
       "</div>"
      ],
      "text/plain": [
       "                       MT_001     MT_002    MT_003      MT_004     MT_005  \\\n",
       "2011-01-01 00:00:00  0.000000   0.000000  0.000000    0.000000   0.000000   \n",
       "2011-01-01 02:00:00  0.000000   0.000000  0.000000    0.000000   0.000000   \n",
       "2011-01-01 04:00:00  0.000000   0.000000  0.000000    0.000000   0.000000   \n",
       "2011-01-01 06:00:00  0.000000   0.000000  0.000000    0.000000   0.000000   \n",
       "2011-01-01 08:00:00  0.000000   0.000000  0.000000    0.000000   0.000000   \n",
       "...                       ...        ...       ...         ...        ...   \n",
       "2014-12-31 16:00:00  2.379442  28.538407  1.954822  160.569106  67.225610   \n",
       "2014-12-31 18:00:00  2.220812  28.449502  2.172024  208.587398  91.310976   \n",
       "2014-12-31 20:00:00  2.379442  24.004267  1.737619  174.288618  89.176829   \n",
       "2014-12-31 22:00:00  2.062183  21.692745  1.737619  161.331301  85.365854   \n",
       "2015-01-01 00:00:00  0.317259   2.489331  0.217202   22.357724  10.518293   \n",
       "\n",
       "                         MT_006     MT_007      MT_008     MT_009     MT_010  \\\n",
       "2011-01-01 00:00:00    0.000000   0.000000    0.000000   0.000000   0.000000   \n",
       "2011-01-01 02:00:00    0.000000   0.000000    0.000000   0.000000   0.000000   \n",
       "2011-01-01 04:00:00    0.000000   0.000000    0.000000   0.000000   0.000000   \n",
       "2011-01-01 06:00:00    0.000000   0.000000    0.000000   0.000000   0.000000   \n",
       "2011-01-01 08:00:00    0.000000   0.000000    0.000000   0.000000   0.000000   \n",
       "...                         ...        ...         ...        ...        ...   \n",
       "2014-12-31 16:00:00  260.416667   7.560769  352.693603  75.830420  53.897849   \n",
       "2014-12-31 18:00:00  385.788690  12.719050  359.427609  95.498252  84.408602   \n",
       "2014-12-31 20:00:00  330.357143  11.447145  292.508418  84.134615  75.806452   \n",
       "2014-12-31 22:00:00  311.383929  11.023177  251.262626  68.181818  72.446237   \n",
       "2015-01-01 00:00:00   34.970238   1.271905   31.144781   7.867133   8.736559   \n",
       "\n",
       "                     ...      MT_361   MT_362       MT_363       MT_364  \\\n",
       "2011-01-01 00:00:00  ...    0.000000      0.0     0.000000     0.000000   \n",
       "2011-01-01 02:00:00  ...    0.000000      0.0     0.000000     0.000000   \n",
       "2011-01-01 04:00:00  ...    0.000000      0.0     0.000000     0.000000   \n",
       "2011-01-01 06:00:00  ...    0.000000      0.0     0.000000     0.000000   \n",
       "2011-01-01 08:00:00  ...    0.000000      0.0     0.000000     0.000000   \n",
       "...                  ...         ...      ...          ...          ...   \n",
       "2014-12-31 16:00:00  ...  439.864383  40675.0  2816.983122  3980.113636   \n",
       "2014-12-31 18:00:00  ...  425.053533  43300.0  2793.776371  3454.545455   \n",
       "2014-12-31 20:00:00  ...  330.389008  39137.5  1676.160338  1857.954545   \n",
       "2014-12-31 22:00:00  ...  289.079229  31775.0  1591.244726  1303.977273   \n",
       "2015-01-01 00:00:00  ...   23.554604   3475.0   176.160338   119.318182   \n",
       "\n",
       "                         MT_365    MT_366      MT_367      MT_368      MT_369  \\\n",
       "2011-01-01 00:00:00    0.000000  0.000000    0.000000    0.000000    0.000000   \n",
       "2011-01-01 02:00:00    0.000000  0.000000    0.000000    0.000000    0.000000   \n",
       "2011-01-01 04:00:00    0.000000  0.000000    0.000000    0.000000    0.000000   \n",
       "2011-01-01 06:00:00    0.000000  0.000000    0.000000    0.000000    0.000000   \n",
       "2011-01-01 08:00:00    0.000000  0.000000    0.000000    0.000000    0.000000   \n",
       "...                         ...       ...         ...         ...         ...   \n",
       "2014-12-31 16:00:00  127.933507  7.753072  504.938543  118.948247  703.445748   \n",
       "2014-12-31 18:00:00  105.606258  5.266238  500.877963   47.787980  706.011730   \n",
       "2014-12-31 20:00:00   74.967405  4.169105  420.654083  131.886477  675.219941   \n",
       "2014-12-31 22:00:00   46.284224  7.533645  665.605795  178.422371  669.263196   \n",
       "2015-01-01 00:00:00    3.422425  0.511995   78.577700   16.485810   84.127566   \n",
       "\n",
       "                           MT_370  \n",
       "2011-01-01 00:00:00      0.000000  \n",
       "2011-01-01 02:00:00      0.000000  \n",
       "2011-01-01 04:00:00      0.000000  \n",
       "2011-01-01 06:00:00      0.000000  \n",
       "2011-01-01 08:00:00      0.000000  \n",
       "...                           ...  \n",
       "2014-12-31 16:00:00  12033.783784  \n",
       "2014-12-31 18:00:00   9554.054054  \n",
       "2014-12-31 20:00:00   8344.594595  \n",
       "2014-12-31 22:00:00   7263.513514  \n",
       "2015-01-01 00:00:00    891.891892  \n",
       "\n",
       "[17533 rows x 370 columns]"
      ]
     },
     "execution_count": 20,
     "metadata": {},
     "output_type": "execute_result"
    }
   ],
   "source": [
    "# resample to 2h intervals\n",
    "freq = \"2h\"\n",
    "div = 8 # 2 hours contain 8x 15 min intervals, you need to  delete the resampled value by 8\n",
    "\n",
    "data_kw = df_raw.resample(freq).sum() / div\n",
    "data_kw"
   ]
  },
  {
   "cell_type": "markdown",
   "metadata": {},
   "source": [
    "Create a smaller dataset with a subset of time series:"
   ]
  },
  {
   "cell_type": "code",
   "execution_count": 21,
   "metadata": {},
   "outputs": [
    {
     "data": {
      "text/plain": [
       "array(['MT_328', 'MT_034'], dtype='<U6')"
      ]
     },
     "execution_count": 21,
     "metadata": {},
     "output_type": "execute_result"
    }
   ],
   "source": [
    "# select two random time series to include in a small dataset\n",
    "sample_size = 2\n",
    "columns_to_keep = np.random.choice(data_kw.columns.to_list(), size=sample_size, replace=False)\n",
    "columns_to_keep"
   ]
  },
  {
   "cell_type": "code",
   "execution_count": 22,
   "metadata": {},
   "outputs": [
    {
     "data": {
      "text/html": [
       "<div>\n",
       "<style scoped>\n",
       "    .dataframe tbody tr th:only-of-type {\n",
       "        vertical-align: middle;\n",
       "    }\n",
       "\n",
       "    .dataframe tbody tr th {\n",
       "        vertical-align: top;\n",
       "    }\n",
       "\n",
       "    .dataframe thead th {\n",
       "        text-align: right;\n",
       "    }\n",
       "</style>\n",
       "<table border=\"1\" class=\"dataframe\">\n",
       "  <thead>\n",
       "    <tr style=\"text-align: right;\">\n",
       "      <th></th>\n",
       "      <th>MT_328</th>\n",
       "      <th>MT_034</th>\n",
       "    </tr>\n",
       "  </thead>\n",
       "  <tbody>\n",
       "    <tr>\n",
       "      <th>2011-01-01 00:00:00</th>\n",
       "      <td>531.481481</td>\n",
       "      <td>0.000000</td>\n",
       "    </tr>\n",
       "    <tr>\n",
       "      <th>2011-01-01 02:00:00</th>\n",
       "      <td>580.555556</td>\n",
       "      <td>0.000000</td>\n",
       "    </tr>\n",
       "    <tr>\n",
       "      <th>2011-01-01 04:00:00</th>\n",
       "      <td>577.777778</td>\n",
       "      <td>0.000000</td>\n",
       "    </tr>\n",
       "    <tr>\n",
       "      <th>2011-01-01 06:00:00</th>\n",
       "      <td>632.407407</td>\n",
       "      <td>0.000000</td>\n",
       "    </tr>\n",
       "    <tr>\n",
       "      <th>2011-01-01 08:00:00</th>\n",
       "      <td>740.740741</td>\n",
       "      <td>0.000000</td>\n",
       "    </tr>\n",
       "    <tr>\n",
       "      <th>...</th>\n",
       "      <td>...</td>\n",
       "      <td>...</td>\n",
       "    </tr>\n",
       "    <tr>\n",
       "      <th>2014-12-31 16:00:00</th>\n",
       "      <td>1451.851852</td>\n",
       "      <td>18.505587</td>\n",
       "    </tr>\n",
       "    <tr>\n",
       "      <th>2014-12-31 18:00:00</th>\n",
       "      <td>1321.296296</td>\n",
       "      <td>33.170391</td>\n",
       "    </tr>\n",
       "    <tr>\n",
       "      <th>2014-12-31 20:00:00</th>\n",
       "      <td>649.074074</td>\n",
       "      <td>30.638966</td>\n",
       "    </tr>\n",
       "    <tr>\n",
       "      <th>2014-12-31 22:00:00</th>\n",
       "      <td>538.888889</td>\n",
       "      <td>31.424581</td>\n",
       "    </tr>\n",
       "    <tr>\n",
       "      <th>2015-01-01 00:00:00</th>\n",
       "      <td>53.703704</td>\n",
       "      <td>3.753492</td>\n",
       "    </tr>\n",
       "  </tbody>\n",
       "</table>\n",
       "<p>17533 rows × 2 columns</p>\n",
       "</div>"
      ],
      "text/plain": [
       "                          MT_328     MT_034\n",
       "2011-01-01 00:00:00   531.481481   0.000000\n",
       "2011-01-01 02:00:00   580.555556   0.000000\n",
       "2011-01-01 04:00:00   577.777778   0.000000\n",
       "2011-01-01 06:00:00   632.407407   0.000000\n",
       "2011-01-01 08:00:00   740.740741   0.000000\n",
       "...                          ...        ...\n",
       "2014-12-31 16:00:00  1451.851852  18.505587\n",
       "2014-12-31 18:00:00  1321.296296  33.170391\n",
       "2014-12-31 20:00:00   649.074074  30.638966\n",
       "2014-12-31 22:00:00   538.888889  31.424581\n",
       "2015-01-01 00:00:00    53.703704   3.753492\n",
       "\n",
       "[17533 rows x 2 columns]"
      ]
     },
     "execution_count": 22,
     "metadata": {},
     "output_type": "execute_result"
    }
   ],
   "source": [
    "data_kw_small = data_kw[columns_to_keep]\n",
    "data_kw_small"
   ]
  },
  {
   "cell_type": "markdown",
   "metadata": {},
   "source": [
    "<div class=\"alert alert-info\">\n",
    "To reduce the training time you can use a subset of time series instead of the full dataset with 370 time series.\n",
    "</div>"
   ]
  },
  {
   "cell_type": "markdown",
   "metadata": {},
   "source": [
    "For AWS-led workshop please choose a small dataset by leaving the `USE_FULL_DATASET` on it's default value `False`. The training time for the small dataset is about 18-20 minutes depending on the used training instance. The train time for the full dataset is about 25 minutes for `ml.c5.4xlarge` instance."
   ]
  },
  {
   "cell_type": "code",
   "execution_count": 23,
   "metadata": {},
   "outputs": [],
   "source": [
    "USE_FULL_DATASET = False"
   ]
  },
  {
   "cell_type": "code",
   "execution_count": 24,
   "metadata": {},
   "outputs": [],
   "source": [
    "if USE_FULL_DATASET:\n",
    "    ts_df = data_kw\n",
    "else:\n",
    "    ts_df = data_kw_small"
   ]
  },
  {
   "cell_type": "code",
   "execution_count": 25,
   "metadata": {},
   "outputs": [
    {
     "name": "stderr",
     "output_type": "stream",
     "text": [
      "100%|██████████| 2/2 [00:00<00:00, 2145.42it/s]\n"
     ]
    }
   ],
   "source": [
    "# convert the DataFrame to a list of pandas.Series objects\n",
    "timeseries = []\n",
    "\n",
    "for i in tqdm.trange(ts_df.shape[1]):\n",
    "    timeseries.append(np.trim_zeros(ts_df.iloc[:, i], trim=\"f\"))"
   ]
  },
  {
   "cell_type": "markdown",
   "metadata": {},
   "source": [
    "Plot the time series for random ids for the time period spanning the first four weeks of 2014."
   ]
  },
  {
   "cell_type": "code",
   "execution_count": 26,
   "metadata": {},
   "outputs": [
    {
     "data": {
      "image/png": "[encoded data removed]",
      "text/plain": [
       "<Figure size 2000x500 with 2 Axes>"
      ]
     },
     "metadata": {},
     "output_type": "display_data"
    }
   ],
   "source": [
    "# show random timeseries for 28 day period\n",
    "sample_size = min(ts_df.shape[1], 10)\n",
    "\n",
    "n_rows = (sample_size+1)//2\n",
    "n_cols = 2\n",
    "\n",
    "fig, axs = plt.subplots(n_rows, n_cols, figsize=(20, 5*n_rows), sharex=True)\n",
    "axx = axs.ravel()\n",
    "for i, ts in enumerate(random.sample(timeseries, sample_size)):\n",
    "    series = ts.loc[\"2014-01-01\":\"2014-01-28\"]\n",
    "    if len(series): series.plot(ax=axx[i])\n",
    "    axx[i].set_xlabel(\"date\")\n",
    "    axx[i].set_ylabel(f\"kW consumption - {ts.name}\")\n",
    "    axx[i].grid(which=\"minor\", axis=\"x\")"
   ]
  },
  {
   "cell_type": "markdown",
   "metadata": {},
   "source": [
    "## Prepare train and test datasets\n",
    "\n",
    "For model evaluation or tuning algorithm's hyperparameters you need to create a hold-out test dataset. Split the available data into train and test sets for evaluating the trained model. For standard ML tasks such as classification and regression, you typically obtain this split by randomly separating examples into train and test sets. On contrary, in forecasting it is important to do split based on time rather than by time series to keep all data point sequential.\n",
    "\n",
    "In this example, reserve the last section of each of the time series for evalutation purpose and use only the first part as training data. "
   ]
  },
  {
   "cell_type": "code",
   "execution_count": 27,
   "metadata": {},
   "outputs": [],
   "source": [
    "# predict for 7 days\n",
    "prediction_days = 7\n",
    "intervals_per_day = 12\n",
    "prediction_length = prediction_days * intervals_per_day\n",
    "\n",
    "# use same period as the context length, this is the number of state updates accomplished before making predictions\n",
    "context_length = prediction_days * intervals_per_day"
   ]
  },
  {
   "cell_type": "markdown",
   "metadata": {},
   "source": [
    "Specify the portion of the data that is used for training. Note that you use a data portion from the middle of the dataset to have target data points for backtesting. Feel free to change the boundaries."
   ]
  },
  {
   "cell_type": "code",
   "execution_count": 27,
   "metadata": {},
   "outputs": [
    {
     "name": "stdout",
     "output_type": "stream",
     "text": [
      "the model sees data from 2012-01-01 00:00:00 to 2014-09-01 00:00:00 for training.\n"
     ]
    }
   ],
   "source": [
    "start_dataset = pd.Timestamp(\"2012-01-01 00:00:00\", unit=freq)\n",
    "end_training = pd.Timestamp(\"2014-09-01 00:00:00\", unit=freq)\n",
    "print(f\"the model sees data from {start_dataset} to {end_training} for training.\")"
   ]
  },
  {
   "cell_type": "markdown",
   "metadata": {},
   "source": [
    "The DeepAR JSON [input format](https://docs.aws.amazon.com/sagemaker/latest/dg/deepar.html#deepar-inputoutput) represents each time series as a JSON object. In the simplest case each time series just consists of a start time stamp (``start``) and a list of values (``target``). For more complex cases, DeepAR also supports the fields ``dynamic_feat`` for time-series features and ``cat`` for categorical features, which you can explore later in this notebook."
   ]
  },
  {
   "cell_type": "code",
   "execution_count": 28,
   "metadata": {},
   "outputs": [
    {
     "name": "stdout",
     "output_type": "stream",
     "text": [
      "Training for 370 time series\n"
     ]
    }
   ],
   "source": [
    "training_data = [\n",
    "    {\n",
    "        \"start\": str(start_dataset),\n",
    "        \"target\": ts[\n",
    "            start_dataset : end_training - timedelta(days=1)\n",
    "        ].tolist(),  # use -1, because pandas indexing includes the upper bound\n",
    "    }\n",
    "    for ts in timeseries\n",
    "]\n",
    "print(f\"Training for {len(training_data)} time series\")"
   ]
  },
  {
   "cell_type": "markdown",
   "metadata": {},
   "source": [
    "For test data, consider time series extending beyond the training range: these are used for computing test scores by using the trained model to forecast the rolling 7 days and comparing predictions with actual values.\n",
    "To evaluate the model performance on more than one week, generate test data that extends to 1, 2, 3, and 4 weeks beyond the training range. This performs *rolling evaluation* of the model."
   ]
  },
  {
   "cell_type": "code",
   "execution_count": 29,
   "metadata": {},
   "outputs": [
    {
     "name": "stdout",
     "output_type": "stream",
     "text": [
      "1480\n"
     ]
    }
   ],
   "source": [
    "num_test_windows = 4\n",
    "\n",
    "test_data = [\n",
    "    {\n",
    "        \"start\": str(start_dataset),\n",
    "        \"target\": ts[start_dataset : end_training + timedelta(days=k * prediction_length)].tolist(),\n",
    "    }\n",
    "    for k in range(1, num_test_windows + 1)\n",
    "    for ts in timeseries\n",
    "]\n",
    "print(len(test_data))"
   ]
  },
  {
   "cell_type": "markdown",
   "metadata": {},
   "source": [
    "Write the dictionary to the `jsonlines` file format that DeepAR understands. Other supported input formats are _gzipped jsonlines_ and _parquet_."
   ]
  },
  {
   "cell_type": "code",
   "execution_count": 30,
   "metadata": {},
   "outputs": [],
   "source": [
    "def write_dicts_to_file(path, data):\n",
    "    with open(path, \"wb\") as fp:\n",
    "        for d in data:\n",
    "            fp.write(json.dumps(d).encode(\"utf-8\"))\n",
    "            fp.write(\"\\n\".encode(\"utf-8\"))"
   ]
  },
  {
   "cell_type": "code",
   "execution_count": 31,
   "metadata": {},
   "outputs": [
    {
     "name": "stdout",
     "output_type": "stream",
     "text": [
      "CPU times: user 12.2 s, sys: 172 ms, total: 12.4 s\n",
      "Wall time: 12.4 s\n"
     ]
    }
   ],
   "source": [
    "%%time\n",
    "write_dicts_to_file(\"./data/train.json\", training_data)\n",
    "write_dicts_to_file(\"./data/test.json\", test_data)"
   ]
  },
  {
   "cell_type": "code",
   "execution_count": 32,
   "metadata": {},
   "outputs": [
    {
     "name": "stdout",
     "output_type": "stream",
     "text": [
      "Content of the DeepAR training/test dataset file:\n",
      "{\n",
      "  \"start\": \"2012-01-01 00:00:00\",\n",
      "  \"target\": [\n",
      "    3.6484771573604062,\n",
      "    4.6002538071066,\n",
      "    4.6002538071066015,\n",
      "    4.441624365482235,\n",
      "    2.5380710659898473,\n",
      "    14.118020304568534,\n",
      "    3.9657...\n",
      "314738,\n",
      "    15.06979695431474,\n",
      "    14.752538071066013,\n",
      "    18.401015228426413,\n",
      "    14.911167512690376,\n",
      "    19.035532994923862,\n",
      "    16.180203045685275,\n",
      "    16.656091370558364,\n",
      "    16.497461928934\n",
      "  ]\n",
      "}\n"
     ]
    }
   ],
   "source": [
    "print(f\"Content of the DeepAR training/test dataset file:\")\n",
    "\n",
    "# Read the jsonl file and show the head an the tail of the first object\n",
    "with jsonlines.open(f\"./data/train.json\") as reader:      \n",
    "    sample = json.dumps(reader.read(), indent=2)\n",
    "    print(f\"{sample[:200]}...\\n{sample[len(sample)-200:]}\")"
   ]
  },
  {
   "cell_type": "markdown",
   "metadata": {},
   "source": [
    "Upload the training and test datasets to S3 where the DeepAR training job can access them."
   ]
  },
  {
   "cell_type": "code",
   "execution_count": 33,
   "metadata": {},
   "outputs": [
    {
     "name": "stdout",
     "output_type": "stream",
     "text": [
      "delete: s3://sagemaker-us-east-1-906545278380/deepar-demo-notebook/data/train/train.json\n",
      "delete: s3://sagemaker-us-east-1-906545278380/deepar-demo-notebook/data/test/test.json\n"
     ]
    }
   ],
   "source": [
    "!aws s3 rm {s3_data_path}/train/ --recursive\n",
    "!aws s3 rm {s3_data_path}/test/ --recursive"
   ]
  },
  {
   "cell_type": "code",
   "execution_count": 34,
   "metadata": {},
   "outputs": [
    {
     "name": "stdout",
     "output_type": "stream",
     "text": [
      "upload: data/train.json to s3://sagemaker-us-east-1-906545278380/deepar-demo-notebook/data/train/train.json\n",
      "upload: data/train.json to s3://sagemaker-us-east-1-906545278380/deepar-demo-notebook/data/test/test.json\n"
     ]
    }
   ],
   "source": [
    "!aws s3 cp ./data/train.json {s3_data_path}/train/train.json\n",
    "!aws s3 cp ./data/train.json {s3_data_path}/test/test.json"
   ]
  },
  {
   "cell_type": "markdown",
   "metadata": {},
   "source": [
    "All is set with dataset processing, now call DeepAR to train a model and generate predictions."
   ]
  },
  {
   "cell_type": "markdown",
   "metadata": {},
   "source": [
    "## Train a DeepAR model\n",
    "\n",
    "Define the estimator that uses the built-in DeepAR algorithm container image.\n",
    "\n",
    "DeepAR [supports](https://docs.aws.amazon.com/sagemaker/latest/dg/deepar.html#deepar-instances) training with GPU instances. You can use any of two instances below. GPU acceleration is less pronounced on small datasets and recommended for datasets with many cells per layer and many layers and for large batch sizes.\n",
    "\n",
    "For inference, DeepAR supports only CPU instances."
   ]
  },
  {
   "cell_type": "code",
   "execution_count": 35,
   "metadata": {},
   "outputs": [
    {
     "name": "stdout",
     "output_type": "stream",
     "text": [
      "\u001b[92mSUCCESS: Quota 8.0 for ml.c5.4xlarge for training job usage >= required 1\u001b[0m\n",
      "\u001b[92mSUCCESS: Quota 1.0 for ml.p2.xlarge for training job usage >= required 1\u001b[0m\n",
      "\u001b[92mSUCCESS: Quota 50.0 for ml.m5.4xlarge for training job usage >= required 1\u001b[0m\n",
      "\u001b[92mSUCCESS: Quota 30.0 for ml.c5.2xlarge for training job usage >= required 1\u001b[0m\n",
      "\u001b[92mSUCCESS: Quota 30.0 for ml.m5.2xlarge for training job usage >= required 1\u001b[0m\n"
     ]
    }
   ],
   "source": [
    "# select the instance based on the quota availability\n",
    "instance_type = get_best_instance(training_instance_quota_code_map)\n",
    "\n",
    "assert instance_type, \"You don't have quotas for required processing instance\""
   ]
  },
  {
   "cell_type": "code",
   "execution_count": 36,
   "metadata": {},
   "outputs": [],
   "source": [
    "estimator = sagemaker.estimator.Estimator(\n",
    "    image_uri=image_name,\n",
    "    sagemaker_session=sagemaker_session,\n",
    "    role=sm_role,\n",
    "    instance_count=1,\n",
    "    instance_type=instance_type,\n",
    "    base_job_name=\"deepar-demo-notebook\",\n",
    "    output_path=s3_output_path,\n",
    ")"
   ]
  },
  {
   "cell_type": "markdown",
   "metadata": {},
   "source": [
    "Set the [hyperparameters](https://docs.aws.amazon.com/sagemaker/latest/dg/deepar_hyperparameters.html) for the training job. For example frequency of the time series used, number of data points the model will look at in the past, number of predicted data points. The other hyperparameters concern the model to train like number of layers, number of cells per layer, likelihood function, and the training options such as number of epochs, batch size, learning rate. \n",
    "This example uses default parameters for every optional parameter in this case. "
   ]
  },
  {
   "cell_type": "code",
   "execution_count": 37,
   "metadata": {},
   "outputs": [],
   "source": [
    "hyperparameters = {\n",
    "    \"time_freq\": freq.upper(),\n",
    "    \"epochs\": \"200\", # you can reduce number of epochs for faster training: 100 epochs takes about 14 min to train\n",
    "    \"early_stopping_patience\": \"40\",\n",
    "    \"mini_batch_size\": \"64\",\n",
    "    \"learning_rate\": \"5E-4\",\n",
    "    \"context_length\": str(context_length),\n",
    "    \"prediction_length\": str(prediction_length),\n",
    "}"
   ]
  },
  {
   "cell_type": "code",
   "execution_count": 38,
   "metadata": {},
   "outputs": [],
   "source": [
    "estimator.set_hyperparameters(**hyperparameters)"
   ]
  },
  {
   "cell_type": "markdown",
   "metadata": {},
   "source": [
    "Launch the training job. SageMaker will start an EC2 instance, download the ECR image with the algorithm container, download the data from S3, start training the model, and save the trained model to S3 when training finishes.\n",
    "\n",
    "If you provide the `test` data channel as you do in this example, DeepAR will also calculate accuracy metrics for the trained model on this test. This is done by predicting the last `prediction_length` points of each time-series in the test set and comparing this to the actual value of the time-series. \n",
    "\n",
    "**Note:** the training takes about to 20 minutes complete on a `ml.c5.4xlarge` instance.\n",
    "\n",
    "<div style=\"border: 4px solid coral; text-align: center; margin: auto;\">\n",
    "The training takes about 20-25 minutes. Please take this time to work on the next lab in this workshop and come back to this notebook later on.\n",
    "</div>"
   ]
  },
  {
   "cell_type": "markdown",
   "metadata": {},
   "source": [
    "<img src=\"data:image/svg+xml;base64,Cjxzdmcgd2lkdGg9IjgwMCIgaGVpZ2h0PSIxMjUiIHZpZXdCb3g9IjAgMCA4MDAgMTI1IiB4bWxucz0iaHR0cDovL3d3dy53My5vcmcvMjAwMC9zdmciPgogICAgPGRlZnM+CiAgICAgICAgPGxpbmVhckdyYWRpZW50IGlkPSJmYWRlR3JhZGllbnQiIHgxPSIwIiB4Mj0iMSI+CiAgICAgICAgICAgIDxzdG9wIG9mZnNldD0iMCUiIHN0b3AtY29sb3I9IiNGMEYwRjAiLz4KICAgICAgICAgICAgPHN0b3Agb2Zmc2V0PSIxMDAlIiBzdG9wLWNvbG9yPSIjRjBGMEYwIiBzdG9wLW9wYWNpdHk9IjAiLz4KICAgICAgICA8L2xpbmVhckdyYWRpZW50PgogICAgICAgIDxtYXNrIGlkPSJmYWRlTWFzayI+CiAgICAgICAgICAgIDxyZWN0IHg9IjAiIHk9IjAiIHdpZHRoPSI3NTAiIGhlaWdodD0iMTI1IiBmaWxsPSJ3aGl0ZSIvPgogICAgICAgICAgICA8cmVjdCB4PSI3NTAiIHk9IjAiIHdpZHRoPSI1MCIgaGVpZ2h0PSIxMjUiIGZpbGw9InVybCgjZmFkZUdyYWRpZW50KSIvPgogICAgICAgIDwvbWFzaz4KICAgIDwvZGVmcz4KICAgIDxwYXRoIGQ9Ik0zLDUwIEE1MCw1MCAwIDAgMSA1MywzIEw3OTcsMyBMNzk3LDk3IEw5Nyw5NyBMNTAsMTE1IEwzLDk3IFoiIGZpbGw9IiNGMEYwRjAiIHN0cm9rZT0iI0UwRTBFMCIgc3Ryb2tlLXdpZHRoPSIxIiBtYXNrPSJ1cmwoI2ZhZGVNYXNrKSIvPgogICAgPGNpcmNsZSBjeD0iNTAiIGN5PSI1MCIgcj0iMzAiIGZpbGw9IiM1N2M0ZjgiIHN0cm9rZT0iIzU3YzRmOCIgc3Ryb2tlLXdpZHRoPSIxIi8+CiAgICA8Y2lyY2xlIGN4PSI1MCIgY3k9IjUwIiByPSIyNSIgZmlsbD0iI0YwRjBGMCIvPgogICAgPGxpbmUgeDE9IjUwIiB5MT0iNTAiIHgyPSI1MCIgeTI9IjMwIiBzdHJva2U9IiM1N2M0ZjgiIHN0cm9rZS13aWR0aD0iMyIgc3Ryb2tlLWxpbmVjYXA9InJvdW5kIi8+CiAgICA8bGluZSB4MT0iNTAiIHkxPSI1MCIgeDI9IjY1IiB5Mj0iNTAiIHN0cm9rZT0iIzU3YzRmOCIgc3Ryb2tlLXdpZHRoPSIzIiBzdHJva2UtbGluZWNhcD0icm91bmQiLz4KICAgIDx0ZXh0IHg9IjEwMCIgeT0iMzQiIGZvbnQtZmFtaWx5PSJBcmlhbCwgc2Fucy1zZXJpZiIgZm9udC1zaXplPSIxNCIgZmlsbD0iIzMzMzMzMyI+VGhlIG5leHQgY2VsbCBtYXkgdGFrZSBhIGZldyBtaW51dGVzIHRvIHJ1bi48L3RleHQ+Cjwvc3ZnPgo=\" alt=\"Time alert open medium\"/>"
   ]
  },
  {
   "cell_type": "code",
   "execution_count": null,
   "metadata": {},
   "outputs": [],
   "source": [
    "%%time\n",
    "data_channels = {\"train\": \"{}/train/\".format(s3_data_path), \"test\": \"{}/test/\".format(s3_data_path)}\n",
    "\n",
    "estimator.fit(inputs=data_channels, wait=True)"
   ]
  },
  {
   "cell_type": "markdown",
   "metadata": {},
   "source": [
    "<img src=\"data:image/svg+xml;base64,Cjxzdmcgd2lkdGg9IjgwMCIgaGVpZ2h0PSI1MCIgdmlld0JveD0iMCAwIDgwMCA1MCIgeG1sbnM9Imh0dHA6Ly93d3cudzMub3JnLzIwMDAvc3ZnIj4KICAgIDxkZWZzPgogICAgICAgIDxsaW5lYXJHcmFkaWVudCBpZD0iZmFkZUdyYWRpZW50IiB4MT0iMCIgeDI9IjEiPgogICAgICAgICAgICA8c3RvcCBvZmZzZXQ9IjAlIiBzdG9wLWNvbG9yPSIjRjBGMEYwIi8+CiAgICAgICAgICAgIDxzdG9wIG9mZnNldD0iMTAwJSIgc3RvcC1jb2xvcj0iI0YwRjBGMCIgc3RvcC1vcGFjaXR5PSIwIi8+CiAgICAgICAgPC9saW5lYXJHcmFkaWVudD4KICAgICAgICA8bWFzayBpZD0iZmFkZU1hc2siPgogICAgICAgICAgICA8cmVjdCB4PSIwIiB5PSIwIiB3aWR0aD0iNzUwIiBoZWlnaHQ9IjUwIiBmaWxsPSJ3aGl0ZSIvPgogICAgICAgICAgICA8cmVjdCB4PSI3NTAiIHk9IjAiIHdpZHRoPSI1MCIgaGVpZ2h0PSI1MCIgZmlsbD0idXJsKCNmYWRlR3JhZGllbnQpIi8+CiAgICAgICAgPC9tYXNrPgogICAgPC9kZWZzPgogICAgPHBhdGggZD0iTTI1LDUwIFEwLDUwIDAsMjUgTDUwLDMgTDk3LDI1IEw3OTcsMjUgTDc5Nyw1MCBMMjUsNTAgWiIgZmlsbD0iI0YwRjBGMCIgc3Ryb2tlPSIjRTBFMEUwIiBzdHJva2Utd2lkdGg9IjEiIG1hc2s9InVybCgjZmFkZU1hc2spIi8+Cjwvc3ZnPgo=\" alt=\"Time alert close\"/>"
   ]
  },
  {
   "cell_type": "markdown",
   "metadata": {},
   "source": [
    "Since you provide a test dataset in this example, accuracy metrics for the forecast are computed and logged (see bottom of the log).\n",
    "You can find the definition of these metrics from [DeepAR documentation](https://docs.aws.amazon.com/sagemaker/latest/dg/deepar-tuning.html#deepar-metrics). You can use these to optimize the parameters and tune your model or use SageMaker's [automated model tuning](https://docs.aws.amazon.com/sagemaker/latest/dg/automatic-model-tuning.html) as described in the [blog post](https://aws.amazon.com/blogs/aws/sagemaker-automatic-model-tuning/)."
   ]
  },
  {
   "cell_type": "markdown",
   "metadata": {},
   "source": [
    "The next code cell retrieves model metrics [computed](https://docs.aws.amazon.com/sagemaker/latest/dg/deepar-tuning.html#deepar-metrics) by the DeepAR algorithm:"
   ]
  },
  {
   "cell_type": "code",
   "execution_count": 40,
   "metadata": {},
   "outputs": [
    {
     "data": {
      "text/html": [
       "<div>\n",
       "<style scoped>\n",
       "    .dataframe tbody tr th:only-of-type {\n",
       "        vertical-align: middle;\n",
       "    }\n",
       "\n",
       "    .dataframe tbody tr th {\n",
       "        vertical-align: top;\n",
       "    }\n",
       "\n",
       "    .dataframe thead th {\n",
       "        text-align: right;\n",
       "    }\n",
       "</style>\n",
       "<table border=\"1\" class=\"dataframe\">\n",
       "  <thead>\n",
       "    <tr style=\"text-align: right;\">\n",
       "      <th></th>\n",
       "      <th>timestamp</th>\n",
       "      <th>metric_name</th>\n",
       "      <th>value</th>\n",
       "    </tr>\n",
       "  </thead>\n",
       "  <tbody>\n",
       "    <tr>\n",
       "      <th>0</th>\n",
       "      <td>0.0</td>\n",
       "      <td>test:mean_wQuantileLoss</td>\n",
       "      <td>0.057791</td>\n",
       "    </tr>\n",
       "    <tr>\n",
       "      <th>41</th>\n",
       "      <td>0.0</td>\n",
       "      <td>train:final_loss</td>\n",
       "      <td>3.756619</td>\n",
       "    </tr>\n",
       "    <tr>\n",
       "      <th>55</th>\n",
       "      <td>0.0</td>\n",
       "      <td>test:RMSE</td>\n",
       "      <td>640.369811</td>\n",
       "    </tr>\n",
       "  </tbody>\n",
       "</table>\n",
       "</div>"
      ],
      "text/plain": [
       "    timestamp              metric_name       value\n",
       "0         0.0  test:mean_wQuantileLoss    0.057791\n",
       "41        0.0         train:final_loss    3.756619\n",
       "55        0.0                test:RMSE  640.369811"
      ]
     },
     "execution_count": 40,
     "metadata": {},
     "output_type": "execute_result"
    }
   ],
   "source": [
    "# Show the metrics computed by the DeepAR algorithm\n",
    "model_metrics_df = estimator.training_job_analytics.dataframe()\n",
    "metrics_filter = ['test:RMSE', 'test:mean_wQuantileLoss', 'train:final_loss']\n",
    "# Filter the DataFrame\n",
    "model_metrics_df = model_metrics_df[model_metrics_df['metric_name'].isin(metrics_filter)]\n",
    "\n",
    "model_metrics_df"
   ]
  },
  {
   "cell_type": "markdown",
   "metadata": {},
   "source": [
    "### Save the model performance to a file"
   ]
  },
  {
   "cell_type": "code",
   "execution_count": 41,
   "metadata": {},
   "outputs": [],
   "source": [
    "os.makedirs(\"./model-performance\", exist_ok=True)"
   ]
  },
  {
   "cell_type": "code",
   "execution_count": 42,
   "metadata": {},
   "outputs": [],
   "source": [
    "experiment_name = f\"{experiment_prefix}-{freq}-{ts_df.shape[1]}-{ts_df.shape[0]}\"\n",
    "timestamp = strftime(\"%Y%m%d-%H%M%S\", gmtime())"
   ]
  },
  {
   "cell_type": "code",
   "execution_count": 43,
   "metadata": {},
   "outputs": [
    {
     "data": {
      "text/plain": [
       "'deepar-2h-370-17533'"
      ]
     },
     "execution_count": 43,
     "metadata": {},
     "output_type": "execute_result"
    }
   ],
   "source": [
    "experiment_name"
   ]
  },
  {
   "cell_type": "code",
   "execution_count": 44,
   "metadata": {},
   "outputs": [
    {
     "data": {
      "text/html": [
       "<div>\n",
       "<style scoped>\n",
       "    .dataframe tbody tr th:only-of-type {\n",
       "        vertical-align: middle;\n",
       "    }\n",
       "\n",
       "    .dataframe tbody tr th {\n",
       "        vertical-align: top;\n",
       "    }\n",
       "\n",
       "    .dataframe thead th {\n",
       "        text-align: right;\n",
       "    }\n",
       "</style>\n",
       "<table border=\"1\" class=\"dataframe\">\n",
       "  <thead>\n",
       "    <tr style=\"text-align: right;\">\n",
       "      <th></th>\n",
       "      <th>timestamp</th>\n",
       "      <th>metric_name</th>\n",
       "      <th>value</th>\n",
       "      <th>experiment</th>\n",
       "    </tr>\n",
       "  </thead>\n",
       "  <tbody>\n",
       "    <tr>\n",
       "      <th>0</th>\n",
       "      <td>20240930-104323</td>\n",
       "      <td>test:mean_wQuantileLoss</td>\n",
       "      <td>0.057791</td>\n",
       "      <td>deepar-2h-370-17533</td>\n",
       "    </tr>\n",
       "    <tr>\n",
       "      <th>41</th>\n",
       "      <td>20240930-104323</td>\n",
       "      <td>train:final_loss</td>\n",
       "      <td>3.756619</td>\n",
       "      <td>deepar-2h-370-17533</td>\n",
       "    </tr>\n",
       "    <tr>\n",
       "      <th>55</th>\n",
       "      <td>20240930-104323</td>\n",
       "      <td>test:RMSE</td>\n",
       "      <td>640.369811</td>\n",
       "      <td>deepar-2h-370-17533</td>\n",
       "    </tr>\n",
       "  </tbody>\n",
       "</table>\n",
       "</div>"
      ],
      "text/plain": [
       "          timestamp              metric_name       value           experiment\n",
       "0   20240930-104323  test:mean_wQuantileLoss    0.057791  deepar-2h-370-17533\n",
       "41  20240930-104323         train:final_loss    3.756619  deepar-2h-370-17533\n",
       "55  20240930-104323                test:RMSE  640.369811  deepar-2h-370-17533"
      ]
     },
     "execution_count": 44,
     "metadata": {},
     "output_type": "execute_result"
    }
   ],
   "source": [
    "model_metrics_df['experiment'] = experiment_name\n",
    "model_metrics_df['timestamp'] = timestamp\n",
    "model_metrics_df = model_metrics_df[['timestamp','metric_name','value','experiment']]\n",
    "model_metrics_df"
   ]
  },
  {
   "cell_type": "code",
   "execution_count": 45,
   "metadata": {},
   "outputs": [],
   "source": [
    "model_metrics_df.to_csv(f'./model-performance/{experiment_name}-{timestamp}.csv', index=False)"
   ]
  },
  {
   "cell_type": "markdown",
   "metadata": {},
   "source": [
    "## Evaluate the model"
   ]
  },
  {
   "cell_type": "markdown",
   "metadata": {},
   "source": [
    "### Create an endpoint and predictor"
   ]
  },
  {
   "cell_type": "markdown",
   "metadata": {},
   "source": [
    "Now that you have a trained model, you can use it to perform predictions by deploying it to an endpoint.\n",
    "\n",
    "<div class=\"alert alert-info\">Make sure you delete the endpoint by completing the clean up section at the end of the notebook</div>"
   ]
  },
  {
   "cell_type": "markdown",
   "metadata": {},
   "source": [
    "To query the endpoint and perform predictions, define the following utility class. This allows making requests using `pandas.Series` objects rather than raw JSON strings."
   ]
  },
  {
   "cell_type": "code",
   "execution_count": 46,
   "metadata": {},
   "outputs": [],
   "source": [
    "from sagemaker.serializers import IdentitySerializer"
   ]
  },
  {
   "cell_type": "code",
   "execution_count": 47,
   "metadata": {},
   "outputs": [],
   "source": [
    "class DeepARPredictor(sagemaker.predictor.Predictor):\n",
    "    def __init__(self, *args, **kwargs):\n",
    "        super().__init__(\n",
    "            *args,\n",
    "            # serializer=JSONSerializer(),\n",
    "            serializer=IdentitySerializer(content_type=\"application/json\"),\n",
    "            **kwargs,\n",
    "        )\n",
    "\n",
    "    def predict(\n",
    "        self,\n",
    "        ts,\n",
    "        cat=None,\n",
    "        dynamic_feat=None,\n",
    "        num_samples=100,\n",
    "        return_samples=False,\n",
    "        quantiles=[\"0.1\", \"0.5\", \"0.9\"],\n",
    "    ):\n",
    "        \"\"\"Requests the prediction of for the time series listed in `ts`, each with the (optional)\n",
    "        corresponding category listed in `cat`.\n",
    "\n",
    "        ts -- `pandas.Series` object, the time series to predict\n",
    "        cat -- integer, the group associated to the time series (default: None)\n",
    "        num_samples -- integer, number of samples to compute at prediction time (default: 100)\n",
    "        return_samples -- boolean indicating whether to include samples in the response (default: False)\n",
    "        quantiles -- list of strings specifying the quantiles to compute (default: [\"0.1\", \"0.5\", \"0.9\"])\n",
    "\n",
    "        Return value: list of `pandas.DataFrame` objects, each containing the predictions\n",
    "        \"\"\"\n",
    "        prediction_time = ts.index[-1] + ts.index.freq\n",
    "        quantiles = [str(q) for q in quantiles]\n",
    "        req = self.__encode_request(ts, cat, dynamic_feat, num_samples, return_samples, quantiles)\n",
    "        res = super(DeepARPredictor, self).predict(req)\n",
    "        return self.__decode_response(res, ts.index.freq, prediction_time, return_samples)\n",
    "\n",
    "    def __encode_request(self, ts, cat, dynamic_feat, num_samples, return_samples, quantiles):\n",
    "        instance = series_to_dict(\n",
    "            ts, cat if cat is not None else None, dynamic_feat if dynamic_feat else None\n",
    "        )\n",
    "\n",
    "        configuration = {\n",
    "            \"num_samples\": num_samples,\n",
    "            \"output_types\": [\"quantiles\", \"samples\"] if return_samples else [\"quantiles\"],\n",
    "            \"quantiles\": quantiles,\n",
    "        }\n",
    "\n",
    "        http_request_data = {\"instances\": [instance], \"configuration\": configuration}\n",
    "\n",
    "        return json.dumps(http_request_data).encode(\"utf-8\")\n",
    "\n",
    "    def __decode_response(self, response, freq, prediction_time, return_samples):\n",
    "        # the example sends one time series and receives one in return\n",
    "        # however, if possible to pass multiple time series as predictions be faster\n",
    "        predictions = json.loads(response.decode(\"utf-8\"))[\"predictions\"][0]\n",
    "        prediction_length = len(next(iter(predictions[\"quantiles\"].values())))\n",
    "        prediction_index = pd.date_range(\n",
    "            start=prediction_time, freq=freq, periods=prediction_length\n",
    "        )\n",
    "        if return_samples:\n",
    "            dict_of_samples = {\"sample_\" + str(i): s for i, s in enumerate(predictions[\"samples\"])}\n",
    "        else:\n",
    "            dict_of_samples = {}\n",
    "        return pd.DataFrame(\n",
    "            data={**predictions[\"quantiles\"], **dict_of_samples}, index=prediction_index\n",
    "        )\n",
    "\n",
    "    def set_frequency(self, freq):\n",
    "        self.freq = freq\n",
    "\n",
    "\n",
    "def encode_target(ts):\n",
    "    return [x if np.isfinite(x) else \"NaN\" for x in ts]\n",
    "\n",
    "\n",
    "def series_to_dict(ts, cat=None, dynamic_feat=None):\n",
    "    \"\"\"Given a pandas.Series object, returns a dictionary encoding the time series.\n",
    "\n",
    "    ts -- a pands.Series object with the target time series\n",
    "    cat -- an integer indicating the time series category\n",
    "\n",
    "    Return value: a dictionary\n",
    "    \"\"\"\n",
    "    obj = {\"start\": str(ts.index[0]), \"target\": encode_target(ts)}\n",
    "    if cat is not None:\n",
    "        obj[\"cat\"] = cat\n",
    "    if dynamic_feat is not None:\n",
    "        obj[\"dynamic_feat\"] = dynamic_feat\n",
    "    return obj"
   ]
  },
  {
   "cell_type": "markdown",
   "metadata": {},
   "source": [
    "Deploy the model and create a real-time SageMaker endpoint that can be queried using the custom DeepARPredictor class."
   ]
  },
  {
   "cell_type": "code",
   "execution_count": 48,
   "metadata": {},
   "outputs": [
    {
     "name": "stdout",
     "output_type": "stream",
     "text": [
      "\u001b[92mSUCCESS: Quota 4.0 for ml.m5.4xlarge for endpoint usage >= required 1\u001b[0m\n",
      "\u001b[92mSUCCESS: Quota 38.0 for ml.m5.xlarge for endpoint usage >= required 1\u001b[0m\n"
     ]
    }
   ],
   "source": [
    "# select the instance based on the quota availability\n",
    "ep_instance_type = get_best_instance(ep_instance_quota_code_map)\n",
    "\n",
    "assert ep_instance_type, \"You don't have quotas for required endpoint instance\""
   ]
  },
  {
   "cell_type": "markdown",
   "metadata": {},
   "source": [
    "<div class=\"alert alert-info\">If you get an exception <code>ResourceLimitExceeded</code> when calling the <code>deploy()</code> method, you might already utilize the available quota for the specific type of ML instances. Try another instance for what you have a quota available or delete an existing endpoint if you don't need it anymore.</div>"
   ]
  },
  {
   "cell_type": "markdown",
   "metadata": {},
   "source": [
    "<img src=\"data:image/svg+xml;base64,Cjxzdmcgd2lkdGg9IjgwMCIgaGVpZ2h0PSIxMjUiIHZpZXdCb3g9IjAgMCA4MDAgMTI1IiB4bWxucz0iaHR0cDovL3d3dy53My5vcmcvMjAwMC9zdmciPgogICAgPGRlZnM+CiAgICAgICAgPGxpbmVhckdyYWRpZW50IGlkPSJmYWRlR3JhZGllbnQiIHgxPSIwIiB4Mj0iMSI+CiAgICAgICAgICAgIDxzdG9wIG9mZnNldD0iMCUiIHN0b3AtY29sb3I9IiNGMEYwRjAiLz4KICAgICAgICAgICAgPHN0b3Agb2Zmc2V0PSIxMDAlIiBzdG9wLWNvbG9yPSIjRjBGMEYwIiBzdG9wLW9wYWNpdHk9IjAiLz4KICAgICAgICA8L2xpbmVhckdyYWRpZW50PgogICAgICAgIDxtYXNrIGlkPSJmYWRlTWFzayI+CiAgICAgICAgICAgIDxyZWN0IHg9IjAiIHk9IjAiIHdpZHRoPSI3NTAiIGhlaWdodD0iMTI1IiBmaWxsPSJ3aGl0ZSIvPgogICAgICAgICAgICA8cmVjdCB4PSI3NTAiIHk9IjAiIHdpZHRoPSI1MCIgaGVpZ2h0PSIxMjUiIGZpbGw9InVybCgjZmFkZUdyYWRpZW50KSIvPgogICAgICAgIDwvbWFzaz4KICAgIDwvZGVmcz4KICAgIDxwYXRoIGQ9Ik0zLDUwIEE1MCw1MCAwIDAgMSA1MywzIEw3OTcsMyBMNzk3LDk3IEw5Nyw5NyBMNTAsMTE1IEwzLDk3IFoiIGZpbGw9IiNGMEYwRjAiIHN0cm9rZT0iI0UwRTBFMCIgc3Ryb2tlLXdpZHRoPSIxIiBtYXNrPSJ1cmwoI2ZhZGVNYXNrKSIvPgogICAgPGNpcmNsZSBjeD0iNTAiIGN5PSI1MCIgcj0iMzAiIGZpbGw9IiM1N2M0ZjgiIHN0cm9rZT0iIzU3YzRmOCIgc3Ryb2tlLXdpZHRoPSIxIi8+CiAgICA8Y2lyY2xlIGN4PSI1MCIgY3k9IjUwIiByPSIyNSIgZmlsbD0iI0YwRjBGMCIvPgogICAgPGxpbmUgeDE9IjUwIiB5MT0iNTAiIHgyPSI1MCIgeTI9IjMwIiBzdHJva2U9IiM1N2M0ZjgiIHN0cm9rZS13aWR0aD0iMyIgc3Ryb2tlLWxpbmVjYXA9InJvdW5kIi8+CiAgICA8bGluZSB4MT0iNTAiIHkxPSI1MCIgeDI9IjY1IiB5Mj0iNTAiIHN0cm9rZT0iIzU3YzRmOCIgc3Ryb2tlLXdpZHRoPSIzIiBzdHJva2UtbGluZWNhcD0icm91bmQiLz4KICAgIDx0ZXh0IHg9IjEwMCIgeT0iMzQiIGZvbnQtZmFtaWx5PSJBcmlhbCwgc2Fucy1zZXJpZiIgZm9udC1zaXplPSIxNCIgZmlsbD0iIzMzMzMzMyI+VGhlIG5leHQgY2VsbCBtYXkgdGFrZSBhIGZldyBtaW51dGVzIHRvIHJ1bi48L3RleHQ+Cjwvc3ZnPgo=\" alt=\"Time alert open medium\"/>"
   ]
  },
  {
   "cell_type": "code",
   "execution_count": 49,
   "metadata": {},
   "outputs": [
    {
     "name": "stderr",
     "output_type": "stream",
     "text": [
      "INFO:sagemaker:Creating model with name: deepar-demo-notebook-2024-10-01-08-20-26-071\n",
      "INFO:sagemaker:Creating endpoint-config with name deepar-demo-notebook-2024-10-01-08-20-26-071\n",
      "INFO:sagemaker:Creating endpoint with name deepar-demo-notebook-2024-10-01-08-20-26-071\n"
     ]
    },
    {
     "name": "stdout",
     "output_type": "stream",
     "text": [
      "---------------!"
     ]
    }
   ],
   "source": [
    "predictor = estimator.deploy(\n",
    "    initial_instance_count=1,\n",
    "    instance_type=ep_instance_type,\n",
    "    predictor_cls=DeepARPredictor\n",
    ")"
   ]
  },
  {
   "cell_type": "markdown",
   "metadata": {},
   "source": [
    "<img src=\"data:image/svg+xml;base64,Cjxzdmcgd2lkdGg9IjgwMCIgaGVpZ2h0PSI1MCIgdmlld0JveD0iMCAwIDgwMCA1MCIgeG1sbnM9Imh0dHA6Ly93d3cudzMub3JnLzIwMDAvc3ZnIj4KICAgIDxkZWZzPgogICAgICAgIDxsaW5lYXJHcmFkaWVudCBpZD0iZmFkZUdyYWRpZW50IiB4MT0iMCIgeDI9IjEiPgogICAgICAgICAgICA8c3RvcCBvZmZzZXQ9IjAlIiBzdG9wLWNvbG9yPSIjRjBGMEYwIi8+CiAgICAgICAgICAgIDxzdG9wIG9mZnNldD0iMTAwJSIgc3RvcC1jb2xvcj0iI0YwRjBGMCIgc3RvcC1vcGFjaXR5PSIwIi8+CiAgICAgICAgPC9saW5lYXJHcmFkaWVudD4KICAgICAgICA8bWFzayBpZD0iZmFkZU1hc2siPgogICAgICAgICAgICA8cmVjdCB4PSIwIiB5PSIwIiB3aWR0aD0iNzUwIiBoZWlnaHQ9IjUwIiBmaWxsPSJ3aGl0ZSIvPgogICAgICAgICAgICA8cmVjdCB4PSI3NTAiIHk9IjAiIHdpZHRoPSI1MCIgaGVpZ2h0PSI1MCIgZmlsbD0idXJsKCNmYWRlR3JhZGllbnQpIi8+CiAgICAgICAgPC9tYXNrPgogICAgPC9kZWZzPgogICAgPHBhdGggZD0iTTI1LDUwIFEwLDUwIDAsMjUgTDUwLDMgTDk3LDI1IEw3OTcsMjUgTDc5Nyw1MCBMMjUsNTAgWiIgZmlsbD0iI0YwRjBGMCIgc3Ryb2tlPSIjRTBFMEUwIiBzdHJva2Utd2lkdGg9IjEiIG1hc2s9InVybCgjZmFkZU1hc2spIi8+Cjwvc3ZnPgo=\" alt=\"Time alert close\"/>"
   ]
  },
  {
   "cell_type": "markdown",
   "metadata": {},
   "source": [
    "### Make predictions and plot results"
   ]
  },
  {
   "cell_type": "markdown",
   "metadata": {},
   "source": [
    "Now you can use the `predictor` object to generate predictions."
   ]
  },
  {
   "cell_type": "code",
   "execution_count": 50,
   "metadata": {},
   "outputs": [
    {
     "data": {
      "text/html": [
       "<div>\n",
       "<style scoped>\n",
       "    .dataframe tbody tr th:only-of-type {\n",
       "        vertical-align: middle;\n",
       "    }\n",
       "\n",
       "    .dataframe tbody tr th {\n",
       "        vertical-align: top;\n",
       "    }\n",
       "\n",
       "    .dataframe thead th {\n",
       "        text-align: right;\n",
       "    }\n",
       "</style>\n",
       "<table border=\"1\" class=\"dataframe\">\n",
       "  <thead>\n",
       "    <tr style=\"text-align: right;\">\n",
       "      <th></th>\n",
       "      <th>0.1</th>\n",
       "      <th>0.5</th>\n",
       "      <th>0.9</th>\n",
       "    </tr>\n",
       "  </thead>\n",
       "  <tbody>\n",
       "    <tr>\n",
       "      <th>2015-01-01 02:00:00</th>\n",
       "      <td>40.328037</td>\n",
       "      <td>52.031166</td>\n",
       "      <td>63.182205</td>\n",
       "    </tr>\n",
       "    <tr>\n",
       "      <th>2015-01-01 04:00:00</th>\n",
       "      <td>42.327587</td>\n",
       "      <td>54.828438</td>\n",
       "      <td>65.817902</td>\n",
       "    </tr>\n",
       "    <tr>\n",
       "      <th>2015-01-01 06:00:00</th>\n",
       "      <td>84.429077</td>\n",
       "      <td>103.034409</td>\n",
       "      <td>127.885498</td>\n",
       "    </tr>\n",
       "    <tr>\n",
       "      <th>2015-01-01 08:00:00</th>\n",
       "      <td>97.304939</td>\n",
       "      <td>123.756805</td>\n",
       "      <td>149.162460</td>\n",
       "    </tr>\n",
       "    <tr>\n",
       "      <th>2015-01-01 10:00:00</th>\n",
       "      <td>96.224991</td>\n",
       "      <td>130.737930</td>\n",
       "      <td>156.271210</td>\n",
       "    </tr>\n",
       "  </tbody>\n",
       "</table>\n",
       "</div>"
      ],
      "text/plain": [
       "                           0.1         0.5         0.9\n",
       "2015-01-01 02:00:00  40.328037   52.031166   63.182205\n",
       "2015-01-01 04:00:00  42.327587   54.828438   65.817902\n",
       "2015-01-01 06:00:00  84.429077  103.034409  127.885498\n",
       "2015-01-01 08:00:00  97.304939  123.756805  149.162460\n",
       "2015-01-01 10:00:00  96.224991  130.737930  156.271210"
      ]
     },
     "execution_count": 50,
     "metadata": {},
     "output_type": "execute_result"
    }
   ],
   "source": [
    "predictor.predict(ts=random.sample(timeseries, 1)[0], quantiles=[0.10, 0.5, 0.90]).head()"
   ]
  },
  {
   "cell_type": "markdown",
   "metadata": {},
   "source": [
    "Define a plotting function that queries the model and displays the forecast."
   ]
  },
  {
   "cell_type": "code",
   "execution_count": 51,
   "metadata": {},
   "outputs": [],
   "source": [
    "def plot(\n",
    "    predictor,\n",
    "    target_ts,\n",
    "    cat=None,\n",
    "    dynamic_feat=None,\n",
    "    forecast_date=end_training,\n",
    "    show_samples=False,\n",
    "    plot_history=7 * 12,\n",
    "    confidence=80,\n",
    "):\n",
    "    freq = target_ts.index.freq\n",
    "    print(\n",
    "        \"calling served model to generate predictions starting from {}\".format(str(forecast_date))\n",
    "    )\n",
    "    assert confidence > 50 and confidence < 100\n",
    "    low_quantile = 0.5 - confidence * 0.005\n",
    "    up_quantile = confidence * 0.005 + 0.5\n",
    "\n",
    "    # construct the argument to call the model\n",
    "    args = {\n",
    "        \"ts\": target_ts[:forecast_date],\n",
    "        \"return_samples\": show_samples,\n",
    "        \"quantiles\": [low_quantile, 0.5, up_quantile],\n",
    "        \"num_samples\": 100,\n",
    "    }\n",
    "\n",
    "    if dynamic_feat is not None:\n",
    "        args[\"dynamic_feat\"] = dynamic_feat\n",
    "        fig = plt.figure(figsize=(20, 6))\n",
    "        ax = plt.subplot(2, 1, 1)\n",
    "    else:\n",
    "        fig = plt.figure(figsize=(20, 6))\n",
    "        ax = plt.subplot(1, 1, 1)\n",
    "\n",
    "    if cat is not None:\n",
    "        args[\"cat\"] = cat\n",
    "        ax.text(0.9, 0.9, \"cat = {}\".format(cat), transform=ax.transAxes)\n",
    "\n",
    "    # call the end point to get the prediction\n",
    "    prediction = predictor.predict(**args)\n",
    "\n",
    "    # plot the samples\n",
    "    if show_samples:\n",
    "        for key in prediction.keys():\n",
    "            if \"sample\" in key:\n",
    "                prediction[key].plot(color=\"lightskyblue\", alpha=0.2, label=\"_nolegend_\")\n",
    "\n",
    "    # plot the target\n",
    "    target_section = target_ts[\n",
    "        forecast_date - plot_history * freq : forecast_date + prediction_length * freq\n",
    "    ]\n",
    "    target_section.plot(color=\"black\", label=\"target\")\n",
    "\n",
    "    # plot the confidence interval and the median predicted\n",
    "    ax.fill_between(\n",
    "        prediction[str(low_quantile)].index,\n",
    "        prediction[str(low_quantile)].values,\n",
    "        prediction[str(up_quantile)].values,\n",
    "        color=\"b\",\n",
    "        alpha=0.3,\n",
    "        label=\"{}% confidence interval\".format(confidence),\n",
    "    )\n",
    "    prediction[\"0.5\"].plot(color=\"b\", label=\"P50\")\n",
    "    ax.legend(loc=2)\n",
    "\n",
    "    # fix the scale as the samples may change it\n",
    "    ax.set_ylim(target_section.min() * 0.5, target_section.max() * 1.5)\n",
    "\n",
    "    if dynamic_feat is not None:\n",
    "        for i, f in enumerate(dynamic_feat, start=1):\n",
    "            ax = plt.subplot(len(dynamic_feat) * 2, 1, len(dynamic_feat) + i, sharex=ax)\n",
    "            feat_ts = pd.Series(\n",
    "                index=pd.date_range(\n",
    "                    start=target_ts.index[0], freq=target_ts.index.freq, periods=len(f)\n",
    "                ),\n",
    "                data=f,\n",
    "            )\n",
    "            feat_ts[\n",
    "                forecast_date - plot_history * freq : forecast_date + prediction_length * freq\n",
    "            ].plot(ax=ax, color=\"g\")\n",
    "\n",
    "    plt.tight_layout()\n",
    "    plt.show()"
   ]
  },
  {
   "cell_type": "markdown",
   "metadata": {},
   "source": [
    "Interact with the function previously defined to look at the forecast of any time series at any point in future time. \n",
    "\n",
    "For each request, the predictions are obtained by calling the deployed model as the real-time endpoint.\n",
    "You can change the following parameters:\n",
    "- `Time series id:`: id of the time series\n",
    "- `Offset`: if set to 0, the forecast starts from the end of the training period. You can enter a negative number which specifies how many days **before** the end of the training period the forecast starts. Positive number specifies how many days **after** the end on the training period the forecast starts. This allows you to see the actual values - shown as **target** on the plot - together with the predictions\n",
    "- `Confidence`: confidence interval for the predictions\n",
    "- `History length`: how `prediction lengths` of history are shown on the plot\n",
    "\n",
    "For example, forecast the consumption of an office after week-end and note the lower week-end consumption.\n",
    "You can select any time series and any forecast date, just click on `Run Interact` to generate the predictions from the `end_training` + `offset` and see the plot."
   ]
  },
  {
   "cell_type": "code",
   "execution_count": 52,
   "metadata": {},
   "outputs": [],
   "source": [
    "style = {\"description_width\": \"initial\"}\n",
    "ts_id_list = [ts.name for ts in timeseries]"
   ]
  },
  {
   "cell_type": "code",
   "execution_count": 53,
   "metadata": {},
   "outputs": [
    {
     "data": {
      "application/vnd.jupyter.widget-view+json": {
       "model_id": "42873e500dbf48aca89cfab2fbff4957",
       "version_major": 2,
       "version_minor": 0
      },
      "text/plain": [
       "interactive(children=(Select(description='Time series id:', options=('MT_001', 'MT_002', 'MT_003', 'MT_004', '…"
      ]
     },
     "metadata": {},
     "output_type": "display_data"
    }
   ],
   "source": [
    "@interact_manual(\n",
    "    ts_ids=Select(options=ts_id_list, value=ts_id_list[0], rows=5, description='Time series id:'),\n",
    "    offset=IntSlider(min=-100, max=100, value=0, style=style, description='Offset:'),\n",
    "    confidence=IntSlider(min=60, max=95, value=80, step=5, style=style, description='Confidence:'),\n",
    "    history_length=IntSlider(min=2, max=20, value=2, style=style, description='History length:'),\n",
    "    show_samples=Checkbox(value=False, description='Show samples'),\n",
    "    continuous_update=False,\n",
    ")\n",
    "def plot_interact(ts_ids, offset, confidence, history_length, show_samples):\n",
    "    plot(\n",
    "        predictor,\n",
    "        target_ts=[ts for ts in timeseries if ts.name in ts_ids][0],\n",
    "        forecast_date=end_training + datetime.timedelta(days=offset),\n",
    "        show_samples=show_samples,\n",
    "        plot_history=history_length * prediction_length,\n",
    "        confidence=confidence,\n",
    "    )"
   ]
  },
  {
   "cell_type": "markdown",
   "metadata": {},
   "source": [
    "### Clean up"
   ]
  },
  {
   "cell_type": "code",
   "execution_count": 54,
   "metadata": {},
   "outputs": [
    {
     "name": "stderr",
     "output_type": "stream",
     "text": [
      "INFO:sagemaker:Deleting model with name: deepar-demo-notebook-2024-10-01-08-20-26-071\n",
      "INFO:sagemaker:Deleting endpoint configuration with name: deepar-demo-notebook-2024-10-01-08-20-26-071\n",
      "INFO:sagemaker:Deleting endpoint with name: deepar-demo-notebook-2024-10-01-08-20-26-071\n"
     ]
    }
   ],
   "source": [
    "predictor.delete_model()\n",
    "predictor.delete_endpoint()"
   ]
  },
  {
   "cell_type": "markdown",
   "metadata": {},
   "source": [
    "---"
   ]
  },
  {
   "cell_type": "markdown",
   "metadata": {
    "tags": []
   },
   "source": [
    "## Optional: DeepAR additional features\n",
    "\n",
    "You have seen how to prepare a dataset and run DeepAR for a simple example.\n",
    "\n",
    "In addition DeepAR supports the following features:\n",
    "\n",
    "* missing values: DeepAR can handle missing values in the time series during training as well as for inference.\n",
    "* [Additional time features](https://docs.aws.amazon.com/sagemaker/latest/dg/deepar_how-it-works.html#deepar_under-the-hood): DeepAR provides a set default time series features such as hour of day etc. However, you can provide additional feature time series via the `dynamic_feat` field. \n",
    "* generalize frequencies: any integer multiple of the previously supported base frequencies (minutes `min`, hours `H`, days `D`, weeks `W`, month `M`) are now allowed; e.g., `15min`. It's already demonstrated above by using `2H` frequency.\n",
    "* categories: If your time series belong to different groups (e.g. types of product, regions, etc), this information can be encoded as one or more categorical features using the `cat` field.\n",
    "\n",
    "This section demonstrates the missing values and time features support. It uses the same electricity dataset but does some artificial changes to demonstrate the new features: \n",
    "* Randomly mask parts of the time series to demonstrate the missing values support.\n",
    "* Include a \"special-day\" that occurs at different days for different time series. This \"special-day\" introduces a strong up-lift.\n",
    "* Train the model on this dataset giving \"special-day\" as a custom time series feature"
   ]
  },
  {
   "cell_type": "markdown",
   "metadata": {},
   "source": [
    "<div class=\"alert alert-info\">This section is intended for self-work, don't run this session if you're participating in an AWS-led workshop.</div>"
   ]
  },
  {
   "cell_type": "markdown",
   "metadata": {},
   "source": [
    "### Prepare dataset"
   ]
  },
  {
   "cell_type": "markdown",
   "metadata": {},
   "source": [
    "As discussed above create a \"special-day\" feature and create an up-lift for the time series during this day. This simulates real world application where you may have things like promotions of a product for a certain time or a special event that influences your time series. "
   ]
  },
  {
   "cell_type": "code",
   "execution_count": 131,
   "metadata": {},
   "outputs": [],
   "source": [
    "def create_special_day_feature(ts, fraction=0.05):\n",
    "    # First select random day indices (plus the forecast day)\n",
    "    num_days = (ts.index[-1] - ts.index[0]).days\n",
    "    rand_indices = list(np.random.randint(0, num_days, int(num_days * 0.1))) + [num_days]\n",
    "\n",
    "    feature_value = np.zeros_like(ts)\n",
    "    for i in rand_indices:\n",
    "        feature_value[i * 12 : (i + 1) * 12] = 1.0\n",
    "    feature = pd.Series(index=ts.index, data=feature_value)\n",
    "    return feature\n",
    "\n",
    "\n",
    "def drop_at_random(ts, drop_probability=0.1):\n",
    "    assert 0 <= drop_probability < 1\n",
    "    random_mask = np.random.random(len(ts)) < drop_probability\n",
    "    return ts.mask(random_mask)"
   ]
  },
  {
   "cell_type": "code",
   "execution_count": 132,
   "metadata": {},
   "outputs": [],
   "source": [
    "special_day_features = [create_special_day_feature(ts) for ts in timeseries]"
   ]
  },
  {
   "cell_type": "code",
   "execution_count": 133,
   "metadata": {},
   "outputs": [
    {
     "data": {
      "text/plain": [
       "2011-01-01 00:00:00    0.0\n",
       "2011-01-01 02:00:00    0.0\n",
       "2011-01-01 04:00:00    0.0\n",
       "2011-01-01 06:00:00    0.0\n",
       "2011-01-01 08:00:00    0.0\n",
       "                      ... \n",
       "2014-12-31 16:00:00    0.0\n",
       "2014-12-31 18:00:00    0.0\n",
       "2014-12-31 20:00:00    0.0\n",
       "2014-12-31 22:00:00    0.0\n",
       "2015-01-01 00:00:00    1.0\n",
       "Freq: 2h, Length: 17533, dtype: float64"
      ]
     },
     "execution_count": 133,
     "metadata": {},
     "output_type": "execute_result"
    }
   ],
   "source": [
    "special_day_features[0]"
   ]
  },
  {
   "cell_type": "markdown",
   "metadata": {},
   "source": [
    "Create the up-lifted time series and randomly remove time points.\n",
    "\n",
    "The figures below show some example time series and the `special_day` feature value in green. "
   ]
  },
  {
   "cell_type": "code",
   "execution_count": 168,
   "metadata": {},
   "outputs": [],
   "source": [
    "timeseries_uplift = [ts * (1.0 + feat) for ts, feat in zip(timeseries, special_day_features)]\n",
    "time_series_processed = [drop_at_random(ts) for ts in timeseries_uplift]"
   ]
  },
  {
   "cell_type": "code",
   "execution_count": 196,
   "metadata": {},
   "outputs": [
    {
     "data": {
      "image/png": "[encoded data removed]",
      "text/plain": [
       "<Figure size 2000x500 with 4 Axes>"
      ]
     },
     "metadata": {},
     "output_type": "display_data"
    }
   ],
   "source": [
    "sample_size = min(ts_df.shape[1], 10)\n",
    "\n",
    "n_rows = (sample_size+1)//2\n",
    "n_cols = 2\n",
    "history = prediction_length*5\n",
    "\n",
    "fig, axs = plt.subplots(n_rows, n_cols, figsize=(20, 5*n_rows))\n",
    "axx = axs.ravel()\n",
    "for i in range(sample_size):\n",
    "    time_series_processed[i][:history].plot(ax=axx[i])\n",
    "    special_day_features[i][:history].plot(ax=axx[i].twinx(), color=\"g\")"
   ]
  },
  {
   "cell_type": "markdown",
   "metadata": {},
   "source": [
    "### Create train and test datasets"
   ]
  },
  {
   "cell_type": "code",
   "execution_count": 197,
   "metadata": {},
   "outputs": [
    {
     "name": "stdout",
     "output_type": "stream",
     "text": [
      "2\n",
      "CPU times: user 154 ms, sys: 7.87 ms, total: 162 ms\n",
      "Wall time: 161 ms\n"
     ]
    }
   ],
   "source": [
    "%%time\n",
    "\n",
    "training_data_new_features = [\n",
    "    {\n",
    "        \"start\": str(start_dataset),\n",
    "        \"target\": encode_target(ts[start_dataset:end_training]),\n",
    "        \"dynamic_feat\": [special_day_features[i][start_dataset:end_training].tolist()],\n",
    "    }\n",
    "    for i, ts in enumerate(time_series_processed)\n",
    "]\n",
    "print(len(training_data_new_features))\n",
    "\n",
    "# as in the previous example, do a rolling evaluation over the next 7 days\n",
    "num_test_windows = 7\n",
    "\n",
    "test_data_new_features = [\n",
    "    {\n",
    "        \"start\": str(start_dataset),\n",
    "        \"target\": encode_target(\n",
    "            ts[start_dataset : end_training + 2 * k * prediction_length * ts.index.freq]\n",
    "        ),\n",
    "        \"dynamic_feat\": [\n",
    "            special_day_features[i][\n",
    "                start_dataset : end_training + 2 * k * prediction_length * ts.index.freq\n",
    "            ].tolist()\n",
    "        ],\n",
    "    }\n",
    "    for k in range(1, num_test_windows + 1)\n",
    "    for i, ts in enumerate(timeseries_uplift)\n",
    "]"
   ]
  },
  {
   "cell_type": "code",
   "execution_count": 198,
   "metadata": {},
   "outputs": [],
   "source": [
    "def check_dataset_consistency(train_dataset, test_dataset=None):\n",
    "    d = train_dataset[0]\n",
    "    has_dynamic_feat = \"dynamic_feat\" in d\n",
    "    if has_dynamic_feat:\n",
    "        num_dynamic_feat = len(d[\"dynamic_feat\"])\n",
    "    has_cat = \"cat\" in d\n",
    "    if has_cat:\n",
    "        num_cat = len(d[\"cat\"])\n",
    "\n",
    "    def check_ds(ds):\n",
    "        for i, d in enumerate(ds):\n",
    "            if has_dynamic_feat:\n",
    "                assert \"dynamic_feat\" in d\n",
    "                assert num_dynamic_feat == len(d[\"dynamic_feat\"])\n",
    "                for f in d[\"dynamic_feat\"]:\n",
    "                    assert len(d[\"target\"]) == len(f)\n",
    "            if has_cat:\n",
    "                assert \"cat\" in d\n",
    "                assert len(d[\"cat\"]) == num_cat\n",
    "\n",
    "    check_ds(train_dataset)\n",
    "    if test_dataset is not None:\n",
    "        check_ds(test_dataset)\n",
    "\n",
    "\n",
    "check_dataset_consistency(training_data_new_features, test_data_new_features)"
   ]
  },
  {
   "cell_type": "code",
   "execution_count": 199,
   "metadata": {},
   "outputs": [
    {
     "name": "stdout",
     "output_type": "stream",
     "text": [
      "CPU times: user 140 ms, sys: 4 ms, total: 144 ms\n",
      "Wall time: 143 ms\n"
     ]
    }
   ],
   "source": [
    "%%time\n",
    "write_dicts_to_file(\"./data/train_new_features.json\", training_data_new_features)\n",
    "write_dicts_to_file(\"./data/test_new_features.json\", test_data_new_features)"
   ]
  },
  {
   "cell_type": "code",
   "execution_count": 200,
   "metadata": {},
   "outputs": [],
   "source": [
    "s3_data_path_new_features = f\"s3://{s3_bucket}/{s3_prefix}/new-features/data\"\n",
    "s3_output_path_new_features = f\"s3://{s3_bucket}/{s3_prefix}/new-features/output\""
   ]
  },
  {
   "cell_type": "code",
   "execution_count": 201,
   "metadata": {},
   "outputs": [
    {
     "name": "stdout",
     "output_type": "stream",
     "text": [
      "upload: data/train_new_features.json to s3://sagemaker-us-east-1-361769591734/deepar-demo-notebook/new-features/data/train/test_new_features.json\n",
      "upload: data/test_new_features.json to s3://sagemaker-us-east-1-361769591734/deepar-demo-notebook/new-features/data/test/test_new_features.json\n"
     ]
    }
   ],
   "source": [
    "!aws s3 cp ./data/train_new_features.json {s3_data_path_new_features}/train/test_new_features.json\n",
    "!aws s3 cp ./data/test_new_features.json {s3_data_path_new_features}/test/test_new_features.json"
   ]
  },
  {
   "cell_type": "markdown",
   "metadata": {},
   "source": [
    "### Train the model\n",
    "The model training takes about 25-35 minutes."
   ]
  },
  {
   "cell_type": "code",
   "execution_count": 202,
   "metadata": {},
   "outputs": [
    {
     "name": "stdout",
     "output_type": "stream",
     "text": [
      "CPU times: user 6.05 ms, sys: 7.87 ms, total: 13.9 ms\n",
      "Wall time: 12.9 ms\n"
     ]
    }
   ],
   "source": [
    "%%time\n",
    "estimator_new_features = sagemaker.estimator.Estimator(\n",
    "    image_uri=image_name,\n",
    "    sagemaker_session=sagemaker_session,\n",
    "    role=sm_role,\n",
    "    instance_count=1,\n",
    "    instance_type=instance_type,\n",
    "    base_job_name=\"deepar-demo-notebook-new-features\",\n",
    "    output_path=s3_output_path_new_features,\n",
    ")\n",
    "\n",
    "hyperparameters = {\n",
    "    \"time_freq\": freq.upper(),\n",
    "    \"context_length\": str(context_length),\n",
    "    \"prediction_length\": str(prediction_length),\n",
    "    \"epochs\": \"200\",\n",
    "    \"learning_rate\": \"5E-4\",\n",
    "    \"mini_batch_size\": \"64\",\n",
    "    \"early_stopping_patience\": \"40\",\n",
    "    \"num_dynamic_feat\": \"auto\",  # this will use the `dynamic_feat` field if it's present in the data\n",
    "}\n",
    "estimator_new_features.set_hyperparameters(**hyperparameters)"
   ]
  },
  {
   "cell_type": "markdown",
   "metadata": {},
   "source": [
    "<img src=\"data:image/svg+xml;base64,Cjxzdmcgd2lkdGg9IjgwMCIgaGVpZ2h0PSIxMjUiIHZpZXdCb3g9IjAgMCA4MDAgMTI1IiB4bWxucz0iaHR0cDovL3d3dy53My5vcmcvMjAwMC9zdmciPgogICAgPGRlZnM+CiAgICAgICAgPGxpbmVhckdyYWRpZW50IGlkPSJmYWRlR3JhZGllbnQiIHgxPSIwIiB4Mj0iMSI+CiAgICAgICAgICAgIDxzdG9wIG9mZnNldD0iMCUiIHN0b3AtY29sb3I9IiNGMEYwRjAiLz4KICAgICAgICAgICAgPHN0b3Agb2Zmc2V0PSIxMDAlIiBzdG9wLWNvbG9yPSIjRjBGMEYwIiBzdG9wLW9wYWNpdHk9IjAiLz4KICAgICAgICA8L2xpbmVhckdyYWRpZW50PgogICAgICAgIDxtYXNrIGlkPSJmYWRlTWFzayI+CiAgICAgICAgICAgIDxyZWN0IHg9IjAiIHk9IjAiIHdpZHRoPSI3NTAiIGhlaWdodD0iMTI1IiBmaWxsPSJ3aGl0ZSIvPgogICAgICAgICAgICA8cmVjdCB4PSI3NTAiIHk9IjAiIHdpZHRoPSI1MCIgaGVpZ2h0PSIxMjUiIGZpbGw9InVybCgjZmFkZUdyYWRpZW50KSIvPgogICAgICAgIDwvbWFzaz4KICAgIDwvZGVmcz4KICAgIDxwYXRoIGQ9Ik0zLDUwIEE1MCw1MCAwIDAgMSA1MywzIEw3OTcsMyBMNzk3LDk3IEw5Nyw5NyBMNTAsMTE1IEwzLDk3IFoiIGZpbGw9IiNGMEYwRjAiIHN0cm9rZT0iI0UwRTBFMCIgc3Ryb2tlLXdpZHRoPSIxIiBtYXNrPSJ1cmwoI2ZhZGVNYXNrKSIvPgogICAgPGNpcmNsZSBjeD0iNTAiIGN5PSI1MCIgcj0iMzAiIGZpbGw9IiM1N2M0ZjgiIHN0cm9rZT0iIzU3YzRmOCIgc3Ryb2tlLXdpZHRoPSIxIi8+CiAgICA8Y2lyY2xlIGN4PSI1MCIgY3k9IjUwIiByPSIyNSIgZmlsbD0iI0YwRjBGMCIvPgogICAgPGxpbmUgeDE9IjUwIiB5MT0iNTAiIHgyPSI1MCIgeTI9IjMwIiBzdHJva2U9IiM1N2M0ZjgiIHN0cm9rZS13aWR0aD0iMyIgc3Ryb2tlLWxpbmVjYXA9InJvdW5kIi8+CiAgICA8bGluZSB4MT0iNTAiIHkxPSI1MCIgeDI9IjY1IiB5Mj0iNTAiIHN0cm9rZT0iIzU3YzRmOCIgc3Ryb2tlLXdpZHRoPSIzIiBzdHJva2UtbGluZWNhcD0icm91bmQiLz4KICAgIDx0ZXh0IHg9IjEwMCIgeT0iMzQiIGZvbnQtZmFtaWx5PSJBcmlhbCwgc2Fucy1zZXJpZiIgZm9udC1zaXplPSIxNCIgZmlsbD0iIzMzMzMzMyI+VGhlIG5leHQgY2VsbCBtYXkgdGFrZSBhIGZldyBtaW51dGVzIHRvIHJ1bi48L3RleHQ+Cjwvc3ZnPgo=\" alt=\"Time alert open medium\"/>"
   ]
  },
  {
   "cell_type": "code",
   "execution_count": null,
   "metadata": {},
   "outputs": [],
   "source": [
    "estimator_new_features.fit(\n",
    "    inputs={\n",
    "        \"train\": f\"{s3_data_path_new_features}/train/\",\n",
    "        \"test\": f\"{s3_data_path_new_features}/test/\",\n",
    "    },\n",
    "    wait=True,\n",
    ")"
   ]
  },
  {
   "cell_type": "markdown",
   "metadata": {},
   "source": [
    "<img src=\"data:image/svg+xml;base64,Cjxzdmcgd2lkdGg9IjgwMCIgaGVpZ2h0PSI1MCIgdmlld0JveD0iMCAwIDgwMCA1MCIgeG1sbnM9Imh0dHA6Ly93d3cudzMub3JnLzIwMDAvc3ZnIj4KICAgIDxkZWZzPgogICAgICAgIDxsaW5lYXJHcmFkaWVudCBpZD0iZmFkZUdyYWRpZW50IiB4MT0iMCIgeDI9IjEiPgogICAgICAgICAgICA8c3RvcCBvZmZzZXQ9IjAlIiBzdG9wLWNvbG9yPSIjRjBGMEYwIi8+CiAgICAgICAgICAgIDxzdG9wIG9mZnNldD0iMTAwJSIgc3RvcC1jb2xvcj0iI0YwRjBGMCIgc3RvcC1vcGFjaXR5PSIwIi8+CiAgICAgICAgPC9saW5lYXJHcmFkaWVudD4KICAgICAgICA8bWFzayBpZD0iZmFkZU1hc2siPgogICAgICAgICAgICA8cmVjdCB4PSIwIiB5PSIwIiB3aWR0aD0iNzUwIiBoZWlnaHQ9IjUwIiBmaWxsPSJ3aGl0ZSIvPgogICAgICAgICAgICA8cmVjdCB4PSI3NTAiIHk9IjAiIHdpZHRoPSI1MCIgaGVpZ2h0PSI1MCIgZmlsbD0idXJsKCNmYWRlR3JhZGllbnQpIi8+CiAgICAgICAgPC9tYXNrPgogICAgPC9kZWZzPgogICAgPHBhdGggZD0iTTI1LDUwIFEwLDUwIDAsMjUgTDUwLDMgTDk3LDI1IEw3OTcsMjUgTDc5Nyw1MCBMMjUsNTAgWiIgZmlsbD0iI0YwRjBGMCIgc3Ryb2tlPSIjRTBFMEUwIiBzdHJva2Utd2lkdGg9IjEiIG1hc2s9InVybCgjZmFkZU1hc2spIi8+Cjwvc3ZnPgo=\" alt=\"Time alert close\"/>"
   ]
  },
  {
   "cell_type": "code",
   "execution_count": 204,
   "metadata": {},
   "outputs": [
    {
     "data": {
      "text/html": [
       "<div>\n",
       "<style scoped>\n",
       "    .dataframe tbody tr th:only-of-type {\n",
       "        vertical-align: middle;\n",
       "    }\n",
       "\n",
       "    .dataframe tbody tr th {\n",
       "        vertical-align: top;\n",
       "    }\n",
       "\n",
       "    .dataframe thead th {\n",
       "        text-align: right;\n",
       "    }\n",
       "</style>\n",
       "<table border=\"1\" class=\"dataframe\">\n",
       "  <thead>\n",
       "    <tr style=\"text-align: right;\">\n",
       "      <th></th>\n",
       "      <th>timestamp</th>\n",
       "      <th>metric_name</th>\n",
       "      <th>value</th>\n",
       "    </tr>\n",
       "  </thead>\n",
       "  <tbody>\n",
       "    <tr>\n",
       "      <th>0</th>\n",
       "      <td>0.0</td>\n",
       "      <td>test:mean_wQuantileLoss</td>\n",
       "      <td>0.087313</td>\n",
       "    </tr>\n",
       "    <tr>\n",
       "      <th>71</th>\n",
       "      <td>0.0</td>\n",
       "      <td>train:final_loss</td>\n",
       "      <td>3.221323</td>\n",
       "    </tr>\n",
       "    <tr>\n",
       "      <th>95</th>\n",
       "      <td>0.0</td>\n",
       "      <td>test:RMSE</td>\n",
       "      <td>133.963902</td>\n",
       "    </tr>\n",
       "  </tbody>\n",
       "</table>\n",
       "</div>"
      ],
      "text/plain": [
       "    timestamp              metric_name       value\n",
       "0         0.0  test:mean_wQuantileLoss    0.087313\n",
       "71        0.0         train:final_loss    3.221323\n",
       "95        0.0                test:RMSE  133.963902"
      ]
     },
     "execution_count": 204,
     "metadata": {},
     "output_type": "execute_result"
    }
   ],
   "source": [
    "# Show the metrics computed by the DeepAR algorithm\n",
    "model_metrics_df = estimator_new_features.training_job_analytics.dataframe()\n",
    "metrics_filter = ['test:RMSE', 'test:mean_wQuantileLoss', 'train:final_loss']\n",
    "# Filter the DataFrame\n",
    "model_metrics_df = model_metrics_df[model_metrics_df['metric_name'].isin(metrics_filter)]\n",
    "\n",
    "model_metrics_df"
   ]
  },
  {
   "cell_type": "markdown",
   "metadata": {},
   "source": [
    "### Evaluate the model\n",
    "As before, deploy a model as a real-time endpoint to visualize forecasts on examples you send to the endpoint."
   ]
  },
  {
   "cell_type": "markdown",
   "metadata": {},
   "source": [
    "<div class=\"alert alert-info\">If you get an exception <code>ResourceLimitExceeded</code> when calling the <code>deploy()</code> method, you might already utilize the available quota for the specific type of ML instances. Try another instance for what you have a quota available or delete an existing endpoint if you don't need it anymore.</div>"
   ]
  },
  {
   "cell_type": "markdown",
   "metadata": {},
   "source": [
    "<img src=\"data:image/svg+xml;base64,Cjxzdmcgd2lkdGg9IjgwMCIgaGVpZ2h0PSIxMjUiIHZpZXdCb3g9IjAgMCA4MDAgMTI1IiB4bWxucz0iaHR0cDovL3d3dy53My5vcmcvMjAwMC9zdmciPgogICAgPGRlZnM+CiAgICAgICAgPGxpbmVhckdyYWRpZW50IGlkPSJmYWRlR3JhZGllbnQiIHgxPSIwIiB4Mj0iMSI+CiAgICAgICAgICAgIDxzdG9wIG9mZnNldD0iMCUiIHN0b3AtY29sb3I9IiNGMEYwRjAiLz4KICAgICAgICAgICAgPHN0b3Agb2Zmc2V0PSIxMDAlIiBzdG9wLWNvbG9yPSIjRjBGMEYwIiBzdG9wLW9wYWNpdHk9IjAiLz4KICAgICAgICA8L2xpbmVhckdyYWRpZW50PgogICAgICAgIDxtYXNrIGlkPSJmYWRlTWFzayI+CiAgICAgICAgICAgIDxyZWN0IHg9IjAiIHk9IjAiIHdpZHRoPSI3NTAiIGhlaWdodD0iMTI1IiBmaWxsPSJ3aGl0ZSIvPgogICAgICAgICAgICA8cmVjdCB4PSI3NTAiIHk9IjAiIHdpZHRoPSI1MCIgaGVpZ2h0PSIxMjUiIGZpbGw9InVybCgjZmFkZUdyYWRpZW50KSIvPgogICAgICAgIDwvbWFzaz4KICAgIDwvZGVmcz4KICAgIDxwYXRoIGQ9Ik0zLDUwIEE1MCw1MCAwIDAgMSA1MywzIEw3OTcsMyBMNzk3LDk3IEw5Nyw5NyBMNTAsMTE1IEwzLDk3IFoiIGZpbGw9IiNGMEYwRjAiIHN0cm9rZT0iI0UwRTBFMCIgc3Ryb2tlLXdpZHRoPSIxIiBtYXNrPSJ1cmwoI2ZhZGVNYXNrKSIvPgogICAgPGNpcmNsZSBjeD0iNTAiIGN5PSI1MCIgcj0iMzAiIGZpbGw9IiM1N2M0ZjgiIHN0cm9rZT0iIzU3YzRmOCIgc3Ryb2tlLXdpZHRoPSIxIi8+CiAgICA8Y2lyY2xlIGN4PSI1MCIgY3k9IjUwIiByPSIyNSIgZmlsbD0iI0YwRjBGMCIvPgogICAgPGxpbmUgeDE9IjUwIiB5MT0iNTAiIHgyPSI1MCIgeTI9IjMwIiBzdHJva2U9IiM1N2M0ZjgiIHN0cm9rZS13aWR0aD0iMyIgc3Ryb2tlLWxpbmVjYXA9InJvdW5kIi8+CiAgICA8bGluZSB4MT0iNTAiIHkxPSI1MCIgeDI9IjY1IiB5Mj0iNTAiIHN0cm9rZT0iIzU3YzRmOCIgc3Ryb2tlLXdpZHRoPSIzIiBzdHJva2UtbGluZWNhcD0icm91bmQiLz4KICAgIDx0ZXh0IHg9IjEwMCIgeT0iMzQiIGZvbnQtZmFtaWx5PSJBcmlhbCwgc2Fucy1zZXJpZiIgZm9udC1zaXplPSIxNCIgZmlsbD0iIzMzMzMzMyI+VGhlIG5leHQgY2VsbCBtYXkgdGFrZSBhIGZldyBtaW51dGVzIHRvIHJ1bi48L3RleHQ+Cjwvc3ZnPgo=\" alt=\"Time alert open medium\"/>"
   ]
  },
  {
   "cell_type": "code",
   "execution_count": 205,
   "metadata": {},
   "outputs": [
    {
     "name": "stderr",
     "output_type": "stream",
     "text": [
      "INFO:sagemaker:Creating model with name: deepar-demo-notebook-new-features-2024-09-27-13-47-51-139\n",
      "INFO:sagemaker:Creating endpoint-config with name deepar-demo-notebook-new-features-2024-09-27-13-47-51-139\n",
      "INFO:sagemaker:Creating endpoint with name deepar-demo-notebook-new-features-2024-09-27-13-47-51-139\n"
     ]
    },
    {
     "name": "stdout",
     "output_type": "stream",
     "text": [
      "-------------!CPU times: user 82.9 ms, sys: 3.72 ms, total: 86.6 ms\n",
      "Wall time: 7min 2s\n"
     ]
    }
   ],
   "source": [
    "%%time\n",
    "predictor_new_features = estimator_new_features.deploy(\n",
    "    initial_instance_count=1, \n",
    "    instance_type=ep_instance_type, \n",
    "    predictor_cls=DeepARPredictor\n",
    ")"
   ]
  },
  {
   "cell_type": "markdown",
   "metadata": {},
   "source": [
    "<img src=\"data:image/svg+xml;base64,Cjxzdmcgd2lkdGg9IjgwMCIgaGVpZ2h0PSI1MCIgdmlld0JveD0iMCAwIDgwMCA1MCIgeG1sbnM9Imh0dHA6Ly93d3cudzMub3JnLzIwMDAvc3ZnIj4KICAgIDxkZWZzPgogICAgICAgIDxsaW5lYXJHcmFkaWVudCBpZD0iZmFkZUdyYWRpZW50IiB4MT0iMCIgeDI9IjEiPgogICAgICAgICAgICA8c3RvcCBvZmZzZXQ9IjAlIiBzdG9wLWNvbG9yPSIjRjBGMEYwIi8+CiAgICAgICAgICAgIDxzdG9wIG9mZnNldD0iMTAwJSIgc3RvcC1jb2xvcj0iI0YwRjBGMCIgc3RvcC1vcGFjaXR5PSIwIi8+CiAgICAgICAgPC9saW5lYXJHcmFkaWVudD4KICAgICAgICA8bWFzayBpZD0iZmFkZU1hc2siPgogICAgICAgICAgICA8cmVjdCB4PSIwIiB5PSIwIiB3aWR0aD0iNzUwIiBoZWlnaHQ9IjUwIiBmaWxsPSJ3aGl0ZSIvPgogICAgICAgICAgICA8cmVjdCB4PSI3NTAiIHk9IjAiIHdpZHRoPSI1MCIgaGVpZ2h0PSI1MCIgZmlsbD0idXJsKCNmYWRlR3JhZGllbnQpIi8+CiAgICAgICAgPC9tYXNrPgogICAgPC9kZWZzPgogICAgPHBhdGggZD0iTTI1LDUwIFEwLDUwIDAsMjUgTDUwLDMgTDk3LDI1IEw3OTcsMjUgTDc5Nyw1MCBMMjUsNTAgWiIgZmlsbD0iI0YwRjBGMCIgc3Ryb2tlPSIjRTBFMEUwIiBzdHJva2Utd2lkdGg9IjEiIG1hc2s9InVybCgjZmFkZU1hc2spIi8+Cjwvc3ZnPgo=\" alt=\"Time alert close\"/>"
   ]
  },
  {
   "cell_type": "code",
   "execution_count": 206,
   "metadata": {},
   "outputs": [
    {
     "data": {
      "text/html": [
       "<div>\n",
       "<style scoped>\n",
       "    .dataframe tbody tr th:only-of-type {\n",
       "        vertical-align: middle;\n",
       "    }\n",
       "\n",
       "    .dataframe tbody tr th {\n",
       "        vertical-align: top;\n",
       "    }\n",
       "\n",
       "    .dataframe thead th {\n",
       "        text-align: right;\n",
       "    }\n",
       "</style>\n",
       "<table border=\"1\" class=\"dataframe\">\n",
       "  <thead>\n",
       "    <tr style=\"text-align: right;\">\n",
       "      <th></th>\n",
       "      <th>0.1</th>\n",
       "      <th>0.5</th>\n",
       "      <th>0.9</th>\n",
       "    </tr>\n",
       "  </thead>\n",
       "  <tbody>\n",
       "    <tr>\n",
       "      <th>2014-12-25 02:00:00</th>\n",
       "      <td>445.320038</td>\n",
       "      <td>513.660889</td>\n",
       "      <td>569.843689</td>\n",
       "    </tr>\n",
       "    <tr>\n",
       "      <th>2014-12-25 04:00:00</th>\n",
       "      <td>476.936401</td>\n",
       "      <td>547.002930</td>\n",
       "      <td>614.072266</td>\n",
       "    </tr>\n",
       "    <tr>\n",
       "      <th>2014-12-25 06:00:00</th>\n",
       "      <td>698.614868</td>\n",
       "      <td>754.053528</td>\n",
       "      <td>844.121277</td>\n",
       "    </tr>\n",
       "    <tr>\n",
       "      <th>2014-12-25 08:00:00</th>\n",
       "      <td>1046.855469</td>\n",
       "      <td>1120.133301</td>\n",
       "      <td>1230.026611</td>\n",
       "    </tr>\n",
       "    <tr>\n",
       "      <th>2014-12-25 10:00:00</th>\n",
       "      <td>1237.915283</td>\n",
       "      <td>1340.592041</td>\n",
       "      <td>1439.103638</td>\n",
       "    </tr>\n",
       "  </tbody>\n",
       "</table>\n",
       "</div>"
      ],
      "text/plain": [
       "                             0.1          0.5          0.9\n",
       "2014-12-25 02:00:00   445.320038   513.660889   569.843689\n",
       "2014-12-25 04:00:00   476.936401   547.002930   614.072266\n",
       "2014-12-25 06:00:00   698.614868   754.053528   844.121277\n",
       "2014-12-25 08:00:00  1046.855469  1120.133301  1230.026611\n",
       "2014-12-25 10:00:00  1237.915283  1340.592041  1439.103638"
      ]
     },
     "execution_count": 206,
     "metadata": {},
     "output_type": "execute_result"
    }
   ],
   "source": [
    "item_id = 0\n",
    "predictor_new_features.predict(\n",
    "    ts=time_series_processed[item_id][:-prediction_length],\n",
    "    dynamic_feat=[special_day_features[item_id].tolist()],\n",
    "    quantiles=[0.1, 0.5, 0.9],\n",
    ").head()"
   ]
  },
  {
   "cell_type": "markdown",
   "metadata": {},
   "source": [
    "You can query the endpoint to see predictions for arbitrary time series and time points."
   ]
  },
  {
   "cell_type": "code",
   "execution_count": 208,
   "metadata": {},
   "outputs": [
    {
     "data": {
      "application/vnd.jupyter.widget-view+json": {
       "model_id": "3ee4ee53a44545feabe81421f5c91bc3",
       "version_major": 2,
       "version_minor": 0
      },
      "text/plain": [
       "interactive(children=(IntSlider(value=1, description='item_id', max=1, style=SliderStyle(description_width='in…"
      ]
     },
     "metadata": {},
     "output_type": "display_data"
    }
   ],
   "source": [
    "@interact_manual(\n",
    "    item_id=IntSlider(min=0, max=len(time_series_processed)-1, value=120, style=style),\n",
    "    offset=IntSlider(min=-100, max=100, value=0, style=style, description='Offset:'),\n",
    "    confidence=IntSlider(min=60, max=95, value=80, step=5, style=style, description='Confidence:'),\n",
    "    missing_ratio=FloatSlider(min=0.0, max=0.95, value=0.2, step=0.05, style=style, description='Missing ratio:'),\n",
    "    show_samples=Checkbox(value=False, description='Show samples'),\n",
    "    continuous_update=False,\n",
    ")\n",
    "def plot_interact(item_id, offset, confidence, missing_ratio, show_samples):\n",
    "    forecast_date = end_training + datetime.timedelta(days=offset)\n",
    "    ts = time_series_processed[item_id]\n",
    "    freq = ts.index.freq\n",
    "    target = ts[start_dataset : forecast_date + prediction_length * freq]\n",
    "    target = drop_at_random(target, missing_ratio)\n",
    "    dynamic_feat = [\n",
    "        special_day_features[item_id][\n",
    "            start_dataset : forecast_date + prediction_length * freq\n",
    "        ].tolist()\n",
    "    ]\n",
    "    plot(\n",
    "        predictor_new_features,\n",
    "        target_ts=target,\n",
    "        dynamic_feat=dynamic_feat,\n",
    "        forecast_date=forecast_date,\n",
    "        show_samples=show_samples,\n",
    "        plot_history=2*prediction_length,\n",
    "        confidence=confidence,\n",
    "    )"
   ]
  },
  {
   "cell_type": "markdown",
   "metadata": {},
   "source": [
    "### Clean up"
   ]
  },
  {
   "cell_type": "code",
   "execution_count": 209,
   "metadata": {},
   "outputs": [
    {
     "name": "stderr",
     "output_type": "stream",
     "text": [
      "INFO:sagemaker:Deleting model with name: deepar-demo-notebook-new-features-2024-09-27-13-47-51-139\n",
      "INFO:sagemaker:Deleting endpoint configuration with name: deepar-demo-notebook-new-features-2024-09-27-13-47-51-139\n",
      "INFO:sagemaker:Deleting endpoint with name: deepar-demo-notebook-new-features-2024-09-27-13-47-51-139\n"
     ]
    }
   ],
   "source": [
    "predictor_new_features.delete_model()\n",
    "predictor_new_features.delete_endpoint()"
   ]
  },
  {
   "cell_type": "markdown",
   "metadata": {},
   "source": [
    "---"
   ]
  },
  {
   "cell_type": "markdown",
   "metadata": {},
   "source": [
    "## Shutdown kernel"
   ]
  },
  {
   "cell_type": "code",
   "execution_count": null,
   "metadata": {},
   "outputs": [],
   "source": [
    "%%html\n",
    "\n",
    "<p><b>Shutting down your kernel for this notebook to release resources.</b></p>\n",
    "<button class=\"sm-command-button\" data-commandlinker-command=\"kernelmenu:shutdown\" style=\"display:none;\">Shutdown Kernel</button>\n",
    "        \n",
    "<script>\n",
    "try {\n",
    "    els = document.getElementsByClassName(\"sm-command-button\");\n",
    "    els[0].click();\n",
    "}\n",
    "catch(err) {\n",
    "    // NoOp\n",
    "}    \n",
    "</script>"
   ]
  }
 ],
 "metadata": {
  "availableInstances": [
   {
    "_defaultOrder": 0,
    "_isFastLaunch": true,
    "category": "General purpose",
    "gpuNum": 0,
    "hideHardwareSpecs": false,
    "memoryGiB": 4,
    "name": "ml.t3.medium",
    "vcpuNum": 2
   },
   {
    "_defaultOrder": 1,
    "_isFastLaunch": false,
    "category": "General purpose",
    "gpuNum": 0,
    "hideHardwareSpecs": false,
    "memoryGiB": 8,
    "name": "ml.t3.large",
    "vcpuNum": 2
   },
   {
    "_defaultOrder": 2,
    "_isFastLaunch": false,
    "category": "General purpose",
    "gpuNum": 0,
    "hideHardwareSpecs": false,
    "memoryGiB": 16,
    "name": "ml.t3.xlarge",
    "vcpuNum": 4
   },
   {
    "_defaultOrder": 3,
    "_isFastLaunch": false,
    "category": "General purpose",
    "gpuNum": 0,
    "hideHardwareSpecs": false,
    "memoryGiB": 32,
    "name": "ml.t3.2xlarge",
    "vcpuNum": 8
   },
   {
    "_defaultOrder": 4,
    "_isFastLaunch": true,
    "category": "General purpose",
    "gpuNum": 0,
    "hideHardwareSpecs": false,
    "memoryGiB": 8,
    "name": "ml.m5.large",
    "vcpuNum": 2
   },
   {
    "_defaultOrder": 5,
    "_isFastLaunch": false,
    "category": "General purpose",
    "gpuNum": 0,
    "hideHardwareSpecs": false,
    "memoryGiB": 16,
    "name": "ml.m5.xlarge",
    "vcpuNum": 4
   },
   {
    "_defaultOrder": 6,
    "_isFastLaunch": false,
    "category": "General purpose",
    "gpuNum": 0,
    "hideHardwareSpecs": false,
    "memoryGiB": 32,
    "name": "ml.m5.2xlarge",
    "vcpuNum": 8
   },
   {
    "_defaultOrder": 7,
    "_isFastLaunch": false,
    "category": "General purpose",
    "gpuNum": 0,
    "hideHardwareSpecs": false,
    "memoryGiB": 64,
    "name": "ml.m5.4xlarge",
    "vcpuNum": 16
   },
   {
    "_defaultOrder": 8,
    "_isFastLaunch": false,
    "category": "General purpose",
    "gpuNum": 0,
    "hideHardwareSpecs": false,
    "memoryGiB": 128,
    "name": "ml.m5.8xlarge",
    "vcpuNum": 32
   },
   {
    "_defaultOrder": 9,
    "_isFastLaunch": false,
    "category": "General purpose",
    "gpuNum": 0,
    "hideHardwareSpecs": false,
    "memoryGiB": 192,
    "name": "ml.m5.12xlarge",
    "vcpuNum": 48
   },
   {
    "_defaultOrder": 10,
    "_isFastLaunch": false,
    "category": "General purpose",
    "gpuNum": 0,
    "hideHardwareSpecs": false,
    "memoryGiB": 256,
    "name": "ml.m5.16xlarge",
    "vcpuNum": 64
   },
   {
    "_defaultOrder": 11,
    "_isFastLaunch": false,
    "category": "General purpose",
    "gpuNum": 0,
    "hideHardwareSpecs": false,
    "memoryGiB": 384,
    "name": "ml.m5.24xlarge",
    "vcpuNum": 96
   },
   {
    "_defaultOrder": 12,
    "_isFastLaunch": false,
    "category": "General purpose",
    "gpuNum": 0,
    "hideHardwareSpecs": false,
    "memoryGiB": 8,
    "name": "ml.m5d.large",
    "vcpuNum": 2
   },
   {
    "_defaultOrder": 13,
    "_isFastLaunch": false,
    "category": "General purpose",
    "gpuNum": 0,
    "hideHardwareSpecs": false,
    "memoryGiB": 16,
    "name": "ml.m5d.xlarge",
    "vcpuNum": 4
   },
   {
    "_defaultOrder": 14,
    "_isFastLaunch": false,
    "category": "General purpose",
    "gpuNum": 0,
    "hideHardwareSpecs": false,
    "memoryGiB": 32,
    "name": "ml.m5d.2xlarge",
    "vcpuNum": 8
   },
   {
    "_defaultOrder": 15,
    "_isFastLaunch": false,
    "category": "General purpose",
    "gpuNum": 0,
    "hideHardwareSpecs": false,
    "memoryGiB": 64,
    "name": "ml.m5d.4xlarge",
    "vcpuNum": 16
   },
   {
    "_defaultOrder": 16,
    "_isFastLaunch": false,
    "category": "General purpose",
    "gpuNum": 0,
    "hideHardwareSpecs": false,
    "memoryGiB": 128,
    "name": "ml.m5d.8xlarge",
    "vcpuNum": 32
   },
   {
    "_defaultOrder": 17,
    "_isFastLaunch": false,
    "category": "General purpose",
    "gpuNum": 0,
    "hideHardwareSpecs": false,
    "memoryGiB": 192,
    "name": "ml.m5d.12xlarge",
    "vcpuNum": 48
   },
   {
    "_defaultOrder": 18,
    "_isFastLaunch": false,
    "category": "General purpose",
    "gpuNum": 0,
    "hideHardwareSpecs": false,
    "memoryGiB": 256,
    "name": "ml.m5d.16xlarge",
    "vcpuNum": 64
   },
   {
    "_defaultOrder": 19,
    "_isFastLaunch": false,
    "category": "General purpose",
    "gpuNum": 0,
    "hideHardwareSpecs": false,
    "memoryGiB": 384,
    "name": "ml.m5d.24xlarge",
    "vcpuNum": 96
   },
   {
    "_defaultOrder": 20,
    "_isFastLaunch": false,
    "category": "General purpose",
    "gpuNum": 0,
    "hideHardwareSpecs": true,
    "memoryGiB": 0,
    "name": "ml.geospatial.interactive",
    "supportedImageNames": [
     "sagemaker-geospatial-v1-0"
    ],
    "vcpuNum": 0
   },
   {
    "_defaultOrder": 21,
    "_isFastLaunch": true,
    "category": "Compute optimized",
    "gpuNum": 0,
    "hideHardwareSpecs": false,
    "memoryGiB": 4,
    "name": "ml.c5.large",
    "vcpuNum": 2
   },
   {
    "_defaultOrder": 22,
    "_isFastLaunch": false,
    "category": "Compute optimized",
    "gpuNum": 0,
    "hideHardwareSpecs": false,
    "memoryGiB": 8,
    "name": "ml.c5.xlarge",
    "vcpuNum": 4
   },
   {
    "_defaultOrder": 23,
    "_isFastLaunch": false,
    "category": "Compute optimized",
    "gpuNum": 0,
    "hideHardwareSpecs": false,
    "memoryGiB": 16,
    "name": "ml.c5.2xlarge",
    "vcpuNum": 8
   },
   {
    "_defaultOrder": 24,
    "_isFastLaunch": false,
    "category": "Compute optimized",
    "gpuNum": 0,
    "hideHardwareSpecs": false,
    "memoryGiB": 32,
    "name": "ml.c5.4xlarge",
    "vcpuNum": 16
   },
   {
    "_defaultOrder": 25,
    "_isFastLaunch": false,
    "category": "Compute optimized",
    "gpuNum": 0,
    "hideHardwareSpecs": false,
    "memoryGiB": 72,
    "name": "ml.c5.9xlarge",
    "vcpuNum": 36
   },
   {
    "_defaultOrder": 26,
    "_isFastLaunch": false,
    "category": "Compute optimized",
    "gpuNum": 0,
    "hideHardwareSpecs": false,
    "memoryGiB": 96,
    "name": "ml.c5.12xlarge",
    "vcpuNum": 48
   },
   {
    "_defaultOrder": 27,
    "_isFastLaunch": false,
    "category": "Compute optimized",
    "gpuNum": 0,
    "hideHardwareSpecs": false,
    "memoryGiB": 144,
    "name": "ml.c5.18xlarge",
    "vcpuNum": 72
   },
   {
    "_defaultOrder": 28,
    "_isFastLaunch": false,
    "category": "Compute optimized",
    "gpuNum": 0,
    "hideHardwareSpecs": false,
    "memoryGiB": 192,
    "name": "ml.c5.24xlarge",
    "vcpuNum": 96
   },
   {
    "_defaultOrder": 29,
    "_isFastLaunch": true,
    "category": "Accelerated computing",
    "gpuNum": 1,
    "hideHardwareSpecs": false,
    "memoryGiB": 16,
    "name": "ml.g4dn.xlarge",
    "vcpuNum": 4
   },
   {
    "_defaultOrder": 30,
    "_isFastLaunch": false,
    "category": "Accelerated computing",
    "gpuNum": 1,
    "hideHardwareSpecs": false,
    "memoryGiB": 32,
    "name": "ml.g4dn.2xlarge",
    "vcpuNum": 8
   },
   {
    "_defaultOrder": 31,
    "_isFastLaunch": false,
    "category": "Accelerated computing",
    "gpuNum": 1,
    "hideHardwareSpecs": false,
    "memoryGiB": 64,
    "name": "ml.g4dn.4xlarge",
    "vcpuNum": 16
   },
   {
    "_defaultOrder": 32,
    "_isFastLaunch": false,
    "category": "Accelerated computing",
    "gpuNum": 1,
    "hideHardwareSpecs": false,
    "memoryGiB": 128,
    "name": "ml.g4dn.8xlarge",
    "vcpuNum": 32
   },
   {
    "_defaultOrder": 33,
    "_isFastLaunch": false,
    "category": "Accelerated computing",
    "gpuNum": 4,
    "hideHardwareSpecs": false,
    "memoryGiB": 192,
    "name": "ml.g4dn.12xlarge",
    "vcpuNum": 48
   },
   {
    "_defaultOrder": 34,
    "_isFastLaunch": false,
    "category": "Accelerated computing",
    "gpuNum": 1,
    "hideHardwareSpecs": false,
    "memoryGiB": 256,
    "name": "ml.g4dn.16xlarge",
    "vcpuNum": 64
   },
   {
    "_defaultOrder": 35,
    "_isFastLaunch": false,
    "category": "Accelerated computing",
    "gpuNum": 1,
    "hideHardwareSpecs": false,
    "memoryGiB": 61,
    "name": "ml.p3.2xlarge",
    "vcpuNum": 8
   },
   {
    "_defaultOrder": 36,
    "_isFastLaunch": false,
    "category": "Accelerated computing",
    "gpuNum": 4,
    "hideHardwareSpecs": false,
    "memoryGiB": 244,
    "name": "ml.p3.8xlarge",
    "vcpuNum": 32
   },
   {
    "_defaultOrder": 37,
    "_isFastLaunch": false,
    "category": "Accelerated computing",
    "gpuNum": 8,
    "hideHardwareSpecs": false,
    "memoryGiB": 488,
    "name": "ml.p3.16xlarge",
    "vcpuNum": 64
   },
   {
    "_defaultOrder": 38,
    "_isFastLaunch": false,
    "category": "Accelerated computing",
    "gpuNum": 8,
    "hideHardwareSpecs": false,
    "memoryGiB": 768,
    "name": "ml.p3dn.24xlarge",
    "vcpuNum": 96
   },
   {
    "_defaultOrder": 39,
    "_isFastLaunch": false,
    "category": "Memory Optimized",
    "gpuNum": 0,
    "hideHardwareSpecs": false,
    "memoryGiB": 16,
    "name": "ml.r5.large",
    "vcpuNum": 2
   },
   {
    "_defaultOrder": 40,
    "_isFastLaunch": false,
    "category": "Memory Optimized",
    "gpuNum": 0,
    "hideHardwareSpecs": false,
    "memoryGiB": 32,
    "name": "ml.r5.xlarge",
    "vcpuNum": 4
   },
   {
    "_defaultOrder": 41,
    "_isFastLaunch": false,
    "category": "Memory Optimized",
    "gpuNum": 0,
    "hideHardwareSpecs": false,
    "memoryGiB": 64,
    "name": "ml.r5.2xlarge",
    "vcpuNum": 8
   },
   {
    "_defaultOrder": 42,
    "_isFastLaunch": false,
    "category": "Memory Optimized",
    "gpuNum": 0,
    "hideHardwareSpecs": false,
    "memoryGiB": 128,
    "name": "ml.r5.4xlarge",
    "vcpuNum": 16
   },
   {
    "_defaultOrder": 43,
    "_isFastLaunch": false,
    "category": "Memory Optimized",
    "gpuNum": 0,
    "hideHardwareSpecs": false,
    "memoryGiB": 256,
    "name": "ml.r5.8xlarge",
    "vcpuNum": 32
   },
   {
    "_defaultOrder": 44,
    "_isFastLaunch": false,
    "category": "Memory Optimized",
    "gpuNum": 0,
    "hideHardwareSpecs": false,
    "memoryGiB": 384,
    "name": "ml.r5.12xlarge",
    "vcpuNum": 48
   },
   {
    "_defaultOrder": 45,
    "_isFastLaunch": false,
    "category": "Memory Optimized",
    "gpuNum": 0,
    "hideHardwareSpecs": false,
    "memoryGiB": 512,
    "name": "ml.r5.16xlarge",
    "vcpuNum": 64
   },
   {
    "_defaultOrder": 46,
    "_isFastLaunch": false,
    "category": "Memory Optimized",
    "gpuNum": 0,
    "hideHardwareSpecs": false,
    "memoryGiB": 768,
    "name": "ml.r5.24xlarge",
    "vcpuNum": 96
   },
   {
    "_defaultOrder": 47,
    "_isFastLaunch": false,
    "category": "Accelerated computing",
    "gpuNum": 1,
    "hideHardwareSpecs": false,
    "memoryGiB": 16,
    "name": "ml.g5.xlarge",
    "vcpuNum": 4
   },
   {
    "_defaultOrder": 48,
    "_isFastLaunch": false,
    "category": "Accelerated computing",
    "gpuNum": 1,
    "hideHardwareSpecs": false,
    "memoryGiB": 32,
    "name": "ml.g5.2xlarge",
    "vcpuNum": 8
   },
   {
    "_defaultOrder": 49,
    "_isFastLaunch": false,
    "category": "Accelerated computing",
    "gpuNum": 1,
    "hideHardwareSpecs": false,
    "memoryGiB": 64,
    "name": "ml.g5.4xlarge",
    "vcpuNum": 16
   },
   {
    "_defaultOrder": 50,
    "_isFastLaunch": false,
    "category": "Accelerated computing",
    "gpuNum": 1,
    "hideHardwareSpecs": false,
    "memoryGiB": 128,
    "name": "ml.g5.8xlarge",
    "vcpuNum": 32
   },
   {
    "_defaultOrder": 51,
    "_isFastLaunch": false,
    "category": "Accelerated computing",
    "gpuNum": 1,
    "hideHardwareSpecs": false,
    "memoryGiB": 256,
    "name": "ml.g5.16xlarge",
    "vcpuNum": 64
   },
   {
    "_defaultOrder": 52,
    "_isFastLaunch": false,
    "category": "Accelerated computing",
    "gpuNum": 4,
    "hideHardwareSpecs": false,
    "memoryGiB": 192,
    "name": "ml.g5.12xlarge",
    "vcpuNum": 48
   },
   {
    "_defaultOrder": 53,
    "_isFastLaunch": false,
    "category": "Accelerated computing",
    "gpuNum": 4,
    "hideHardwareSpecs": false,
    "memoryGiB": 384,
    "name": "ml.g5.24xlarge",
    "vcpuNum": 96
   },
   {
    "_defaultOrder": 54,
    "_isFastLaunch": false,
    "category": "Accelerated computing",
    "gpuNum": 8,
    "hideHardwareSpecs": false,
    "memoryGiB": 768,
    "name": "ml.g5.48xlarge",
    "vcpuNum": 192
   },
   {
    "_defaultOrder": 55,
    "_isFastLaunch": false,
    "category": "Accelerated computing",
    "gpuNum": 8,
    "hideHardwareSpecs": false,
    "memoryGiB": 1152,
    "name": "ml.p4d.24xlarge",
    "vcpuNum": 96
   },
   {
    "_defaultOrder": 56,
    "_isFastLaunch": false,
    "category": "Accelerated computing",
    "gpuNum": 8,
    "hideHardwareSpecs": false,
    "memoryGiB": 1152,
    "name": "ml.p4de.24xlarge",
    "vcpuNum": 96
   }
  ],
  "instance_type": "ml.m5.large",
  "kernelspec": {
   "display_name": "Python 3 (ipykernel)",
   "language": "python",
   "name": "python3"
  },
  "language_info": {
   "codemirror_mode": {
    "name": "ipython",
    "version": 3
   },
   "file_extension": ".py",
   "mimetype": "text/x-python",
   "name": "python",
   "nbconvert_exporter": "python",
   "pygments_lexer": "ipython3",
   "version": "3.11.9"
  },
  "notice": "Copyright 2018 Amazon.com, Inc. or its affiliates. All Rights Reserved.  Licensed under the Apache License, Version 2.0 (the \"License\"). You may not use this file except in compliance with the License. A copy of the License is located at http://aws.amazon.com/apache2.0/ or in the \"license\" file accompanying this file. This file is distributed on an \"AS IS\" BASIS, WITHOUT WARRANTIES OR CONDITIONS OF ANY KIND, either express or implied. See the License for the specific language governing permissions and limitations under the License."
 },
 "nbformat": 4,
 "nbformat_minor": 4
}
