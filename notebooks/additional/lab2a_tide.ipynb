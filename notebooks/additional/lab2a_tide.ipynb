{
 "cells": [
  {
   "cell_type": "markdown",
   "id": "79856ce0-f2bf-4c44-b7be-f7fbffb26648",
   "metadata": {},
   "source": [
    "<img width=\"40%\" src=\"https://d1.awsstatic.com/product-marketing/IronMan/AWS-service-icon_sagemaker.5ccec16f16a04ed56cb1d7f02dcdada8de261923.png\" alt=\"GluonTS logo\" style=\"display: block; margin-left: auto; margin-right: auto;\">\n",
    "\n",
    "\n",
    "\n",
    "# Lab 2A: Implement a custom algorithm on Amazon SageMaker AI\n",
    "\n",
    "This notebook demonstrates how to use SageMaker infrastructure, features, and [Python SDK](https://sagemaker.readthedocs.io/en/stable/index.html) to build, evaluate, and train any time series forecasting algorithm. You learn how to train a model in a notebook, in a remote function, and with a built-in SageMaker training container.\n",
    "\n",
    "As an example of a time series forecast algorithm, this notebook uses a popular state-of-the-art algorithm TiDE.\n",
    "\n",
    "TiDE (Time-series Dense Encoder) is a powerful MLP-based encoder-decoder model developed by Google Research that excels at long-term time series forecasting. Unlike complex Transformer-based approaches, TiDE achieves state-of-the-art performance using a simple architecture built on dense neural networks. The model supports both univariate and multivariate forecasting, handles past and future covariates, and provides probabilistic forecasting capabilities while maintaining linear computational scaling. In this notebook, you explore how to implement and train TiDE models using the [Darts library](https://unit8co.github.io/darts/) ([Darts paper](https://www.jmlr.org/papers/v23/21-1177.html)), which offers a comprehensive implementation of the architecture. \n",
    "\n",
    "For more details on TiDE refer to the [orginal paper](https://arxiv.org/pdf/2304.08424.pdf)."
   ]
  },
  {
   "cell_type": "code",
   "execution_count": null,
   "id": "f8d92142-dbe4-47b1-a426-4f87f762f0e7",
   "metadata": {},
   "outputs": [],
   "source": []
  },
  {
   "cell_type": "code",
   "execution_count": null,
   "id": "b0ea5193-5810-48a5-b444-f0f4bd33a88b",
   "metadata": {},
   "outputs": [],
   "source": []
  },
  {
   "cell_type": "code",
   "execution_count": null,
   "id": "857576f5-bf49-4c7e-93e9-ec24c6d19307",
   "metadata": {},
   "outputs": [],
   "source": []
  },
  {
   "cell_type": "code",
   "execution_count": null,
   "id": "af163342-0529-4417-8221-dde428fa7c6e",
   "metadata": {},
   "outputs": [],
   "source": []
  }
 ],
 "metadata": {
  "kernelspec": {
   "display_name": "Python 3 (ipykernel)",
   "language": "python",
   "name": "python3"
  },
  "language_info": {
   "codemirror_mode": {
    "name": "ipython",
    "version": 3
   },
   "file_extension": ".py",
   "mimetype": "text/x-python",
   "name": "python",
   "nbconvert_exporter": "python",
   "pygments_lexer": "ipython3",
   "version": "3.11.10"
  }
 },
 "nbformat": 4,
 "nbformat_minor": 5
}
