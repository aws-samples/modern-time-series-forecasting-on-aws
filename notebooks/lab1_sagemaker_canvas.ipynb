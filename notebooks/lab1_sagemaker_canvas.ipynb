{
 "cells": [
  {
   "cell_type": "markdown",
   "id": "a1094c8f-26d5-40ea-b99b-cc4fc8c01a7c",
   "metadata": {},
   "source": [
    "# Lab 1: time series forecast with Amazon SageMaker Canvas\n",
    "This notebook shows how to use no code AutoML [Amazon SageMaker Canvas](https://docs.aws.amazon.com/sagemaker/latest/dg/canvas.html) to train models and generate predictions without needing to write any code.\n",
    "\n",
    "You can train a Canvas custom model for [time series forecasting](https://docs.aws.amazon.com/sagemaker/latest/dg/canvas-time-series.html). Canvas time series model training uses the [Sagemaker Autopilot](https://docs.aws.amazon.com/sagemaker/latest/dg/autopilot-automate-model-development.html), which enables the use of various Autopilot’s public APIs. These include operations like `CreateAutoMLJobV2`, `ListCandidatesForAutoMLJob`, and `DescribeAutoMLJobV2` among others. This integration facilitates a streamlined process for training machine learning models directly within the Canvas environment.\n",
    "\n",
    "Canvas automatically trains candidate models using these [time series forecasting algorithms](https://docs.aws.amazon.com/sagemaker/latest/dg/timeseries-forecasting-algorithms.html) and then creates a model ensemble as a final model.\n",
    "\n",
    "In this notebook you learn how to use Canvas features to explore and process data and how to train a time series model in different build modes.\n",
    "\n",
    "<div class=\"alert alert-info\">\n",
    "While working with Canvas, you don't need to write any code or use Jupyter notebooks. This notebook is only for instructions and to download and preprocess a time series dataset.\n",
    "</div>"
   ]
  },
  {
   "cell_type": "markdown",
   "id": "3c10d75d-ed8d-4bed-9df8-dd07269d00bf",
   "metadata": {},
   "source": [
    "## Setup notebook environment"
   ]
  },
  {
   "cell_type": "code",
   "execution_count": 57,
   "id": "fa97fce8-db01-4e47-b644-a67f59642f03",
   "metadata": {},
   "outputs": [
    {
     "data": {
      "text/plain": [
       "'2.224.4'"
      ]
     },
     "execution_count": 57,
     "metadata": {},
     "output_type": "execute_result"
    }
   ],
   "source": [
    "import boto3\n",
    "import zipfile\n",
    "import sagemaker\n",
    "import os\n",
    "import numpy as np\n",
    "import pandas as pd\n",
    "import json\n",
    "\n",
    "sagemaker.__version__"
   ]
  },
  {
   "cell_type": "code",
   "execution_count": 4,
   "id": "10b302d5-5654-4a7f-83f6-0562bdadf149",
   "metadata": {},
   "outputs": [],
   "source": [
    "sagemaker_session = sagemaker.Session()\n",
    "region = sagemaker_session.boto_region_name\n",
    "\n",
    "\n",
    "s3_bucket = sagemaker_session.default_bucket()  # replace with an existing bucket if needed\n",
    "s3_prefix = \"canvas-demo-notebook\" \n",
    "s3_data_path = f\"s3://{s3_bucket}/{s3_prefix}/data\""
   ]
  },
  {
   "cell_type": "code",
   "execution_count": 59,
   "id": "ece99b01-78da-409e-9729-008e66dbe11a",
   "metadata": {},
   "outputs": [
    {
     "name": "stdout",
     "output_type": "stream",
     "text": [
      "SageMaker domain id: d-d345khpp52hx\n",
      "Space name: sagemaker-space\n",
      "User profile: studio-user-15cf2030\n",
      "Stored 'domain_id' (str)\n",
      "Stored 'space_name' (str)\n",
      "Stored 'user_profile_name' (str)\n",
      "Stored 'region' (str)\n"
     ]
    }
   ],
   "source": [
    "# get domain_id and user profile name\n",
    "NOTEBOOK_METADATA_FILE = \"/opt/ml/metadata/resource-metadata.json\"\n",
    "domain_id = None\n",
    "\n",
    "if os.path.exists(NOTEBOOK_METADATA_FILE):\n",
    "    with open(NOTEBOOK_METADATA_FILE, \"rb\") as f:\n",
    "        metadata = json.loads(f.read())\n",
    "        domain_id = metadata.get('DomainId')\n",
    "        space_name = metadata.get('SpaceName')\n",
    "        print(f\"SageMaker domain id: {domain_id}\")\n",
    "\n",
    "if not space_name:\n",
    "    raise Exception(f\"Cannot find the current space name. Make sure you run this notebook in a JupyterLab in the SageMaker Studio\")\n",
    "else:\n",
    "    print(f\"Space name: {space_name}\")\n",
    "    \n",
    "r = boto3.client(\"sagemaker\").describe_space(DomainId=domain_id, SpaceName=space_name)\n",
    "user_profile_name = r['OwnershipSettings']['OwnerUserProfileName']\n",
    "\n",
    "assert(user_profile_name)\n",
    "print(f\"User profile: {user_profile_name}\")\n",
    "\n",
    "%store domain_id\n",
    "%store space_name\n",
    "%store user_profile_name\n",
    "%store region"
   ]
  },
  {
   "cell_type": "code",
   "execution_count": null,
   "id": "8d4654e2-7043-466d-b0ca-966e5a85fd12",
   "metadata": {},
   "outputs": [],
   "source": []
  },
  {
   "cell_type": "markdown",
   "id": "af74d040-a0bc-4a04-beaf-b76f3c826536",
   "metadata": {},
   "source": [
    "## Prepare the data\n",
    "\n",
    "All notebooks in this workshop using the same dataset. It makes possible to compare model metrics across different approaches. \n",
    "\n",
    "You use the [electricity dataset](https://archive.ics.uci.edu/ml/datasets/ElectricityLoadDiagrams20112014) from the repository of the University of California, Irvine:\n",
    "> Trindade, Artur. (2015). ElectricityLoadDiagrams20112014. UCI Machine Learning Repository. https://doi.org/10.24432/C58C86.\n",
    "\n",
    "Download the from the SageMaker example S3 bucket."
   ]
  },
  {
   "cell_type": "markdown",
   "id": "269bb1fc-e72f-41b2-99ae-e23e5e88904a",
   "metadata": {},
   "source": [
    "### Download the dataset"
   ]
  },
  {
   "cell_type": "code",
   "execution_count": 5,
   "id": "0a1e8c29-6854-42ff-bfae-80babf19130f",
   "metadata": {},
   "outputs": [],
   "source": [
    "dataset_zip_file_name = \"LD2011_2014.txt.zip\"\n",
    "dataset_file_name = dataset_zip_file_name.split('.')[0]\n",
    "s3_dataset_path = f\"datasets/timeseries/uci_electricity/{dataset_zip_file_name}\""
   ]
  },
  {
   "cell_type": "code",
   "execution_count": 6,
   "id": "61cfa858-1eef-4f20-8e9e-2ccad5cfa63b",
   "metadata": {},
   "outputs": [],
   "source": [
    "os.makedirs(\"./data\", exist_ok=True)\n",
    "\n",
    "s3_client = boto3.client(\"s3\")\n",
    "s3_client.download_file(\n",
    "    f\"sagemaker-example-files-prod-{region}\", s3_dataset_path, f\"./data/{dataset_zip_file_name}\"\n",
    ")"
   ]
  },
  {
   "cell_type": "code",
   "execution_count": 7,
   "id": "fe1e1317-aba6-4974-894a-63ec19250962",
   "metadata": {},
   "outputs": [],
   "source": [
    "zip_ref = zipfile.ZipFile(f\"./data/{dataset_zip_file_name}\", \"r\")\n",
    "zip_ref.extractall(\"./data\")\n",
    "zip_ref.close()\n",
    "dataset_path = '.'.join(zip_ref.filename.split('.')[:-1])"
   ]
  },
  {
   "cell_type": "code",
   "execution_count": 8,
   "id": "0385a16c-45cc-49e9-a3a1-ce369a20daea",
   "metadata": {},
   "outputs": [
    {
     "name": "stdout",
     "output_type": "stream",
     "text": [
      "\"\";\"MT_001\";\"MT_002\";\"MT_003\";\"MT_004\";\"MT_005\";\"MT_006\";\"MT_007\";\"MT_008\";\"MT_009\";\"MT_010\";\"MT_011\";\"MT_012\";\"MT_013\";\"MT_014\";\"MT_015\";\"MT_016\";\"MT_017\";\"MT_018\";\"MT_019\";\"MT_020\";\"MT_021\";\"MT_022\";\"MT_023\";\"MT_024\";\"MT_025\";\"MT_026\";\"MT_027\";\"MT_028\";\"MT_029\";\"MT_030\";\"MT_031\";\"MT_032\";\"MT_033\";\"MT_034\";\"MT_035\";\"MT_036\";\"MT_037\";\"MT_038\";\"MT_039\";\"MT_040\";\"MT_041\";\"MT_042\";\"MT_043\";\"MT_044\";\"MT_045\";\"MT_046\";\"MT_047\";\"MT_048\";\"MT_049\";\"MT_050\";\"MT_051\";\"MT_052\";\"MT_053\";\"MT_054\";\"MT_055\";\"MT_056\";\"MT_057\";\"MT_058\";\"MT_059\";\"MT_060\";\"MT_061\";\"MT_062\";\"MT_063\";\"MT_064\";\"MT_065\";\"MT_066\";\"MT_067\";\"MT_068\";\"MT_069\";\"MT_070\";\"MT_071\";\"MT_072\";\"MT_073\";\"MT_074\";\"MT_075\";\"MT_076\";\"MT_077\";\"MT_078\";\"MT_079\";\"MT_080\";\"MT_081\";\"MT_082\";\"MT_083\";\"MT_084\";\"MT_085\";\"MT_086\";\"MT_087\";\"MT_088\";\"MT_089\";\"MT_090\";\"MT_091\";\"MT_092\";\"MT_093\";\"MT_094\";\"MT_095\";\"MT_096\";\"MT_097\";\"MT_098\";\"MT_099\";\"MT_100\";\"MT_101\";\"MT_102\";\"MT_103\";\"MT_104\";\"MT_105\";\"MT_106\";\"MT_107\";\"MT_108\";\"MT_109\";\"MT_110\";\"MT_111\";\"MT_112\";\"MT_113\";\"MT_114\";\"MT_115\";\"MT_116\";\"MT_117\";\"MT_118\";\"MT_119\";\"MT_120\";\"MT_121\";\"MT_122\";\"MT_123\";\"MT_124\";\"MT_125\";\"MT_126\";\"MT_127\";\"MT_128\";\"MT_129\";\"MT_130\";\"MT_131\";\"MT_132\";\"MT_133\";\"MT_134\";\"MT_135\";\"MT_136\";\"MT_137\";\"MT_138\";\"MT_139\";\"MT_140\";\"MT_141\";\"MT_142\";\"MT_143\";\"MT_144\";\"MT_145\";\"MT_146\";\"MT_147\";\"MT_148\";\"MT_149\";\"MT_150\";\"MT_151\";\"MT_152\";\"MT_153\";\"MT_154\";\"MT_155\";\"MT_156\";\"MT_157\";\"MT_158\";\"MT_159\";\"MT_160\";\"MT_161\";\"MT_162\";\"MT_163\";\"MT_164\";\"MT_165\";\"MT_166\";\"MT_167\";\"MT_168\";\"MT_169\";\"MT_170\";\"MT_171\";\"MT_172\";\"MT_173\";\"MT_174\";\"MT_175\";\"MT_176\";\"MT_177\";\"MT_178\";\"MT_179\";\"MT_180\";\"MT_181\";\"MT_182\";\"MT_183\";\"MT_184\";\"MT_185\";\"MT_186\";\"MT_187\";\"MT_188\";\"MT_189\";\"MT_190\";\"MT_191\";\"MT_192\";\"MT_193\";\"MT_194\";\"MT_195\";\"MT_196\";\"MT_197\";\"MT_198\";\"MT_199\";\"MT_200\";\"MT_201\";\"MT_202\";\"MT_203\";\"MT_204\";\"MT_205\";\"MT_206\";\"MT_207\";\"MT_208\";\"MT_209\";\"MT_210\";\"MT_211\";\"MT_212\";\"MT_213\";\"MT_214\";\"MT_215\";\"MT_216\";\"MT_217\";\"MT_218\";\"MT_219\";\"MT_220\";\"MT_221\";\"MT_222\";\"MT_223\";\"MT_224\";\"MT_225\";\"MT_226\";\"MT_227\";\"MT_228\";\"MT_229\";\"MT_230\";\"MT_231\";\"MT_232\";\"MT_233\";\"MT_234\";\"MT_235\";\"MT_236\";\"MT_237\";\"MT_238\";\"MT_239\";\"MT_240\";\"MT_241\";\"MT_242\";\"MT_243\";\"MT_244\";\"MT_245\";\"MT_246\";\"MT_247\";\"MT_248\";\"MT_249\";\"MT_250\";\"MT_251\";\"MT_252\";\"MT_253\";\"MT_254\";\"MT_255\";\"MT_256\";\"MT_257\";\"MT_258\";\"MT_259\";\"MT_260\";\"MT_261\";\"MT_262\";\"MT_263\";\"MT_264\";\"MT_265\";\"MT_266\";\"MT_267\";\"MT_268\";\"MT_269\";\"MT_270\";\"MT_271\";\"MT_272\";\"MT_273\";\"MT_274\";\"MT_275\";\"MT_276\";\"MT_277\";\"MT_278\";\"MT_279\";\"MT_280\";\"MT_281\";\"MT_282\";\"MT_283\";\"MT_284\";\"MT_285\";\"MT_286\";\"MT_287\";\"MT_288\";\"MT_289\";\"MT_290\";\"MT_291\";\"MT_292\";\"MT_293\";\"MT_294\";\"MT_295\";\"MT_296\";\"MT_297\";\"MT_298\";\"MT_299\";\"MT_300\";\"MT_301\";\"MT_302\";\"MT_303\";\"MT_304\";\"MT_305\";\"MT_306\";\"MT_307\";\"MT_308\";\"MT_309\";\"MT_310\";\"MT_311\";\"MT_312\";\"MT_313\";\"MT_314\";\"MT_315\";\"MT_316\";\"MT_317\";\"MT_318\";\"MT_319\";\"MT_320\";\"MT_321\";\"MT_322\";\"MT_323\";\"MT_324\";\"MT_325\";\"MT_326\";\"MT_327\";\"MT_328\";\"MT_329\";\"MT_330\";\"MT_331\";\"MT_332\";\"MT_333\";\"MT_334\";\"MT_335\";\"MT_336\";\"MT_337\";\"MT_338\";\"MT_339\";\"MT_340\";\"MT_341\";\"MT_342\";\"MT_343\";\"MT_344\";\"MT_345\";\"MT_346\";\"MT_347\";\"MT_348\";\"MT_349\";\"MT_350\";\"MT_351\";\"MT_352\";\"MT_353\";\"MT_354\";\"MT_355\";\"MT_356\";\"MT_357\";\"MT_358\";\"MT_359\";\"MT_360\";\"MT_361\";\"MT_362\";\"MT_363\";\"MT_364\";\"MT_365\";\"MT_366\";\"MT_367\";\"MT_368\";\"MT_369\";\"MT_370\"\n",
      "\"2011-01-01 00:15:00\";0;0;0;0;0;0;0;0;0;0;0;0;0;0;0;0;0;0;0;0;0;0;0;0;0;0;0;0;0;0;0;0;0;0;0;0;0;0;0;0;0;0;0;0;0;0;0;0;0;0;0;0;0;0;0;0;0;0;0;0;0;0;0;0;0;0;0;0;0;0;0;0;0;0;0;0;0;0;0;0;0;0;0;0;0;0;0;0;0;0;0;0;0;0;0;0;0;0;0;0;0;0;0;0;0;0;0;0;0;0;0;0;0;0;0;0;0;0;0;0;0;0;0;71,7703349282297;0;0;0;0;0;0;260,416666666667;45,7217504898759;0;0;0;0;0;0;0;0;0;0;0;0;0;0;0;0;0;0;0;0;0;0;0;68,203368683718;0;38,3422459893048;20,3639846743295;0;1935,18518518519;158,006362672322;1965,43778801843;0;0;838,461538461538;0;50,7562076749436;24,5706051873199;0;137,885196374622;80,7970112079701;0;74,5622119815668;76,7927631578947;41,4825870646766;0;0;0;93,2917316692668;0;39,5888594164456;45,7174556213018;0;0;0;13,4228187919463;22,123745819398;205,83596214511;327,859237536657;920,863309352518;285,607755406413;266,521026761333;1826,27118644068;218,274111675127;12166,6666666667;76,6129032258064;148,867313915858;272,935779816514;428,4140969163;173,089071383449;235,492957746479;319,354838709677;447,761194029851;288,135593220339;110,538373424971;345,578231292517;4235,29411764706;260,9375;472,868217054264;84;232,558139534884;603,036876355748;199,59266802444;207,532051282051;1328,90365448505;113,074204946996;680,529300567108;204,301075268817;1278,48101265823;81,7282665278501;444;517,333333333333;0;189,121951219512;325,833979829325;228,249744114637;3263,15789473684;582,689335394127;62,219730941704;380,41095890411;58,1481481481481;84,9247822644497;38,1087202718007;450,980392156863;98,5981308411215;54,0771349862259;223,275;53,2958199356913;200,746987951807;1395,06172839506;141,621621621622;73,9856801909308;86,6145354185833;131,35632183908;374,066390041494;224,932249322493;83,5738068812431;42,9345238095238;46,6860841423948;56,2907536076964;130,843558282209;230,562180579216;138,575342465753;0;77,8375912408759;87,6579925650557;71,096214511041;113,529411764706;89,4857142857143;42,0757575757576;99,2836676217765;86,9559585492228;126,034669555796;108,494868871152;182,599277978339;39,6375990939977;165,638506876228;561,828571428571;32,091705306543;90,6782215523738;107,06932052162;261,261261261261;181,818181818182;70,9570041608876;922,277227722772;53,8353863381859;49,3966151582046;10278,3333333333;0;71,8457802064359;52,293956043956;151,675749318801;45,187969924812;53,7976782752902;63,2739804709937;81,998031496063;40,7420924574209;0;318,15331010453;83,695652173913;160,564334085779;74,2053930005737;393,885135135135;156,536144578313;47,8844862323707;77,7155172413793;860,882352941176;260,26936026936;100,027198549411;74,4064093226511;76,7471819645733;95,4868154158215;33,5876993166287;0;36,7447784004075;364,769230769231;0;152,728731942215;333,183856502242;100,250240615977;203,90625;104,485006518905;814,606741573034;72,6169749727965;167,829181494662;269,818731117825;93,3640081799591;47,336089781453;62,5195094760312;56,7608861726509;0;1003,78048780488;247,095070422535;177,559912854031;147,543640897756;264,11575562701;644,444444444444;135,514705882353;45,08125;129,62962962963;0;0;0;0;0;0;0;0;0;0;0;0;0;0;0;0;0;0;0;0;0;0;0;0;0;0;0;0;0;0;0;0;0;0;0;0;0;0;0\n"
     ]
    }
   ],
   "source": [
    "# see what is inside the file\n",
    "!head -n 2 {dataset_path} "
   ]
  },
  {
   "cell_type": "markdown",
   "id": "cfdde4c8-78fa-4afe-aeda-bda5ad75e8b9",
   "metadata": {},
   "source": [
    "### Preprocess data"
   ]
  },
  {
   "cell_type": "code",
   "execution_count": 9,
   "id": "ced7d81a-234b-4a06-9738-4b4c347b63c5",
   "metadata": {},
   "outputs": [],
   "source": [
    "# load the dataset from the file\n",
    "df_raw = pd.read_csv(\n",
    "    dataset_path, \n",
    "    sep=';', \n",
    "    index_col=0,\n",
    "    decimal=',',\n",
    "    parse_dates=True,\n",
    ")"
   ]
  },
  {
   "cell_type": "markdown",
   "id": "d52ce941-bd32-4e08-9862-2050335566dd",
   "metadata": {},
   "source": [
    "For Canvas model building you need to resample the time series to one of the supported intervals. At the time of this writing, Canvas [supports](https://docs.aws.amazon.com/sagemaker/latest/dg/canvas-time-series.html) the following intervals:\n",
    "\n",
    "- 1, 5, 15, 30 min\n",
    "- 1 hour\n",
    "- 1 day\n",
    "- 1 week\n",
    "- 1 month\n",
    "- 1 year\n",
    "\n",
    "The current time series is sampled to 15 min interval. To decrease the number of rows and Canvas training time, you need to resample the dataset to 1 hour or to 1 day. Both time series can be processed by Canvas.\n",
    "\n",
    "Consider the following model building times when selecting your aggregation or number of time series:\n",
    "\n",
    "Dataset size|Sampling|Build type|Training time\n",
    "---|---|---|---\n",
    "Small - 2 time series, 70130 rows|1 hour|Quick|5 min\n",
    "Small - 2 time series, 2924 rows|1 day|Quick|5 min\n",
    "Small - 2 time series|1 hour|Standard|150 min\n",
    "Small - 2 time series|1 day|Standard|30 min \n",
    "Full - 370 time series, 12974050 rows|1 hour|Quick|5 min\n",
    "Full - 370 time series, 540940 rows|1 day|Quick|5 min\n",
    "Full - 370 time series|1 hour|Standard|130 min \n",
    "Full - 370 time series|1 day|Standard|30 min \n",
    "\n",
    "Note that training time is approximation only and might be different in your environment."
   ]
  },
  {
   "cell_type": "code",
   "execution_count": 43,
   "id": "c242f919-ff06-4119-ad35-f213f27cb74d",
   "metadata": {},
   "outputs": [],
   "source": [
    "# resample to Canvas supported interval\n",
    "# select and uncomment your aggregation interval\n",
    "# freq = \"1H\" \n",
    "# div = 4\n",
    "freq = \"1D\"\n",
    "div = 96\n",
    "\n",
    "data_kw = df_raw.resample(freq).sum() / div"
   ]
  },
  {
   "cell_type": "code",
   "execution_count": 44,
   "id": "1170615c-7179-4205-bec8-077c358e5c86",
   "metadata": {},
   "outputs": [
    {
     "data": {
      "text/html": [
       "<div>\n",
       "<style scoped>\n",
       "    .dataframe tbody tr th:only-of-type {\n",
       "        vertical-align: middle;\n",
       "    }\n",
       "\n",
       "    .dataframe tbody tr th {\n",
       "        vertical-align: top;\n",
       "    }\n",
       "\n",
       "    .dataframe thead th {\n",
       "        text-align: right;\n",
       "    }\n",
       "</style>\n",
       "<table border=\"1\" class=\"dataframe\">\n",
       "  <thead>\n",
       "    <tr style=\"text-align: right;\">\n",
       "      <th></th>\n",
       "      <th>MT_001</th>\n",
       "      <th>MT_002</th>\n",
       "      <th>MT_003</th>\n",
       "      <th>MT_004</th>\n",
       "      <th>MT_005</th>\n",
       "      <th>MT_006</th>\n",
       "      <th>MT_007</th>\n",
       "      <th>MT_008</th>\n",
       "      <th>MT_009</th>\n",
       "      <th>MT_010</th>\n",
       "      <th>...</th>\n",
       "      <th>MT_361</th>\n",
       "      <th>MT_362</th>\n",
       "      <th>MT_363</th>\n",
       "      <th>MT_364</th>\n",
       "      <th>MT_365</th>\n",
       "      <th>MT_366</th>\n",
       "      <th>MT_367</th>\n",
       "      <th>MT_368</th>\n",
       "      <th>MT_369</th>\n",
       "      <th>MT_370</th>\n",
       "    </tr>\n",
       "  </thead>\n",
       "  <tbody>\n",
       "    <tr>\n",
       "      <th>2011-01-01</th>\n",
       "      <td>0.000000</td>\n",
       "      <td>0.000000</td>\n",
       "      <td>0.000000</td>\n",
       "      <td>0.000000</td>\n",
       "      <td>0.000000</td>\n",
       "      <td>0.000000</td>\n",
       "      <td>0.000000</td>\n",
       "      <td>0.000000</td>\n",
       "      <td>0.000000</td>\n",
       "      <td>0.000000</td>\n",
       "      <td>...</td>\n",
       "      <td>0.000000</td>\n",
       "      <td>0.000000</td>\n",
       "      <td>0.000000</td>\n",
       "      <td>0.000000</td>\n",
       "      <td>0.000000</td>\n",
       "      <td>0.000000</td>\n",
       "      <td>0.000000</td>\n",
       "      <td>0.000000</td>\n",
       "      <td>0.000000</td>\n",
       "      <td>0.000000</td>\n",
       "    </tr>\n",
       "    <tr>\n",
       "      <th>2011-01-02</th>\n",
       "      <td>0.000000</td>\n",
       "      <td>0.000000</td>\n",
       "      <td>0.000000</td>\n",
       "      <td>0.000000</td>\n",
       "      <td>0.000000</td>\n",
       "      <td>0.000000</td>\n",
       "      <td>0.000000</td>\n",
       "      <td>0.000000</td>\n",
       "      <td>0.000000</td>\n",
       "      <td>0.000000</td>\n",
       "      <td>...</td>\n",
       "      <td>0.000000</td>\n",
       "      <td>0.000000</td>\n",
       "      <td>0.000000</td>\n",
       "      <td>0.000000</td>\n",
       "      <td>0.000000</td>\n",
       "      <td>0.000000</td>\n",
       "      <td>0.000000</td>\n",
       "      <td>0.000000</td>\n",
       "      <td>0.000000</td>\n",
       "      <td>0.000000</td>\n",
       "    </tr>\n",
       "    <tr>\n",
       "      <th>2011-01-03</th>\n",
       "      <td>0.000000</td>\n",
       "      <td>0.000000</td>\n",
       "      <td>0.000000</td>\n",
       "      <td>0.000000</td>\n",
       "      <td>0.000000</td>\n",
       "      <td>0.000000</td>\n",
       "      <td>0.000000</td>\n",
       "      <td>0.000000</td>\n",
       "      <td>0.000000</td>\n",
       "      <td>0.000000</td>\n",
       "      <td>...</td>\n",
       "      <td>0.000000</td>\n",
       "      <td>0.000000</td>\n",
       "      <td>0.000000</td>\n",
       "      <td>0.000000</td>\n",
       "      <td>0.000000</td>\n",
       "      <td>0.000000</td>\n",
       "      <td>0.000000</td>\n",
       "      <td>0.000000</td>\n",
       "      <td>0.000000</td>\n",
       "      <td>0.000000</td>\n",
       "    </tr>\n",
       "    <tr>\n",
       "      <th>2011-01-04</th>\n",
       "      <td>0.000000</td>\n",
       "      <td>0.000000</td>\n",
       "      <td>0.000000</td>\n",
       "      <td>0.000000</td>\n",
       "      <td>0.000000</td>\n",
       "      <td>0.000000</td>\n",
       "      <td>0.000000</td>\n",
       "      <td>0.000000</td>\n",
       "      <td>0.000000</td>\n",
       "      <td>0.000000</td>\n",
       "      <td>...</td>\n",
       "      <td>0.000000</td>\n",
       "      <td>0.000000</td>\n",
       "      <td>0.000000</td>\n",
       "      <td>0.000000</td>\n",
       "      <td>0.000000</td>\n",
       "      <td>0.000000</td>\n",
       "      <td>0.000000</td>\n",
       "      <td>0.000000</td>\n",
       "      <td>0.000000</td>\n",
       "      <td>0.000000</td>\n",
       "    </tr>\n",
       "    <tr>\n",
       "      <th>2011-01-05</th>\n",
       "      <td>0.000000</td>\n",
       "      <td>0.000000</td>\n",
       "      <td>0.000000</td>\n",
       "      <td>0.000000</td>\n",
       "      <td>0.000000</td>\n",
       "      <td>0.000000</td>\n",
       "      <td>0.000000</td>\n",
       "      <td>0.000000</td>\n",
       "      <td>0.000000</td>\n",
       "      <td>0.000000</td>\n",
       "      <td>...</td>\n",
       "      <td>0.000000</td>\n",
       "      <td>0.000000</td>\n",
       "      <td>0.000000</td>\n",
       "      <td>0.000000</td>\n",
       "      <td>0.000000</td>\n",
       "      <td>0.000000</td>\n",
       "      <td>0.000000</td>\n",
       "      <td>0.000000</td>\n",
       "      <td>0.000000</td>\n",
       "      <td>0.000000</td>\n",
       "    </tr>\n",
       "    <tr>\n",
       "      <th>...</th>\n",
       "      <td>...</td>\n",
       "      <td>...</td>\n",
       "      <td>...</td>\n",
       "      <td>...</td>\n",
       "      <td>...</td>\n",
       "      <td>...</td>\n",
       "      <td>...</td>\n",
       "      <td>...</td>\n",
       "      <td>...</td>\n",
       "      <td>...</td>\n",
       "      <td>...</td>\n",
       "      <td>...</td>\n",
       "      <td>...</td>\n",
       "      <td>...</td>\n",
       "      <td>...</td>\n",
       "      <td>...</td>\n",
       "      <td>...</td>\n",
       "      <td>...</td>\n",
       "      <td>...</td>\n",
       "      <td>...</td>\n",
       "      <td>...</td>\n",
       "    </tr>\n",
       "    <tr>\n",
       "      <th>2014-12-28</th>\n",
       "      <td>2.366223</td>\n",
       "      <td>22.203947</td>\n",
       "      <td>1.574718</td>\n",
       "      <td>149.242039</td>\n",
       "      <td>70.591972</td>\n",
       "      <td>209.604415</td>\n",
       "      <td>4.475221</td>\n",
       "      <td>263.082211</td>\n",
       "      <td>53.321678</td>\n",
       "      <td>49.943996</td>\n",
       "      <td>...</td>\n",
       "      <td>300.157626</td>\n",
       "      <td>34084.375000</td>\n",
       "      <td>2299.182489</td>\n",
       "      <td>2682.054924</td>\n",
       "      <td>85.098870</td>\n",
       "      <td>5.753852</td>\n",
       "      <td>478.279558</td>\n",
       "      <td>45.892460</td>\n",
       "      <td>688.912818</td>\n",
       "      <td>16179.054054</td>\n",
       "    </tr>\n",
       "    <tr>\n",
       "      <th>2014-12-29</th>\n",
       "      <td>2.590948</td>\n",
       "      <td>23.048542</td>\n",
       "      <td>1.674269</td>\n",
       "      <td>146.532012</td>\n",
       "      <td>74.987297</td>\n",
       "      <td>237.754216</td>\n",
       "      <td>5.735350</td>\n",
       "      <td>315.481201</td>\n",
       "      <td>69.766171</td>\n",
       "      <td>66.017025</td>\n",
       "      <td>...</td>\n",
       "      <td>300.261718</td>\n",
       "      <td>32386.458333</td>\n",
       "      <td>2154.711674</td>\n",
       "      <td>2803.030303</td>\n",
       "      <td>87.896567</td>\n",
       "      <td>12.019700</td>\n",
       "      <td>561.759219</td>\n",
       "      <td>134.529772</td>\n",
       "      <td>769.611437</td>\n",
       "      <td>18817.567568</td>\n",
       "    </tr>\n",
       "    <tr>\n",
       "      <th>2014-12-30</th>\n",
       "      <td>2.419099</td>\n",
       "      <td>22.974455</td>\n",
       "      <td>1.719519</td>\n",
       "      <td>148.860942</td>\n",
       "      <td>74.885671</td>\n",
       "      <td>248.759921</td>\n",
       "      <td>6.112210</td>\n",
       "      <td>321.969697</td>\n",
       "      <td>67.580857</td>\n",
       "      <td>67.596326</td>\n",
       "      <td>...</td>\n",
       "      <td>296.752320</td>\n",
       "      <td>30253.125000</td>\n",
       "      <td>2126.318565</td>\n",
       "      <td>2745.975379</td>\n",
       "      <td>110.576923</td>\n",
       "      <td>9.295153</td>\n",
       "      <td>586.817749</td>\n",
       "      <td>166.631886</td>\n",
       "      <td>770.314027</td>\n",
       "      <td>19453.828829</td>\n",
       "    </tr>\n",
       "    <tr>\n",
       "      <th>2014-12-31</th>\n",
       "      <td>2.392661</td>\n",
       "      <td>23.678284</td>\n",
       "      <td>1.737619</td>\n",
       "      <td>145.896850</td>\n",
       "      <td>73.158028</td>\n",
       "      <td>244.915675</td>\n",
       "      <td>7.195685</td>\n",
       "      <td>298.961841</td>\n",
       "      <td>64.703526</td>\n",
       "      <td>52.441756</td>\n",
       "      <td>...</td>\n",
       "      <td>280.945158</td>\n",
       "      <td>28633.333333</td>\n",
       "      <td>1693.301688</td>\n",
       "      <td>2248.816288</td>\n",
       "      <td>77.249022</td>\n",
       "      <td>5.522235</td>\n",
       "      <td>523.540386</td>\n",
       "      <td>137.973011</td>\n",
       "      <td>733.504399</td>\n",
       "      <td>14228.040541</td>\n",
       "    </tr>\n",
       "    <tr>\n",
       "      <th>2015-01-01</th>\n",
       "      <td>0.026438</td>\n",
       "      <td>0.207444</td>\n",
       "      <td>0.018100</td>\n",
       "      <td>1.863144</td>\n",
       "      <td>0.876524</td>\n",
       "      <td>2.914187</td>\n",
       "      <td>0.105992</td>\n",
       "      <td>2.595398</td>\n",
       "      <td>0.655594</td>\n",
       "      <td>0.728047</td>\n",
       "      <td>...</td>\n",
       "      <td>1.962884</td>\n",
       "      <td>289.583333</td>\n",
       "      <td>14.680028</td>\n",
       "      <td>9.943182</td>\n",
       "      <td>0.285202</td>\n",
       "      <td>0.042666</td>\n",
       "      <td>6.548142</td>\n",
       "      <td>1.373817</td>\n",
       "      <td>7.010630</td>\n",
       "      <td>74.324324</td>\n",
       "    </tr>\n",
       "  </tbody>\n",
       "</table>\n",
       "<p>1462 rows × 370 columns</p>\n",
       "</div>"
      ],
      "text/plain": [
       "              MT_001     MT_002    MT_003      MT_004     MT_005      MT_006  \\\n",
       "2011-01-01  0.000000   0.000000  0.000000    0.000000   0.000000    0.000000   \n",
       "2011-01-02  0.000000   0.000000  0.000000    0.000000   0.000000    0.000000   \n",
       "2011-01-03  0.000000   0.000000  0.000000    0.000000   0.000000    0.000000   \n",
       "2011-01-04  0.000000   0.000000  0.000000    0.000000   0.000000    0.000000   \n",
       "2011-01-05  0.000000   0.000000  0.000000    0.000000   0.000000    0.000000   \n",
       "...              ...        ...       ...         ...        ...         ...   \n",
       "2014-12-28  2.366223  22.203947  1.574718  149.242039  70.591972  209.604415   \n",
       "2014-12-29  2.590948  23.048542  1.674269  146.532012  74.987297  237.754216   \n",
       "2014-12-30  2.419099  22.974455  1.719519  148.860942  74.885671  248.759921   \n",
       "2014-12-31  2.392661  23.678284  1.737619  145.896850  73.158028  244.915675   \n",
       "2015-01-01  0.026438   0.207444  0.018100    1.863144   0.876524    2.914187   \n",
       "\n",
       "              MT_007      MT_008     MT_009     MT_010  ...      MT_361  \\\n",
       "2011-01-01  0.000000    0.000000   0.000000   0.000000  ...    0.000000   \n",
       "2011-01-02  0.000000    0.000000   0.000000   0.000000  ...    0.000000   \n",
       "2011-01-03  0.000000    0.000000   0.000000   0.000000  ...    0.000000   \n",
       "2011-01-04  0.000000    0.000000   0.000000   0.000000  ...    0.000000   \n",
       "2011-01-05  0.000000    0.000000   0.000000   0.000000  ...    0.000000   \n",
       "...              ...         ...        ...        ...  ...         ...   \n",
       "2014-12-28  4.475221  263.082211  53.321678  49.943996  ...  300.157626   \n",
       "2014-12-29  5.735350  315.481201  69.766171  66.017025  ...  300.261718   \n",
       "2014-12-30  6.112210  321.969697  67.580857  67.596326  ...  296.752320   \n",
       "2014-12-31  7.195685  298.961841  64.703526  52.441756  ...  280.945158   \n",
       "2015-01-01  0.105992    2.595398   0.655594   0.728047  ...    1.962884   \n",
       "\n",
       "                  MT_362       MT_363       MT_364      MT_365     MT_366  \\\n",
       "2011-01-01      0.000000     0.000000     0.000000    0.000000   0.000000   \n",
       "2011-01-02      0.000000     0.000000     0.000000    0.000000   0.000000   \n",
       "2011-01-03      0.000000     0.000000     0.000000    0.000000   0.000000   \n",
       "2011-01-04      0.000000     0.000000     0.000000    0.000000   0.000000   \n",
       "2011-01-05      0.000000     0.000000     0.000000    0.000000   0.000000   \n",
       "...                  ...          ...          ...         ...        ...   \n",
       "2014-12-28  34084.375000  2299.182489  2682.054924   85.098870   5.753852   \n",
       "2014-12-29  32386.458333  2154.711674  2803.030303   87.896567  12.019700   \n",
       "2014-12-30  30253.125000  2126.318565  2745.975379  110.576923   9.295153   \n",
       "2014-12-31  28633.333333  1693.301688  2248.816288   77.249022   5.522235   \n",
       "2015-01-01    289.583333    14.680028     9.943182    0.285202   0.042666   \n",
       "\n",
       "                MT_367      MT_368      MT_369        MT_370  \n",
       "2011-01-01    0.000000    0.000000    0.000000      0.000000  \n",
       "2011-01-02    0.000000    0.000000    0.000000      0.000000  \n",
       "2011-01-03    0.000000    0.000000    0.000000      0.000000  \n",
       "2011-01-04    0.000000    0.000000    0.000000      0.000000  \n",
       "2011-01-05    0.000000    0.000000    0.000000      0.000000  \n",
       "...                ...         ...         ...           ...  \n",
       "2014-12-28  478.279558   45.892460  688.912818  16179.054054  \n",
       "2014-12-29  561.759219  134.529772  769.611437  18817.567568  \n",
       "2014-12-30  586.817749  166.631886  770.314027  19453.828829  \n",
       "2014-12-31  523.540386  137.973011  733.504399  14228.040541  \n",
       "2015-01-01    6.548142    1.373817    7.010630     74.324324  \n",
       "\n",
       "[1462 rows x 370 columns]"
      ]
     },
     "execution_count": 44,
     "metadata": {},
     "output_type": "execute_result"
    }
   ],
   "source": [
    "data_kw"
   ]
  },
  {
   "cell_type": "code",
   "execution_count": 45,
   "id": "381a42b1-6e04-4a30-ad48-6587295c24cf",
   "metadata": {},
   "outputs": [
    {
     "data": {
      "text/plain": [
       "[336, 89]"
      ]
     },
     "execution_count": 45,
     "metadata": {},
     "output_type": "execute_result"
    }
   ],
   "source": [
    "# select two random time series to include in a small dataset\n",
    "columns_to_keep = np.random.randint(1, data_kw.shape[1], size=2).tolist()\n",
    "columns_to_keep"
   ]
  },
  {
   "cell_type": "code",
   "execution_count": 55,
   "id": "13a99d9d-37dc-4681-b27e-1e3d63eee9c6",
   "metadata": {},
   "outputs": [
    {
     "data": {
      "text/html": [
       "<div>\n",
       "<style scoped>\n",
       "    .dataframe tbody tr th:only-of-type {\n",
       "        vertical-align: middle;\n",
       "    }\n",
       "\n",
       "    .dataframe tbody tr th {\n",
       "        vertical-align: top;\n",
       "    }\n",
       "\n",
       "    .dataframe thead th {\n",
       "        text-align: right;\n",
       "    }\n",
       "</style>\n",
       "<table border=\"1\" class=\"dataframe\">\n",
       "  <thead>\n",
       "    <tr style=\"text-align: right;\">\n",
       "      <th></th>\n",
       "      <th>MT_337</th>\n",
       "      <th>MT_090</th>\n",
       "    </tr>\n",
       "  </thead>\n",
       "  <tbody>\n",
       "    <tr>\n",
       "      <th>2011-01-01</th>\n",
       "      <td>0.000000</td>\n",
       "      <td>0.000000</td>\n",
       "    </tr>\n",
       "    <tr>\n",
       "      <th>2011-01-02</th>\n",
       "      <td>0.000000</td>\n",
       "      <td>0.000000</td>\n",
       "    </tr>\n",
       "    <tr>\n",
       "      <th>2011-01-03</th>\n",
       "      <td>0.000000</td>\n",
       "      <td>0.000000</td>\n",
       "    </tr>\n",
       "    <tr>\n",
       "      <th>2011-01-04</th>\n",
       "      <td>0.000000</td>\n",
       "      <td>0.000000</td>\n",
       "    </tr>\n",
       "    <tr>\n",
       "      <th>2011-01-05</th>\n",
       "      <td>0.000000</td>\n",
       "      <td>0.000000</td>\n",
       "    </tr>\n",
       "    <tr>\n",
       "      <th>...</th>\n",
       "      <td>...</td>\n",
       "      <td>...</td>\n",
       "    </tr>\n",
       "    <tr>\n",
       "      <th>2014-12-28</th>\n",
       "      <td>117.935861</td>\n",
       "      <td>10.713916</td>\n",
       "    </tr>\n",
       "    <tr>\n",
       "      <th>2014-12-29</th>\n",
       "      <td>158.112540</td>\n",
       "      <td>30.545647</td>\n",
       "    </tr>\n",
       "    <tr>\n",
       "      <th>2014-12-30</th>\n",
       "      <td>157.305922</td>\n",
       "      <td>22.674990</td>\n",
       "    </tr>\n",
       "    <tr>\n",
       "      <th>2014-12-31</th>\n",
       "      <td>140.659685</td>\n",
       "      <td>10.584677</td>\n",
       "    </tr>\n",
       "    <tr>\n",
       "      <th>2015-01-01</th>\n",
       "      <td>1.350687</td>\n",
       "      <td>0.168011</td>\n",
       "    </tr>\n",
       "  </tbody>\n",
       "</table>\n",
       "<p>1462 rows × 2 columns</p>\n",
       "</div>"
      ],
      "text/plain": [
       "                MT_337     MT_090\n",
       "2011-01-01    0.000000   0.000000\n",
       "2011-01-02    0.000000   0.000000\n",
       "2011-01-03    0.000000   0.000000\n",
       "2011-01-04    0.000000   0.000000\n",
       "2011-01-05    0.000000   0.000000\n",
       "...                ...        ...\n",
       "2014-12-28  117.935861  10.713916\n",
       "2014-12-29  158.112540  30.545647\n",
       "2014-12-30  157.305922  22.674990\n",
       "2014-12-31  140.659685  10.584677\n",
       "2015-01-01    1.350687   0.168011\n",
       "\n",
       "[1462 rows x 2 columns]"
      ]
     },
     "execution_count": 55,
     "metadata": {},
     "output_type": "execute_result"
    }
   ],
   "source": [
    "data_kw_small = data_kw.iloc[:, columns_to_keep]\n",
    "data_kw_small"
   ]
  },
  {
   "cell_type": "code",
   "execution_count": 47,
   "id": "15948226-5d9d-4ee7-8a27-e5e2b3674584",
   "metadata": {},
   "outputs": [],
   "source": [
    "def stack_timeseries(df, ts_name, var_name, value_name):\n",
    "    # Melt the DataFrame\n",
    "    melted_df = pd.melt(\n",
    "        df.reset_index(),\n",
    "        id_vars='index', \n",
    "        value_vars=df.columns, \n",
    "        var_name=var_name, \n",
    "        value_name=value_name\n",
    "    )\n",
    "    \n",
    "    # Rename the 'index' column to 'timestamp'\n",
    "    return melted_df.rename(columns={'index': ts_name})"
   ]
  },
  {
   "cell_type": "code",
   "execution_count": 48,
   "id": "52aeb516-6fc6-4285-b503-3f0907e34542",
   "metadata": {},
   "outputs": [
    {
     "data": {
      "text/html": [
       "<div>\n",
       "<style scoped>\n",
       "    .dataframe tbody tr th:only-of-type {\n",
       "        vertical-align: middle;\n",
       "    }\n",
       "\n",
       "    .dataframe tbody tr th {\n",
       "        vertical-align: top;\n",
       "    }\n",
       "\n",
       "    .dataframe thead th {\n",
       "        text-align: right;\n",
       "    }\n",
       "</style>\n",
       "<table border=\"1\" class=\"dataframe\">\n",
       "  <thead>\n",
       "    <tr style=\"text-align: right;\">\n",
       "      <th></th>\n",
       "      <th>ts</th>\n",
       "      <th>mt_id</th>\n",
       "      <th>consumption</th>\n",
       "    </tr>\n",
       "  </thead>\n",
       "  <tbody>\n",
       "    <tr>\n",
       "      <th>0</th>\n",
       "      <td>2011-01-01</td>\n",
       "      <td>MT_001</td>\n",
       "      <td>0.000000</td>\n",
       "    </tr>\n",
       "    <tr>\n",
       "      <th>1</th>\n",
       "      <td>2011-01-02</td>\n",
       "      <td>MT_001</td>\n",
       "      <td>0.000000</td>\n",
       "    </tr>\n",
       "    <tr>\n",
       "      <th>2</th>\n",
       "      <td>2011-01-03</td>\n",
       "      <td>MT_001</td>\n",
       "      <td>0.000000</td>\n",
       "    </tr>\n",
       "    <tr>\n",
       "      <th>3</th>\n",
       "      <td>2011-01-04</td>\n",
       "      <td>MT_001</td>\n",
       "      <td>0.000000</td>\n",
       "    </tr>\n",
       "    <tr>\n",
       "      <th>4</th>\n",
       "      <td>2011-01-05</td>\n",
       "      <td>MT_001</td>\n",
       "      <td>0.000000</td>\n",
       "    </tr>\n",
       "    <tr>\n",
       "      <th>...</th>\n",
       "      <td>...</td>\n",
       "      <td>...</td>\n",
       "      <td>...</td>\n",
       "    </tr>\n",
       "    <tr>\n",
       "      <th>540935</th>\n",
       "      <td>2014-12-28</td>\n",
       "      <td>MT_370</td>\n",
       "      <td>16179.054054</td>\n",
       "    </tr>\n",
       "    <tr>\n",
       "      <th>540936</th>\n",
       "      <td>2014-12-29</td>\n",
       "      <td>MT_370</td>\n",
       "      <td>18817.567568</td>\n",
       "    </tr>\n",
       "    <tr>\n",
       "      <th>540937</th>\n",
       "      <td>2014-12-30</td>\n",
       "      <td>MT_370</td>\n",
       "      <td>19453.828829</td>\n",
       "    </tr>\n",
       "    <tr>\n",
       "      <th>540938</th>\n",
       "      <td>2014-12-31</td>\n",
       "      <td>MT_370</td>\n",
       "      <td>14228.040541</td>\n",
       "    </tr>\n",
       "    <tr>\n",
       "      <th>540939</th>\n",
       "      <td>2015-01-01</td>\n",
       "      <td>MT_370</td>\n",
       "      <td>74.324324</td>\n",
       "    </tr>\n",
       "  </tbody>\n",
       "</table>\n",
       "<p>540940 rows × 3 columns</p>\n",
       "</div>"
      ],
      "text/plain": [
       "               ts   mt_id   consumption\n",
       "0      2011-01-01  MT_001      0.000000\n",
       "1      2011-01-02  MT_001      0.000000\n",
       "2      2011-01-03  MT_001      0.000000\n",
       "3      2011-01-04  MT_001      0.000000\n",
       "4      2011-01-05  MT_001      0.000000\n",
       "...           ...     ...           ...\n",
       "540935 2014-12-28  MT_370  16179.054054\n",
       "540936 2014-12-29  MT_370  18817.567568\n",
       "540937 2014-12-30  MT_370  19453.828829\n",
       "540938 2014-12-31  MT_370  14228.040541\n",
       "540939 2015-01-01  MT_370     74.324324\n",
       "\n",
       "[540940 rows x 3 columns]"
      ]
     },
     "execution_count": 48,
     "metadata": {},
     "output_type": "execute_result"
    }
   ],
   "source": [
    "stacked_df = stack_timeseries(data_kw, 'ts', 'mt_id', 'consumption')\n",
    "stacked_df"
   ]
  },
  {
   "cell_type": "code",
   "execution_count": 49,
   "id": "605f3172-0a6a-428b-ae95-256848f393e7",
   "metadata": {},
   "outputs": [
    {
     "data": {
      "text/html": [
       "<div>\n",
       "<style scoped>\n",
       "    .dataframe tbody tr th:only-of-type {\n",
       "        vertical-align: middle;\n",
       "    }\n",
       "\n",
       "    .dataframe tbody tr th {\n",
       "        vertical-align: top;\n",
       "    }\n",
       "\n",
       "    .dataframe thead th {\n",
       "        text-align: right;\n",
       "    }\n",
       "</style>\n",
       "<table border=\"1\" class=\"dataframe\">\n",
       "  <thead>\n",
       "    <tr style=\"text-align: right;\">\n",
       "      <th></th>\n",
       "      <th>ts</th>\n",
       "      <th>mt_id</th>\n",
       "      <th>consumption</th>\n",
       "    </tr>\n",
       "  </thead>\n",
       "  <tbody>\n",
       "    <tr>\n",
       "      <th>0</th>\n",
       "      <td>2011-01-01</td>\n",
       "      <td>MT_337</td>\n",
       "      <td>0.000000</td>\n",
       "    </tr>\n",
       "    <tr>\n",
       "      <th>1</th>\n",
       "      <td>2011-01-02</td>\n",
       "      <td>MT_337</td>\n",
       "      <td>0.000000</td>\n",
       "    </tr>\n",
       "    <tr>\n",
       "      <th>2</th>\n",
       "      <td>2011-01-03</td>\n",
       "      <td>MT_337</td>\n",
       "      <td>0.000000</td>\n",
       "    </tr>\n",
       "    <tr>\n",
       "      <th>3</th>\n",
       "      <td>2011-01-04</td>\n",
       "      <td>MT_337</td>\n",
       "      <td>0.000000</td>\n",
       "    </tr>\n",
       "    <tr>\n",
       "      <th>4</th>\n",
       "      <td>2011-01-05</td>\n",
       "      <td>MT_337</td>\n",
       "      <td>0.000000</td>\n",
       "    </tr>\n",
       "    <tr>\n",
       "      <th>...</th>\n",
       "      <td>...</td>\n",
       "      <td>...</td>\n",
       "      <td>...</td>\n",
       "    </tr>\n",
       "    <tr>\n",
       "      <th>2919</th>\n",
       "      <td>2014-12-28</td>\n",
       "      <td>MT_090</td>\n",
       "      <td>10.713916</td>\n",
       "    </tr>\n",
       "    <tr>\n",
       "      <th>2920</th>\n",
       "      <td>2014-12-29</td>\n",
       "      <td>MT_090</td>\n",
       "      <td>30.545647</td>\n",
       "    </tr>\n",
       "    <tr>\n",
       "      <th>2921</th>\n",
       "      <td>2014-12-30</td>\n",
       "      <td>MT_090</td>\n",
       "      <td>22.674990</td>\n",
       "    </tr>\n",
       "    <tr>\n",
       "      <th>2922</th>\n",
       "      <td>2014-12-31</td>\n",
       "      <td>MT_090</td>\n",
       "      <td>10.584677</td>\n",
       "    </tr>\n",
       "    <tr>\n",
       "      <th>2923</th>\n",
       "      <td>2015-01-01</td>\n",
       "      <td>MT_090</td>\n",
       "      <td>0.168011</td>\n",
       "    </tr>\n",
       "  </tbody>\n",
       "</table>\n",
       "<p>2924 rows × 3 columns</p>\n",
       "</div>"
      ],
      "text/plain": [
       "             ts   mt_id  consumption\n",
       "0    2011-01-01  MT_337     0.000000\n",
       "1    2011-01-02  MT_337     0.000000\n",
       "2    2011-01-03  MT_337     0.000000\n",
       "3    2011-01-04  MT_337     0.000000\n",
       "4    2011-01-05  MT_337     0.000000\n",
       "...         ...     ...          ...\n",
       "2919 2014-12-28  MT_090    10.713916\n",
       "2920 2014-12-29  MT_090    30.545647\n",
       "2921 2014-12-30  MT_090    22.674990\n",
       "2922 2014-12-31  MT_090    10.584677\n",
       "2923 2015-01-01  MT_090     0.168011\n",
       "\n",
       "[2924 rows x 3 columns]"
      ]
     },
     "execution_count": 49,
     "metadata": {},
     "output_type": "execute_result"
    }
   ],
   "source": [
    "stacked_df_small = stack_timeseries(data_kw_small, 'ts', 'mt_id', 'consumption')\n",
    "stacked_df_small"
   ]
  },
  {
   "cell_type": "code",
   "execution_count": 50,
   "id": "6e411fd6-8e9f-4745-9faa-18259f716d43",
   "metadata": {},
   "outputs": [],
   "source": [
    "stacked_df.to_csv(f\"./data/canvas_ts_full_{freq}.csv\", index=False, header=True)\n",
    "stacked_df_small.to_csv(f\"./data/canvas_ts_small_{freq}.csv\", index=False, header=True)"
   ]
  },
  {
   "cell_type": "markdown",
   "id": "fd2d10bf-252c-467b-aa4e-1670d45a8aa7",
   "metadata": {},
   "source": [
    "### Upload to S3"
   ]
  },
  {
   "cell_type": "code",
   "execution_count": 51,
   "id": "ff75e25c-d323-4d02-9c41-6b558de097b9",
   "metadata": {},
   "outputs": [
    {
     "name": "stdout",
     "output_type": "stream",
     "text": [
      "delete: s3://sagemaker-us-east-1-906545278380/canvas-demo-notebook/data/canvas_ts_full_1H.csv\n",
      "delete: s3://sagemaker-us-east-1-906545278380/canvas-demo-notebook/data/canvas_ts_small_1H.csv\n"
     ]
    }
   ],
   "source": [
    "!aws s3 rm {s3_data_path}/ --recursive"
   ]
  },
  {
   "cell_type": "code",
   "execution_count": 52,
   "id": "7a1ccd59-d564-43fd-ae21-623a269292a9",
   "metadata": {},
   "outputs": [
    {
     "name": "stdout",
     "output_type": "stream",
     "text": [
      "upload: data/canvas_ts_full_1D.csv to s3://sagemaker-us-east-1-906545278380/canvas-demo-notebook/data/canvas_ts_full_1D.csv\n",
      "upload: data/canvas_ts_small_1D.csv to s3://sagemaker-us-east-1-906545278380/canvas-demo-notebook/data/canvas_ts_small_1D.csv\n"
     ]
    }
   ],
   "source": [
    "# upload the datasets to S3\n",
    "!aws s3 cp ./data/canvas_ts_full_{freq}.csv {s3_data_path}/\n",
    "!aws s3 cp ./data/canvas_ts_small_{freq}.csv {s3_data_path}/"
   ]
  },
  {
   "cell_type": "code",
   "execution_count": 53,
   "id": "a495fb93-d7fa-4446-87b9-43e555b76979",
   "metadata": {},
   "outputs": [
    {
     "name": "stdout",
     "output_type": "stream",
     "text": [
      "2024-08-23 15:04:15   18138757 canvas_ts_full_1D.csv\n",
      "2024-08-23 15:04:16      85475 canvas_ts_small_1D.csv\n"
     ]
    }
   ],
   "source": [
    "!aws s3 ls {s3_data_path}/"
   ]
  },
  {
   "cell_type": "code",
   "execution_count": 54,
   "id": "1b00ca73-6e96-4848-ad08-488d1b04a581",
   "metadata": {},
   "outputs": [
    {
     "name": "stdout",
     "output_type": "stream",
     "text": [
      "The dataset S3 path: s3://sagemaker-us-east-1-906545278380/canvas-demo-notebook/data/\n"
     ]
    }
   ],
   "source": [
    "print(f\"The dataset S3 path: {s3_data_path}/\")"
   ]
  },
  {
   "cell_type": "code",
   "execution_count": 82,
   "id": "861c5608-e622-4db4-b03a-cba2df16d05b",
   "metadata": {},
   "outputs": [
    {
     "name": "stdout",
     "output_type": "stream",
     "text": [
      "\n",
      "Uploaded datasets:\n",
      "Small 1D aggregation -> 2924 rows\n",
      "Full 1D aggregation -> 540940 rows\n",
      "\n"
     ]
    }
   ],
   "source": [
    "print(f\"\"\"\n",
    "Uploaded datasets:\n",
    "Small {freq} aggregation -> {stacked_df_small.shape[0]} rows\n",
    "Full {freq} aggregation -> {stacked_df.shape[0]} rows\n",
    "\"\"\")"
   ]
  },
  {
   "cell_type": "markdown",
   "id": "8593d8f7-2a97-4658-82b6-3dcffa5ac39c",
   "metadata": {},
   "source": [
    "## Train models in Amazon SageMaker Canvas\n",
    "\n"
   ]
  },
  {
   "cell_type": "markdown",
   "id": "f3a64cfe-9bf3-4b70-bf75-be0aa408e105",
   "metadata": {},
   "source": [
    "### Start Canvas\n",
    "\n",
    "Log in to SageMaker Canvas from the SageMaker Studio by following [this instructions](https://docs.aws.amazon.com/sagemaker/latest/dg/canvas-getting-started.html#canvas-getting-started-step1)."
   ]
  },
  {
   "cell_type": "markdown",
   "id": "22ce2c7f-1541-4653-876a-9f90a4c49d4a",
   "metadata": {},
   "source": [
    "### Experiment 1: load and explore time series\n",
    "\n",
    "[Import data into Canvas](https://docs.aws.amazon.com/sagemaker/latest/dg/canvas-importing-data.html)\n",
    "\n",
    "[Import tabular data](https://docs.aws.amazon.com/sagemaker/latest/dg/canvas-import-dataset.html#canvas-import-dataset-tabular)\n",
    "\n",
    "As the data source choose Amazon S3 and use the S3 bucket and path printed by the previous code cell.\n",
    "\n",
    "You must import at least one dataset - the small one `canvas_ts_small.csv`. Optionally you can repeat import operation and create a new dataset in Canvas with the data from the full time series dataset - `canvas_ts_full.csv`.\n",
    "\n",
    "If you created two datasets, you will have them in the dataset list in Canvas. Note the size of the datasets:\n",
    "\n",
    "![](../img/canvas-datasets.png)"
   ]
  },
  {
   "cell_type": "markdown",
   "id": "a1d81893-180e-403d-85d7-7b407e70d49e",
   "metadata": {},
   "source": [
    "\n",
    "[Prepare data](https://docs.aws.amazon.com/sagemaker/latest/dg/canvas-data-prep.html)\n",
    "\n",
    "[Create a Data Flow](https://docs.aws.amazon.com/sagemaker/latest/dg/canvas-data-flow.html)\n"
   ]
  },
  {
   "cell_type": "markdown",
   "id": "073c6a31-1015-4fca-8119-c9564a78ed28",
   "metadata": {},
   "source": [
    "#### Visualizations\n",
    "\n",
    "[Seasonal trend decomposition in time series data](https://docs.aws.amazon.com/sagemaker/latest/dg/canvas-analyses.html#canvas-seasonal-trend-decomposition)\n",
    "\n",
    "![](../img/canvas-analysis-config.png)\n",
    "\n",
    "[Detect anomalies in time series data](https://docs.aws.amazon.com/sagemaker/latest/dg/canvas-analyses.html#canvas-time-series-anomaly-detection)\n",
    "\n"
   ]
  },
  {
   "cell_type": "markdown",
   "id": "2b4226fd-50e6-4797-93c6-c91a653e86d3",
   "metadata": {},
   "source": [
    "#### Transformations\n",
    "\n",
    "[Transform Time Series](https://docs.aws.amazon.com/sagemaker/latest/dg/canvas-transform.html#canvas-transform-time-series)\n",
    "\n",
    "[Chat for data prep](https://docs.aws.amazon.com/sagemaker/latest/dg/canvas-chat-for-data-prep.html)"
   ]
  },
  {
   "cell_type": "markdown",
   "id": "23ca3ada-f2a2-4580-8db1-392e9aa15289",
   "metadata": {},
   "source": [
    "#### Export data\n",
    "\n",
    "[Process data](https://docs.aws.amazon.com/sagemaker/latest/dg/canvas-data-processing.html)\n",
    "\n",
    "- create a model with the prepared data\n",
    "- export the dataset to Canvas or to Amazon S3\n",
    "- export data flow as Python code in a Jupyter notebook"
   ]
  },
  {
   "cell_type": "code",
   "execution_count": null,
   "id": "04ac29fa-35e4-4963-a022-d6546f24bd47",
   "metadata": {},
   "outputs": [],
   "source": []
  },
  {
   "cell_type": "markdown",
   "id": "b3fb8d5a-3c09-4235-8601-093b03113ac4",
   "metadata": {},
   "source": [
    "### Experiment 1: create and configure a model\n",
    "\n",
    "[Build a custom model](https://docs.aws.amazon.com/sagemaker/latest/dg/canvas-build-model.html)\n",
    "\n",
    "[Time Series Forecasts in Amazon SageMaker Canvas](https://docs.aws.amazon.com/sagemaker/latest/dg/canvas-time-series.html)\n",
    "\n",
    "Limit|Time series forecasting\n",
    "---|---\n",
    "Quick build time|2-20 min\n",
    "Standard build time|2-4 hours\n",
    "Downsample size|30GB\n",
    "Min number of rows for Quick build|N/A\n",
    "Min number of rows for Standard build|50\n",
    "Max number of rows for Quick build|N/A\n",
    "Max number of rows for Standard build|150K\n",
    "Max number of columns|1K\n",
    "\n",
    "Navigate to the **Datasets** view, choose the small dataset you've just imported and choose **Create a model**:\n",
    "\n",
    "![](../img/canvas-create-model.png)\n",
    "\n",
    "\n",
    "Configure your model on the model page:\n",
    "\n",
    "![](../img/canvas-configure-model-config.png)\n",
    "\n",
    "- Select the `consumption` column as **Target column**\n",
    "- Select **Configure model**:\n",
    "    - Choose correct column names: `mt_id` as **Item ID column** and `ts` as **time stamp column**\n",
    "    - enter 30 hours for prediction length if you use 1h sampling or 7 days if you use 1d sampling. **Note that for Quick build you can choose maximum 30 hours as a prediction interval**\n",
    "    - choose Avg. wQL as the **Objective metric**\n",
    "    - choose algorithms in the **Algorithms** view\n",
    "    - keep default `0.10, 0.50, 0.90` forecast quantiles\n",
    "\n",
    "Refer to the documentation on [Advanced time series forecasting model settings](https://docs.aws.amazon.com/sagemaker/latest/dg/canvas-advanced-settings.html#canvas-advanced-settings-time-series) for more details on algorithms and settings."
   ]
  },
  {
   "cell_type": "markdown",
   "id": "044c6c3e-3e21-4d7e-900f-1c2f15fa05a5",
   "metadata": {},
   "source": [
    "### Experiment 2: quick build mode\n",
    "\n",
    "If you choose to do a **Quick build** on a dataset with more than 50,000 rows, then Canvas samples your data down to 50,000 rows for a shorter model training time.\n",
    "\n"
   ]
  },
  {
   "cell_type": "markdown",
   "id": "6a409630-b673-4a44-9aca-9989ab98e081",
   "metadata": {},
   "source": [
    "#### Analyze\n",
    "\n",
    "[Evaluate time series forecasting models](https://docs.aws.amazon.com/sagemaker/latest/dg/canvas-scoring.html#canvas-scoring-time-series)\n",
    "\n",
    "Here is the screenshot of the model metrics for 1h sampling small dataset:\n",
    "![](../img/canvas-analyze-quick-build.png)"
   ]
  },
  {
   "cell_type": "markdown",
   "id": "58ab1c90-0847-44e7-aa6b-a5dc376bb83b",
   "metadata": {},
   "source": [
    "#### Predict\n",
    "\n",
    "[Make predictions for your data](https://docs.aws.amazon.com/sagemaker/latest/dg/canvas-make-predictions.html)\n",
    "\n",
    "![](../img/canvas-predictions.png)\n",
    "\n",
    "To generate predictions after you build a model in Canvas, Canvas automatically deploys an asynchronous SageMaker endpoint into your AWS account. Canvas uses the endpoint to generate a single prediction. For batch predictions, Canvas starts a SageMaker batch transform job. The endpoint deployed by Canvas can be used only for in-app predictions and cannot be used outside Canvas.\n",
    "\n",
    "You can see these inference endpoins in the Studio UI by opening the link constructe by the code cell below."
   ]
  },
  {
   "cell_type": "code",
   "execution_count": 87,
   "id": "7c0cc4a5-7a20-43d3-8b47-b34a464574ec",
   "metadata": {},
   "outputs": [
    {
     "data": {
      "text/html": [
       "<b>See <a target=\"top\" href=\"https://studio-d-d345khpp52hx.studio.us-east-1.sagemaker.aws/inference-experience/endpoints\">inference endpoints</a> in the Studio UI</b>"
      ],
      "text/plain": [
       "<IPython.core.display.HTML object>"
      ]
     },
     "metadata": {},
     "output_type": "display_data"
    }
   ],
   "source": [
    "from IPython.display import HTML\n",
    "\n",
    "# Show the inference endpoints link\n",
    "display(\n",
    "    HTML('<b>See <a target=\"top\" href=\"https://studio-{}.studio.{}.sagemaker.aws/inference-experience/endpoints\">inference endpoints</a> in the Studio UI</b>'.format(\n",
    "            domain_id, region))\n",
    ")"
   ]
  },
  {
   "cell_type": "markdown",
   "id": "843d7d82-d1e9-417b-a4e4-f746f8c2c9e9",
   "metadata": {},
   "source": [
    "### Experiment 3: standard build mode\n",
    "\n",
    "In standard build mode Canvas trains the [six built-in algorithms]((https://docs.aws.amazon.com/sagemaker/latest/dg/timeseries-forecasting-algorithms.html)) with your target time series. Then, using a stacking ensemble method, it combines these model candidates to create an optimal forecasting model for a given objective metric. A standard build usually takes about 1-4 hours.\n",
    "\n",
    "To start a standard build, you need to create a new model version. Refer to the documentation [Adding model versions in Amazon SageMaker Canvas](https://docs.aws.amazon.com/sagemaker/latest/dg/canvas-update-model.html) for more details on model versioning in Canvas.\n",
    "\n",
    "To create a new model version navigate to the **My Models** view and choose **View** on your model. Create a new version for the standard build:\n",
    "\n",
    "![](../img/canvas-model-new-version.png)\n",
    "\n",
    "In the **Build** view select **Configure model** and enter 168 hours for prediction length if you use 1h sampling or 7 days if you use 1d sampling. \n",
    "    \n",
    "Now select **Standard build**. Canvas starts the model building. You can navigate away from that page."
   ]
  },
  {
   "cell_type": "code",
   "execution_count": null,
   "id": "e2893ae8-932c-4ba3-aba1-f35d0d320a2b",
   "metadata": {},
   "outputs": [],
   "source": []
  },
  {
   "attachments": {},
   "cell_type": "markdown",
   "id": "ab5ce423-fb99-4099-9bc8-d917053edcd1",
   "metadata": {},
   "source": [
    "#### Analyze\n",
    "\n",
    "![](../img/canvas-build-comparison.png)\n",
    "\n",
    "![](../img/canvas-analyze-standard-build.png)\n",
    "\n",
    "\n",
    "\n",
    "Artifacts\n",
    "\n",
    "[Model leaderboard](https://docs.aws.amazon.com/sagemaker/latest/dg/canvas-evaluate-model-candidates.html)\n",
    "\n",
    "![](../img/canvas-model-leaderboard.png)"
   ]
  },
  {
   "cell_type": "markdown",
   "id": "92f4ba78-2572-4a1e-a704-b6533b2fb557",
   "metadata": {},
   "source": [
    "#### Predict\n",
    "\n",
    "As with the quick build, Canvas automatically deploys an asynchronous SageMaker endpoint to your AWS account. This endpoint cannot be used outside Canvas. If you'd like to deploy a SageMaker endpoint hosting this model, you can use Canvas **Deploy** feature."
   ]
  },
  {
   "cell_type": "code",
   "execution_count": null,
   "id": "e89ad298-cbab-47fc-99cd-dcb13d6dc265",
   "metadata": {},
   "outputs": [],
   "source": []
  },
  {
   "cell_type": "markdown",
   "id": "c62a08b3-db40-4623-b281-8a1048a0ad53",
   "metadata": {},
   "source": [
    "### Experiment 4: register a model in the Model Registry\n",
    "\n",
    "[Register a model version in the SageMaker model registry](https://docs.aws.amazon.com/sagemaker/latest/dg/canvas-register-model.html)\n",
    "\n",
    "\n",
    "To keep your model in a central model registry you can register the model directly from Canvas UI:\n",
    "\n",
    "![](../img/canvas-add-to-model-registry.png)\n",
    "\n",
    "Canvas also shows the model package details:\n",
    "\n",
    "![](../img/canvas-model-registry-details.png)\n",
    "\n",
    "You can now use \"Model package group name\" to have access to a model version via boto3 API."
   ]
  },
  {
   "cell_type": "code",
   "execution_count": 61,
   "id": "df55fb07-e99e-46ce-916b-2926e6598fdf",
   "metadata": {},
   "outputs": [
    {
     "data": {
      "text/html": [
       "<b>See <a target=\"top\" href=\"https://studio-d-d345khpp52hx.studio.us-east-1.sagemaker.aws/models/registered-models\">model registry</a> in the Studio UI</b>"
      ],
      "text/plain": [
       "<IPython.core.display.HTML object>"
      ]
     },
     "metadata": {},
     "output_type": "display_data"
    }
   ],
   "source": [
    "# Show the model registry link\n",
    "display(\n",
    "    HTML('<b>See <a target=\"top\" href=\"https://studio-{}.studio.{}.sagemaker.aws/models/registered-models\">model registry</a> in the Studio UI</b>'.format(\n",
    "            domain_id, region))\n",
    ")"
   ]
  },
  {
   "cell_type": "markdown",
   "id": "ed499f8f-0fa9-4ba7-86ee-0185f25ae4dd",
   "metadata": {},
   "source": [
    "### Experiment 5: deploy the trained model as a SageMaker endpoint\n",
    "\n",
    "[Deploy your models to an endpoint](https://docs.aws.amazon.com/sagemaker/latest/dg/canvas-deploy-model.html)\n",
    "\n",
    "![](../img/canvas-model-deploy.png)\n",
    "\n",
    "You can also [view all deployments](https://docs.aws.amazon.com/sagemaker/latest/dg/canvas-deploy-model.html#canvas-deploy-model-view) of the model in the Canvas UI on the model version page or in **MLOps** view."
   ]
  },
  {
   "cell_type": "code",
   "execution_count": 85,
   "id": "1a3a07d8-4012-433d-ac75-fa35b02579b7",
   "metadata": {},
   "outputs": [
    {
     "data": {
      "text/html": [
       "<b>See <a target=\"top\" href=\"https://studio-d-d345khpp52hx.studio.us-east-1.sagemaker.aws/inference-experience/endpoints\">inference endpoints</a> in the Studio UI</b>"
      ],
      "text/plain": [
       "<IPython.core.display.HTML object>"
      ]
     },
     "metadata": {},
     "output_type": "display_data"
    }
   ],
   "source": [
    "# Show the inference endpoints link\n",
    "display(\n",
    "    HTML('<b>See <a target=\"top\" href=\"https://studio-{}.studio.{}.sagemaker.aws/inference-experience/endpoints\">inference endpoints</a> in the Studio UI</b>'.format(\n",
    "            domain_id, region))\n",
    ")"
   ]
  },
  {
   "cell_type": "markdown",
   "id": "f168eed9-8624-48c8-91c7-35aa2f746581",
   "metadata": {},
   "source": [
    "## Compare Canvas model performance\n",
    "\n",
    "Canvas calculates these advanced [metrics for time series forecasts](https://docs.aws.amazon.com/sagemaker/latest/dg/canvas-metrics.html#canvas-time-series-forecast-metrics) for each model training runs and both quick and standard builds. Refer also to Amazon SageMaker Autopilot [time series metrics](https://docs.aws.amazon.com/sagemaker/latest/dg/timeseries-objective-metric.html) for more details.\n",
    "\n",
    "The following table summarizes build metrics for different datasets. Note that your metrics might differ especially for small datasets because the time series in the small datasets are randomly selected from the full set of 370 time series.\n",
    "\n",
    "Dataset|Build|WAPE|Avg. wQL|MAPE|MASE|RMSE\n",
    "---|---|---|---|---|---|---\n",
    "Small 1h|Standard|0.180|**0.131**|0.320|0.402|36.419\n",
    "Small 1h|Quick|0.170|**0.138**|0.320|1.683|37.239\n",
    "Small 1d|Standard|0.226|**0.176**|24.413|0.737|71.674\n",
    "Small 1d|Quick|0.223|**0.198**|25.069|3.509|71.550\n",
    "Full 1h|Standard|0.161|**0.121**|0.611|3.007|525.860\n",
    "Full 1h|Quick|0.170|**0.122**|2.063|1.438|166.361\n",
    "Full 1d|Standard|0.247|**0.195**|29.616|5.478|743.551\n",
    "Full 1d|Quick|0.188|**0.168**|48.062|3.718|218.941\n"
   ]
  },
  {
   "cell_type": "code",
   "execution_count": null,
   "id": "29962679-6f72-416f-a2bc-9f11ce08d5d8",
   "metadata": {},
   "outputs": [],
   "source": []
  },
  {
   "cell_type": "markdown",
   "id": "6088e2f5-7a5b-46d4-ba0b-8797549ebc66",
   "metadata": {},
   "source": [
    "---"
   ]
  },
  {
   "cell_type": "markdown",
   "id": "609858f8-a86b-444e-958f-ae46c781d3fd",
   "metadata": {},
   "source": [
    "## Clean up"
   ]
  },
  {
   "cell_type": "markdown",
   "id": "604cc4e5-66bd-4264-a6d9-0a751b6e1ebe",
   "metadata": {},
   "source": [
    "### Delete unused inference endpoints\n",
    "If you deployed any Canvas model to a SageMaker endpoint, delete the deployed endpoints to avoid incurring costs.\n",
    "\n",
    "Run the code cell below to see what endpoints exists in your AWS account."
   ]
  },
  {
   "cell_type": "code",
   "execution_count": 83,
   "id": "0414de0e-534e-4070-a340-fb7e1af854b8",
   "metadata": {},
   "outputs": [],
   "source": [
    "endpoints = boto3.client(\"sagemaker\").list_endpoints()"
   ]
  },
  {
   "cell_type": "code",
   "execution_count": 84,
   "id": "9ee2ca81-e5b9-43c6-8baa-6c4e44259ffd",
   "metadata": {},
   "outputs": [
    {
     "data": {
      "text/plain": [
       "['canvas-new-deployment-08-23-2024-10-41-PM -> InService']"
      ]
     },
     "execution_count": 84,
     "metadata": {},
     "output_type": "execute_result"
    }
   ],
   "source": [
    "[f\"{e['EndpointName']} -> {e['EndpointStatus']}\" for e in endpoints['Endpoints'] if 'async' not in e['EndpointName']]"
   ]
  },
  {
   "cell_type": "markdown",
   "id": "621df44b-56d0-4b88-853d-d6fe0a7334e7",
   "metadata": {},
   "source": [
    "### Log out of Canvas UI\n",
    "[Log out](https://docs.aws.amazon.com/sagemaker/latest/dg/canvas-log-out.html) of Canvas after you finished working with it."
   ]
  },
  {
   "cell_type": "code",
   "execution_count": null,
   "id": "96d88209-4761-4988-ac61-80282030a043",
   "metadata": {},
   "outputs": [],
   "source": []
  }
 ],
 "metadata": {
  "kernelspec": {
   "display_name": "Python 3 (ipykernel)",
   "language": "python",
   "name": "python3"
  },
  "language_info": {
   "codemirror_mode": {
    "name": "ipython",
    "version": 3
   },
   "file_extension": ".py",
   "mimetype": "text/x-python",
   "name": "python",
   "nbconvert_exporter": "python",
   "pygments_lexer": "ipython3",
   "version": "3.10.14"
  }
 },
 "nbformat": 4,
 "nbformat_minor": 5
}
